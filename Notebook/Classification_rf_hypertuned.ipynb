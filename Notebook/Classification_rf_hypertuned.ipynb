{
  "nbformat": 4,
  "nbformat_minor": 0,
  "metadata": {
    "colab": {
      "name": "Classification_rf_hypertuned.ipynb",
      "provenance": [],
      "collapsed_sections": [],
      "authorship_tag": "ABX9TyMwP42Df4PPqTN4GBdOQEZU",
      "include_colab_link": true
    },
    "kernelspec": {
      "name": "python3",
      "display_name": "Python 3"
    },
    "language_info": {
      "name": "python"
    }
  },
  "cells": [
    {
      "cell_type": "markdown",
      "metadata": {
        "id": "view-in-github",
        "colab_type": "text"
      },
      "source": [
        "<a href=\"https://colab.research.google.com/github/ranpei97/E4511-2021-Pei/blob/main/Notebook/Classification_rf_hypertuned.ipynb\" target=\"_parent\"><img src=\"https://colab.research.google.com/assets/colab-badge.svg\" alt=\"Open In Colab\"/></a>"
      ]
    },
    {
      "cell_type": "code",
      "metadata": {
        "colab": {
          "base_uri": "https://localhost:8080/"
        },
        "id": "I7ktC0LgPIgY",
        "outputId": "d4f8aa37-13de-42c1-993f-b532acc6f580"
      },
      "source": [
        "%tensorflow_version 1.x"
      ],
      "execution_count": null,
      "outputs": [
        {
          "output_type": "stream",
          "text": [
            "TensorFlow 1.x selected.\n"
          ],
          "name": "stdout"
        }
      ]
    },
    {
      "cell_type": "code",
      "metadata": {
        "colab": {
          "base_uri": "https://localhost:8080/"
        },
        "id": "6xzqvkngPNKl",
        "outputId": "091f7085-9c0e-4821-9114-07c9eb953ad9"
      },
      "source": [
        "! wget -c https://repo.anaconda.com/archive/Anaconda3-2019.10-Linux-x86_64.sh\n",
        "! chmod +x Anaconda3-2019.10-Linux-x86_64.sh\n",
        "! bash ./Anaconda3-2019.10-Linux-x86_64.sh -b -f -p /usr/local\n",
        "\n",
        "# ! wget -c https://repo.anaconda.com/miniconda/Miniconda3-py37_4.9.2-Linux-x86_64.sh \n",
        "# ! chmod +x Miniconda3-py37_4.9.2-Linux-x86_64.sh\n",
        "# ! time bash Miniconda3-py37_4.9.2-Linux-x86_64.sh -b -f -p /usr/local\n",
        "\n",
        "! time conda install -y -c deepchem -c rdkit -c conda-forge -c omnia deepchem-gpu=2.3.0\n",
        "import sys\n",
        "sys.path.append('/usr/local/lib/python3.7/site-packages/')\n",
        "\n",
        "!pip install mordred\n",
        "!pip install --upgrade bravado\n",
        "!pip install molvs\n",
        "\n",
        "!wget https://raw.githubusercontent.com/ravichas/AMPL-Tutorial/master/config/install_AMPL_GPU_test.sh\n",
        "\n",
        "! chmod u+x install_AMPL_GPU_test.sh\n",
        "! ./install_AMPL_GPU_test.sh"
      ],
      "execution_count": null,
      "outputs": [
        {
          "output_type": "stream",
          "text": [
            "--2021-04-28 02:09:29--  https://repo.anaconda.com/archive/Anaconda3-2019.10-Linux-x86_64.sh\n",
            "Resolving repo.anaconda.com (repo.anaconda.com)... 104.16.131.3, 104.16.130.3, 2606:4700::6810:8203, ...\n",
            "Connecting to repo.anaconda.com (repo.anaconda.com)|104.16.131.3|:443... connected.\n",
            "HTTP request sent, awaiting response... 200 OK\n",
            "Length: 530308481 (506M) [application/x-sh]\n",
            "Saving to: ‘Anaconda3-2019.10-Linux-x86_64.sh’\n",
            "\n",
            "Anaconda3-2019.10-L 100%[===================>] 505.74M   152MB/s    in 3.4s    \n",
            "\n",
            "2021-04-28 02:09:33 (150 MB/s) - ‘Anaconda3-2019.10-Linux-x86_64.sh’ saved [530308481/530308481]\n",
            "\n",
            "PREFIX=/usr/local\n",
            "Unpacking payload ...\n",
            "Collecting package metadata (current_repodata.json): - \b\b\\ \b\b| \b\b/ \b\b- \b\b\\ \b\b| \b\b/ \b\b- \b\bdone\n",
            "Solving environment: | \b\b/ \b\b- \b\b\\ \b\b| \b\b/ \b\b- \b\b\\ \b\b| \b\b/ \b\b- \b\b\\ \b\b| \b\b/ \b\b- \b\b\\ \b\b| \b\b/ \b\b- \b\b\\ \b\bdone\n",
            "\n",
            "## Package Plan ##\n",
            "\n",
            "  environment location: /usr/local\n",
            "\n",
            "  added / updated specs:\n",
            "    - _ipyw_jlab_nb_ext_conf==0.1.0=py37_0\n",
            "    - _libgcc_mutex==0.1=main\n",
            "    - alabaster==0.7.12=py37_0\n",
            "    - anaconda-client==1.7.2=py37_0\n",
            "    - anaconda-navigator==1.9.7=py37_0\n",
            "    - anaconda-project==0.8.3=py_0\n",
            "    - anaconda==2019.10=py37_0\n",
            "    - asn1crypto==1.0.1=py37_0\n",
            "    - astroid==2.3.1=py37_0\n",
            "    - astropy==3.2.2=py37h7b6447c_0\n",
            "    - atomicwrites==1.3.0=py37_1\n",
            "    - attrs==19.2.0=py_0\n",
            "    - babel==2.7.0=py_0\n",
            "    - backcall==0.1.0=py37_0\n",
            "    - backports.functools_lru_cache==1.5=py_2\n",
            "    - backports.os==0.1.1=py37_0\n",
            "    - backports.shutil_get_terminal_size==1.0.0=py37_2\n",
            "    - backports.tempfile==1.0=py_1\n",
            "    - backports.weakref==1.0.post1=py_1\n",
            "    - backports==1.0=py_2\n",
            "    - beautifulsoup4==4.8.0=py37_0\n",
            "    - bitarray==1.0.1=py37h7b6447c_0\n",
            "    - bkcharts==0.2=py37_0\n",
            "    - blas==1.0=mkl\n",
            "    - bleach==3.1.0=py37_0\n",
            "    - blosc==1.16.3=hd408876_0\n",
            "    - bokeh==1.3.4=py37_0\n",
            "    - boto==2.49.0=py37_0\n",
            "    - bottleneck==1.2.1=py37h035aef0_1\n",
            "    - bzip2==1.0.8=h7b6447c_0\n",
            "    - ca-certificates==2019.8.28=0\n",
            "    - cairo==1.14.12=h8948797_3\n",
            "    - certifi==2019.9.11=py37_0\n",
            "    - cffi==1.12.3=py37h2e261b9_0\n",
            "    - chardet==3.0.4=py37_1003\n",
            "    - click==7.0=py37_0\n",
            "    - cloudpickle==1.2.2=py_0\n",
            "    - clyent==1.2.2=py37_1\n",
            "    - colorama==0.4.1=py37_0\n",
            "    - conda-build==3.18.9=py37_3\n",
            "    - conda-env==2.6.0=1\n",
            "    - conda-package-handling==1.6.0=py37h7b6447c_0\n",
            "    - conda-verify==3.4.2=py_1\n",
            "    - conda==4.7.12=py37_0\n",
            "    - contextlib2==0.6.0=py_0\n",
            "    - cryptography==2.7=py37h1ba5d50_0\n",
            "    - curl==7.65.3=hbc83047_0\n",
            "    - cycler==0.10.0=py37_0\n",
            "    - cython==0.29.13=py37he6710b0_0\n",
            "    - cytoolz==0.10.0=py37h7b6447c_0\n",
            "    - dask-core==2.5.2=py_0\n",
            "    - dask==2.5.2=py_0\n",
            "    - dbus==1.13.6=h746ee38_0\n",
            "    - decorator==4.4.0=py37_1\n",
            "    - defusedxml==0.6.0=py_0\n",
            "    - distributed==2.5.2=py_0\n",
            "    - docutils==0.15.2=py37_0\n",
            "    - entrypoints==0.3=py37_0\n",
            "    - et_xmlfile==1.0.1=py37_0\n",
            "    - expat==2.2.6=he6710b0_0\n",
            "    - fastcache==1.1.0=py37h7b6447c_0\n",
            "    - filelock==3.0.12=py_0\n",
            "    - flask==1.1.1=py_0\n",
            "    - fontconfig==2.13.0=h9420a91_0\n",
            "    - freetype==2.9.1=h8a8886c_1\n",
            "    - fribidi==1.0.5=h7b6447c_0\n",
            "    - fsspec==0.5.2=py_0\n",
            "    - future==0.17.1=py37_0\n",
            "    - get_terminal_size==1.0.0=haa9412d_0\n",
            "    - gevent==1.4.0=py37h7b6447c_0\n",
            "    - glib==2.56.2=hd408876_0\n",
            "    - glob2==0.7=py_0\n",
            "    - gmp==6.1.2=h6c8ec71_1\n",
            "    - gmpy2==2.0.8=py37h10f8cd9_2\n",
            "    - graphite2==1.3.13=h23475e2_0\n",
            "    - greenlet==0.4.15=py37h7b6447c_0\n",
            "    - gst-plugins-base==1.14.0=hbbd80ab_1\n",
            "    - gstreamer==1.14.0=hb453b48_1\n",
            "    - h5py==2.9.0=py37h7918eee_0\n",
            "    - harfbuzz==1.8.8=hffaf4a1_0\n",
            "    - hdf5==1.10.4=hb1b8bf9_0\n",
            "    - heapdict==1.0.1=py_0\n",
            "    - html5lib==1.0.1=py37_0\n",
            "    - icu==58.2=h9c2bf20_1\n",
            "    - idna==2.8=py37_0\n",
            "    - imageio==2.6.0=py37_0\n",
            "    - imagesize==1.1.0=py37_0\n",
            "    - importlib_metadata==0.23=py37_0\n",
            "    - intel-openmp==2019.4=243\n",
            "    - ipykernel==5.1.2=py37h39e3cac_0\n",
            "    - ipython==7.8.0=py37h39e3cac_0\n",
            "    - ipython_genutils==0.2.0=py37_0\n",
            "    - ipywidgets==7.5.1=py_0\n",
            "    - isort==4.3.21=py37_0\n",
            "    - itsdangerous==1.1.0=py37_0\n",
            "    - jbig==2.1=hdba287a_0\n",
            "    - jdcal==1.4.1=py_0\n",
            "    - jedi==0.15.1=py37_0\n",
            "    - jeepney==0.4.1=py_0\n",
            "    - jinja2==2.10.3=py_0\n",
            "    - joblib==0.13.2=py37_0\n",
            "    - jpeg==9b=h024ee3a_2\n",
            "    - json5==0.8.5=py_0\n",
            "    - jsonschema==3.0.2=py37_0\n",
            "    - jupyter==1.0.0=py37_7\n",
            "    - jupyter_client==5.3.3=py37_1\n",
            "    - jupyter_console==6.0.0=py37_0\n",
            "    - jupyter_core==4.5.0=py_0\n",
            "    - jupyterlab==1.1.4=pyhf63ae98_0\n",
            "    - jupyterlab_server==1.0.6=py_0\n",
            "    - keyring==18.0.0=py37_0\n",
            "    - kiwisolver==1.1.0=py37he6710b0_0\n",
            "    - krb5==1.16.1=h173b8e3_7\n",
            "    - lazy-object-proxy==1.4.2=py37h7b6447c_0\n",
            "    - libarchive==3.3.3=h5d8350f_5\n",
            "    - libcurl==7.65.3=h20c2e04_0\n",
            "    - libedit==3.1.20181209=hc058e9b_0\n",
            "    - libffi==3.2.1=hd88cf55_4\n",
            "    - libgcc-ng==9.1.0=hdf63c60_0\n",
            "    - libgfortran-ng==7.3.0=hdf63c60_0\n",
            "    - liblief==0.9.0=h7725739_2\n",
            "    - libpng==1.6.37=hbc83047_0\n",
            "    - libsodium==1.0.16=h1bed415_0\n",
            "    - libssh2==1.8.2=h1ba5d50_0\n",
            "    - libstdcxx-ng==9.1.0=hdf63c60_0\n",
            "    - libtiff==4.0.10=h2733197_2\n",
            "    - libtool==2.4.6=h7b6447c_5\n",
            "    - libuuid==1.0.3=h1bed415_2\n",
            "    - libxcb==1.13=h1bed415_1\n",
            "    - libxml2==2.9.9=hea5a465_1\n",
            "    - libxslt==1.1.33=h7d1a2b0_0\n",
            "    - llvmlite==0.29.0=py37hd408876_0\n",
            "    - locket==0.2.0=py37_1\n",
            "    - lxml==4.4.1=py37hefd8a0e_0\n",
            "    - lz4-c==1.8.1.2=h14c3975_0\n",
            "    - lzo==2.10=h49e0be7_2\n",
            "    - markupsafe==1.1.1=py37h7b6447c_0\n",
            "    - matplotlib==3.1.1=py37h5429711_0\n",
            "    - mccabe==0.6.1=py37_1\n",
            "    - mistune==0.8.4=py37h7b6447c_0\n",
            "    - mkl-service==2.3.0=py37he904b0f_0\n",
            "    - mkl==2019.4=243\n",
            "    - mkl_fft==1.0.14=py37ha843d7b_0\n",
            "    - mkl_random==1.1.0=py37hd6b4f25_0\n",
            "    - mock==3.0.5=py37_0\n",
            "    - more-itertools==7.2.0=py37_0\n",
            "    - mpc==1.1.0=h10f8cd9_1\n",
            "    - mpfr==4.0.1=hdf1c602_3\n",
            "    - mpmath==1.1.0=py37_0\n",
            "    - msgpack-python==0.6.1=py37hfd86e86_1\n",
            "    - multipledispatch==0.6.0=py37_0\n",
            "    - navigator-updater==0.2.1=py37_0\n",
            "    - nbconvert==5.6.0=py37_1\n",
            "    - nbformat==4.4.0=py37_0\n",
            "    - ncurses==6.1=he6710b0_1\n",
            "    - networkx==2.3=py_0\n",
            "    - nltk==3.4.5=py37_0\n",
            "    - nose==1.3.7=py37_2\n",
            "    - notebook==6.0.1=py37_0\n",
            "    - numba==0.45.1=py37h962f231_0\n",
            "    - numexpr==2.7.0=py37h9e4a6bb_0\n",
            "    - numpy-base==1.17.2=py37hde5b4d6_0\n",
            "    - numpy==1.17.2=py37haad9e8e_0\n",
            "    - numpydoc==0.9.1=py_0\n",
            "    - olefile==0.46=py37_0\n",
            "    - openpyxl==3.0.0=py_0\n",
            "    - openssl==1.1.1d=h7b6447c_2\n",
            "    - packaging==19.2=py_0\n",
            "    - pandas==0.25.1=py37he6710b0_0\n",
            "    - pandoc==2.2.3.2=0\n",
            "    - pandocfilters==1.4.2=py37_1\n",
            "    - pango==1.42.4=h049681c_0\n",
            "    - parso==0.5.1=py_0\n",
            "    - partd==1.0.0=py_0\n",
            "    - patchelf==0.9=he6710b0_3\n",
            "    - path.py==12.0.1=py_0\n",
            "    - pathlib2==2.3.5=py37_0\n",
            "    - patsy==0.5.1=py37_0\n",
            "    - pcre==8.43=he6710b0_0\n",
            "    - pep8==1.7.1=py37_0\n",
            "    - pexpect==4.7.0=py37_0\n",
            "    - pickleshare==0.7.5=py37_0\n",
            "    - pillow==6.2.0=py37h34e0f95_0\n",
            "    - pip==19.2.3=py37_0\n",
            "    - pixman==0.38.0=h7b6447c_0\n",
            "    - pkginfo==1.5.0.1=py37_0\n",
            "    - pluggy==0.13.0=py37_0\n",
            "    - ply==3.11=py37_0\n",
            "    - prometheus_client==0.7.1=py_0\n",
            "    - prompt_toolkit==2.0.10=py_0\n",
            "    - psutil==5.6.3=py37h7b6447c_0\n",
            "    - ptyprocess==0.6.0=py37_0\n",
            "    - py-lief==0.9.0=py37h7725739_2\n",
            "    - py==1.8.0=py37_0\n",
            "    - pycodestyle==2.5.0=py37_0\n",
            "    - pycosat==0.6.3=py37h14c3975_0\n",
            "    - pycparser==2.19=py37_0\n",
            "    - pycrypto==2.6.1=py37h14c3975_9\n",
            "    - pycurl==7.43.0.3=py37h1ba5d50_0\n",
            "    - pyflakes==2.1.1=py37_0\n",
            "    - pygments==2.4.2=py_0\n",
            "    - pylint==2.4.2=py37_0\n",
            "    - pyodbc==4.0.27=py37he6710b0_0\n",
            "    - pyopenssl==19.0.0=py37_0\n",
            "    - pyparsing==2.4.2=py_0\n",
            "    - pyqt==5.9.2=py37h05f1152_2\n",
            "    - pyrsistent==0.15.4=py37h7b6447c_0\n",
            "    - pysocks==1.7.1=py37_0\n",
            "    - pytables==3.5.2=py37h71ec239_1\n",
            "    - pytest-arraydiff==0.3=py37h39e3cac_0\n",
            "    - pytest-astropy==0.5.0=py37_0\n",
            "    - pytest-doctestplus==0.4.0=py_0\n",
            "    - pytest-openfiles==0.4.0=py_0\n",
            "    - pytest-remotedata==0.3.2=py37_0\n",
            "    - pytest==5.2.1=py37_0\n",
            "    - python-dateutil==2.8.0=py37_0\n",
            "    - python-libarchive-c==2.8=py37_13\n",
            "    - python==3.7.4=h265db76_1\n",
            "    - pytz==2019.3=py_0\n",
            "    - pywavelets==1.0.3=py37hdd07704_1\n",
            "    - pyyaml==5.1.2=py37h7b6447c_0\n",
            "    - pyzmq==18.1.0=py37he6710b0_0\n",
            "    - qt==5.9.7=h5867ecd_1\n",
            "    - qtawesome==0.6.0=py_0\n",
            "    - qtconsole==4.5.5=py_0\n",
            "    - qtpy==1.9.0=py_0\n",
            "    - readline==7.0=h7b6447c_5\n",
            "    - requests==2.22.0=py37_0\n",
            "    - ripgrep==0.10.0=hc07d326_0\n",
            "    - rope==0.14.0=py_0\n",
            "    - ruamel_yaml==0.15.46=py37h14c3975_0\n",
            "    - scikit-image==0.15.0=py37he6710b0_0\n",
            "    - scikit-learn==0.21.3=py37hd81dba3_0\n",
            "    - scipy==1.3.1=py37h7c811a0_0\n",
            "    - seaborn==0.9.0=py37_0\n",
            "    - secretstorage==3.1.1=py37_0\n",
            "    - send2trash==1.5.0=py37_0\n",
            "    - setuptools==41.4.0=py37_0\n",
            "    - simplegeneric==0.8.1=py37_2\n",
            "    - singledispatch==3.4.0.3=py37_0\n",
            "    - sip==4.19.8=py37hf484d3e_0\n",
            "    - six==1.12.0=py37_0\n",
            "    - snappy==1.1.7=hbae5bb6_3\n",
            "    - snowballstemmer==2.0.0=py_0\n",
            "    - sortedcollections==1.1.2=py37_0\n",
            "    - sortedcontainers==2.1.0=py37_0\n",
            "    - soupsieve==1.9.3=py37_0\n",
            "    - sphinx==2.2.0=py_0\n",
            "    - sphinxcontrib-applehelp==1.0.1=py_0\n",
            "    - sphinxcontrib-devhelp==1.0.1=py_0\n",
            "    - sphinxcontrib-htmlhelp==1.0.2=py_0\n",
            "    - sphinxcontrib-jsmath==1.0.1=py_0\n",
            "    - sphinxcontrib-qthelp==1.0.2=py_0\n",
            "    - sphinxcontrib-serializinghtml==1.1.3=py_0\n",
            "    - sphinxcontrib-websupport==1.1.2=py_0\n",
            "    - sphinxcontrib==1.0=py37_1\n",
            "    - spyder-kernels==0.5.2=py37_0\n",
            "    - spyder==3.3.6=py37_0\n",
            "    - sqlalchemy==1.3.9=py37h7b6447c_0\n",
            "    - sqlite==3.30.0=h7b6447c_0\n",
            "    - statsmodels==0.10.1=py37hdd07704_0\n",
            "    - sympy==1.4=py37_0\n",
            "    - tbb==2019.4=hfd86e86_0\n",
            "    - tblib==1.4.0=py_0\n",
            "    - terminado==0.8.2=py37_0\n",
            "    - testpath==0.4.2=py37_0\n",
            "    - tk==8.6.8=hbc83047_0\n",
            "    - toolz==0.10.0=py_0\n",
            "    - tornado==6.0.3=py37h7b6447c_0\n",
            "    - tqdm==4.36.1=py_0\n",
            "    - traitlets==4.3.3=py37_0\n",
            "    - unicodecsv==0.14.1=py37_0\n",
            "    - unixodbc==2.3.7=h14c3975_0\n",
            "    - urllib3==1.24.2=py37_0\n",
            "    - wcwidth==0.1.7=py37_0\n",
            "    - webencodings==0.5.1=py37_1\n",
            "    - werkzeug==0.16.0=py_0\n",
            "    - wheel==0.33.6=py37_0\n",
            "    - widgetsnbextension==3.5.1=py37_0\n",
            "    - wrapt==1.11.2=py37h7b6447c_0\n",
            "    - wurlitzer==1.0.3=py37_0\n",
            "    - xlrd==1.2.0=py37_0\n",
            "    - xlsxwriter==1.2.1=py_0\n",
            "    - xlwt==1.3.0=py37_0\n",
            "    - xz==5.2.4=h14c3975_4\n",
            "    - yaml==0.1.7=had09818_2\n",
            "    - zeromq==4.3.1=he6710b0_3\n",
            "    - zict==1.0.0=py_0\n",
            "    - zipp==0.6.0=py_0\n",
            "    - zlib==1.2.11=h7b6447c_3\n",
            "    - zstd==1.3.7=h0b5b093_0\n",
            "\n",
            "\n",
            "The following NEW packages will be INSTALLED:\n",
            "\n",
            "  _ipyw_jlab_nb_ext~ pkgs/main/linux-64::_ipyw_jlab_nb_ext_conf-0.1.0-py37_0\n",
            "  _libgcc_mutex      pkgs/main/linux-64::_libgcc_mutex-0.1-main\n",
            "  alabaster          pkgs/main/linux-64::alabaster-0.7.12-py37_0\n",
            "  anaconda           pkgs/main/linux-64::anaconda-2019.10-py37_0\n",
            "  anaconda-client    pkgs/main/linux-64::anaconda-client-1.7.2-py37_0\n",
            "  anaconda-navigator pkgs/main/linux-64::anaconda-navigator-1.9.7-py37_0\n",
            "  anaconda-project   pkgs/main/noarch::anaconda-project-0.8.3-py_0\n",
            "  asn1crypto         pkgs/main/linux-64::asn1crypto-1.0.1-py37_0\n",
            "  astroid            pkgs/main/linux-64::astroid-2.3.1-py37_0\n",
            "  astropy            pkgs/main/linux-64::astropy-3.2.2-py37h7b6447c_0\n",
            "  atomicwrites       pkgs/main/linux-64::atomicwrites-1.3.0-py37_1\n",
            "  attrs              pkgs/main/noarch::attrs-19.2.0-py_0\n",
            "  babel              pkgs/main/noarch::babel-2.7.0-py_0\n",
            "  backcall           pkgs/main/linux-64::backcall-0.1.0-py37_0\n",
            "  backports          pkgs/main/noarch::backports-1.0-py_2\n",
            "  backports.functoo~ pkgs/main/noarch::backports.functools_lru_cache-1.5-py_2\n",
            "  backports.os       pkgs/main/linux-64::backports.os-0.1.1-py37_0\n",
            "  backports.shutil_~ pkgs/main/linux-64::backports.shutil_get_terminal_size-1.0.0-py37_2\n",
            "  backports.tempfile pkgs/main/noarch::backports.tempfile-1.0-py_1\n",
            "  backports.weakref  pkgs/main/noarch::backports.weakref-1.0.post1-py_1\n",
            "  beautifulsoup4     pkgs/main/linux-64::beautifulsoup4-4.8.0-py37_0\n",
            "  bitarray           pkgs/main/linux-64::bitarray-1.0.1-py37h7b6447c_0\n",
            "  bkcharts           pkgs/main/linux-64::bkcharts-0.2-py37_0\n",
            "  blas               pkgs/main/linux-64::blas-1.0-mkl\n",
            "  bleach             pkgs/main/linux-64::bleach-3.1.0-py37_0\n",
            "  blosc              pkgs/main/linux-64::blosc-1.16.3-hd408876_0\n",
            "  bokeh              pkgs/main/linux-64::bokeh-1.3.4-py37_0\n",
            "  boto               pkgs/main/linux-64::boto-2.49.0-py37_0\n",
            "  bottleneck         pkgs/main/linux-64::bottleneck-1.2.1-py37h035aef0_1\n",
            "  bzip2              pkgs/main/linux-64::bzip2-1.0.8-h7b6447c_0\n",
            "  ca-certificates    pkgs/main/linux-64::ca-certificates-2019.8.28-0\n",
            "  cairo              pkgs/main/linux-64::cairo-1.14.12-h8948797_3\n",
            "  certifi            pkgs/main/linux-64::certifi-2019.9.11-py37_0\n",
            "  cffi               pkgs/main/linux-64::cffi-1.12.3-py37h2e261b9_0\n",
            "  chardet            pkgs/main/linux-64::chardet-3.0.4-py37_1003\n",
            "  click              pkgs/main/linux-64::click-7.0-py37_0\n",
            "  cloudpickle        pkgs/main/noarch::cloudpickle-1.2.2-py_0\n",
            "  clyent             pkgs/main/linux-64::clyent-1.2.2-py37_1\n",
            "  colorama           pkgs/main/linux-64::colorama-0.4.1-py37_0\n",
            "  conda              pkgs/main/linux-64::conda-4.7.12-py37_0\n",
            "  conda-build        pkgs/main/linux-64::conda-build-3.18.9-py37_3\n",
            "  conda-env          pkgs/main/linux-64::conda-env-2.6.0-1\n",
            "  conda-package-han~ pkgs/main/linux-64::conda-package-handling-1.6.0-py37h7b6447c_0\n",
            "  conda-verify       pkgs/main/noarch::conda-verify-3.4.2-py_1\n",
            "  contextlib2        pkgs/main/noarch::contextlib2-0.6.0-py_0\n",
            "  cryptography       pkgs/main/linux-64::cryptography-2.7-py37h1ba5d50_0\n",
            "  curl               pkgs/main/linux-64::curl-7.65.3-hbc83047_0\n",
            "  cycler             pkgs/main/linux-64::cycler-0.10.0-py37_0\n",
            "  cython             pkgs/main/linux-64::cython-0.29.13-py37he6710b0_0\n",
            "  cytoolz            pkgs/main/linux-64::cytoolz-0.10.0-py37h7b6447c_0\n",
            "  dask               pkgs/main/noarch::dask-2.5.2-py_0\n",
            "  dask-core          pkgs/main/noarch::dask-core-2.5.2-py_0\n",
            "  dbus               pkgs/main/linux-64::dbus-1.13.6-h746ee38_0\n",
            "  decorator          pkgs/main/linux-64::decorator-4.4.0-py37_1\n",
            "  defusedxml         pkgs/main/noarch::defusedxml-0.6.0-py_0\n",
            "  distributed        pkgs/main/noarch::distributed-2.5.2-py_0\n",
            "  docutils           pkgs/main/linux-64::docutils-0.15.2-py37_0\n",
            "  entrypoints        pkgs/main/linux-64::entrypoints-0.3-py37_0\n",
            "  et_xmlfile         pkgs/main/linux-64::et_xmlfile-1.0.1-py37_0\n",
            "  expat              pkgs/main/linux-64::expat-2.2.6-he6710b0_0\n",
            "  fastcache          pkgs/main/linux-64::fastcache-1.1.0-py37h7b6447c_0\n",
            "  filelock           pkgs/main/noarch::filelock-3.0.12-py_0\n",
            "  flask              pkgs/main/noarch::flask-1.1.1-py_0\n",
            "  fontconfig         pkgs/main/linux-64::fontconfig-2.13.0-h9420a91_0\n",
            "  freetype           pkgs/main/linux-64::freetype-2.9.1-h8a8886c_1\n",
            "  fribidi            pkgs/main/linux-64::fribidi-1.0.5-h7b6447c_0\n",
            "  fsspec             pkgs/main/noarch::fsspec-0.5.2-py_0\n",
            "  future             pkgs/main/linux-64::future-0.17.1-py37_0\n",
            "  get_terminal_size  pkgs/main/linux-64::get_terminal_size-1.0.0-haa9412d_0\n",
            "  gevent             pkgs/main/linux-64::gevent-1.4.0-py37h7b6447c_0\n",
            "  glib               pkgs/main/linux-64::glib-2.56.2-hd408876_0\n",
            "  glob2              pkgs/main/noarch::glob2-0.7-py_0\n",
            "  gmp                pkgs/main/linux-64::gmp-6.1.2-h6c8ec71_1\n",
            "  gmpy2              pkgs/main/linux-64::gmpy2-2.0.8-py37h10f8cd9_2\n",
            "  graphite2          pkgs/main/linux-64::graphite2-1.3.13-h23475e2_0\n",
            "  greenlet           pkgs/main/linux-64::greenlet-0.4.15-py37h7b6447c_0\n",
            "  gst-plugins-base   pkgs/main/linux-64::gst-plugins-base-1.14.0-hbbd80ab_1\n",
            "  gstreamer          pkgs/main/linux-64::gstreamer-1.14.0-hb453b48_1\n",
            "  h5py               pkgs/main/linux-64::h5py-2.9.0-py37h7918eee_0\n",
            "  harfbuzz           pkgs/main/linux-64::harfbuzz-1.8.8-hffaf4a1_0\n",
            "  hdf5               pkgs/main/linux-64::hdf5-1.10.4-hb1b8bf9_0\n",
            "  heapdict           pkgs/main/noarch::heapdict-1.0.1-py_0\n",
            "  html5lib           pkgs/main/linux-64::html5lib-1.0.1-py37_0\n",
            "  icu                pkgs/main/linux-64::icu-58.2-h9c2bf20_1\n",
            "  idna               pkgs/main/linux-64::idna-2.8-py37_0\n",
            "  imageio            pkgs/main/linux-64::imageio-2.6.0-py37_0\n",
            "  imagesize          pkgs/main/linux-64::imagesize-1.1.0-py37_0\n",
            "  importlib_metadata pkgs/main/linux-64::importlib_metadata-0.23-py37_0\n",
            "  intel-openmp       pkgs/main/linux-64::intel-openmp-2019.4-243\n",
            "  ipykernel          pkgs/main/linux-64::ipykernel-5.1.2-py37h39e3cac_0\n",
            "  ipython            pkgs/main/linux-64::ipython-7.8.0-py37h39e3cac_0\n",
            "  ipython_genutils   pkgs/main/linux-64::ipython_genutils-0.2.0-py37_0\n",
            "  ipywidgets         pkgs/main/noarch::ipywidgets-7.5.1-py_0\n",
            "  isort              pkgs/main/linux-64::isort-4.3.21-py37_0\n",
            "  itsdangerous       pkgs/main/linux-64::itsdangerous-1.1.0-py37_0\n",
            "  jbig               pkgs/main/linux-64::jbig-2.1-hdba287a_0\n",
            "  jdcal              pkgs/main/noarch::jdcal-1.4.1-py_0\n",
            "  jedi               pkgs/main/linux-64::jedi-0.15.1-py37_0\n",
            "  jeepney            pkgs/main/noarch::jeepney-0.4.1-py_0\n",
            "  jinja2             pkgs/main/noarch::jinja2-2.10.3-py_0\n",
            "  joblib             pkgs/main/linux-64::joblib-0.13.2-py37_0\n",
            "  jpeg               pkgs/main/linux-64::jpeg-9b-h024ee3a_2\n",
            "  json5              pkgs/main/noarch::json5-0.8.5-py_0\n",
            "  jsonschema         pkgs/main/linux-64::jsonschema-3.0.2-py37_0\n",
            "  jupyter            pkgs/main/linux-64::jupyter-1.0.0-py37_7\n",
            "  jupyter_client     pkgs/main/linux-64::jupyter_client-5.3.3-py37_1\n",
            "  jupyter_console    pkgs/main/linux-64::jupyter_console-6.0.0-py37_0\n",
            "  jupyter_core       pkgs/main/noarch::jupyter_core-4.5.0-py_0\n",
            "  jupyterlab         pkgs/main/noarch::jupyterlab-1.1.4-pyhf63ae98_0\n",
            "  jupyterlab_server  pkgs/main/noarch::jupyterlab_server-1.0.6-py_0\n",
            "  keyring            pkgs/main/linux-64::keyring-18.0.0-py37_0\n",
            "  kiwisolver         pkgs/main/linux-64::kiwisolver-1.1.0-py37he6710b0_0\n",
            "  krb5               pkgs/main/linux-64::krb5-1.16.1-h173b8e3_7\n",
            "  lazy-object-proxy  pkgs/main/linux-64::lazy-object-proxy-1.4.2-py37h7b6447c_0\n",
            "  libarchive         pkgs/main/linux-64::libarchive-3.3.3-h5d8350f_5\n",
            "  libcurl            pkgs/main/linux-64::libcurl-7.65.3-h20c2e04_0\n",
            "  libedit            pkgs/main/linux-64::libedit-3.1.20181209-hc058e9b_0\n",
            "  libffi             pkgs/main/linux-64::libffi-3.2.1-hd88cf55_4\n",
            "  libgcc-ng          pkgs/main/linux-64::libgcc-ng-9.1.0-hdf63c60_0\n",
            "  libgfortran-ng     pkgs/main/linux-64::libgfortran-ng-7.3.0-hdf63c60_0\n",
            "  liblief            pkgs/main/linux-64::liblief-0.9.0-h7725739_2\n",
            "  libpng             pkgs/main/linux-64::libpng-1.6.37-hbc83047_0\n",
            "  libsodium          pkgs/main/linux-64::libsodium-1.0.16-h1bed415_0\n",
            "  libssh2            pkgs/main/linux-64::libssh2-1.8.2-h1ba5d50_0\n",
            "  libstdcxx-ng       pkgs/main/linux-64::libstdcxx-ng-9.1.0-hdf63c60_0\n",
            "  libtiff            pkgs/main/linux-64::libtiff-4.0.10-h2733197_2\n",
            "  libtool            pkgs/main/linux-64::libtool-2.4.6-h7b6447c_5\n",
            "  libuuid            pkgs/main/linux-64::libuuid-1.0.3-h1bed415_2\n",
            "  libxcb             pkgs/main/linux-64::libxcb-1.13-h1bed415_1\n",
            "  libxml2            pkgs/main/linux-64::libxml2-2.9.9-hea5a465_1\n",
            "  libxslt            pkgs/main/linux-64::libxslt-1.1.33-h7d1a2b0_0\n",
            "  llvmlite           pkgs/main/linux-64::llvmlite-0.29.0-py37hd408876_0\n",
            "  locket             pkgs/main/linux-64::locket-0.2.0-py37_1\n",
            "  lxml               pkgs/main/linux-64::lxml-4.4.1-py37hefd8a0e_0\n",
            "  lz4-c              pkgs/main/linux-64::lz4-c-1.8.1.2-h14c3975_0\n",
            "  lzo                pkgs/main/linux-64::lzo-2.10-h49e0be7_2\n",
            "  markupsafe         pkgs/main/linux-64::markupsafe-1.1.1-py37h7b6447c_0\n",
            "  matplotlib         pkgs/main/linux-64::matplotlib-3.1.1-py37h5429711_0\n",
            "  mccabe             pkgs/main/linux-64::mccabe-0.6.1-py37_1\n",
            "  mistune            pkgs/main/linux-64::mistune-0.8.4-py37h7b6447c_0\n",
            "  mkl                pkgs/main/linux-64::mkl-2019.4-243\n",
            "  mkl-service        pkgs/main/linux-64::mkl-service-2.3.0-py37he904b0f_0\n",
            "  mkl_fft            pkgs/main/linux-64::mkl_fft-1.0.14-py37ha843d7b_0\n",
            "  mkl_random         pkgs/main/linux-64::mkl_random-1.1.0-py37hd6b4f25_0\n",
            "  mock               pkgs/main/linux-64::mock-3.0.5-py37_0\n",
            "  more-itertools     pkgs/main/linux-64::more-itertools-7.2.0-py37_0\n",
            "  mpc                pkgs/main/linux-64::mpc-1.1.0-h10f8cd9_1\n",
            "  mpfr               pkgs/main/linux-64::mpfr-4.0.1-hdf1c602_3\n",
            "  mpmath             pkgs/main/linux-64::mpmath-1.1.0-py37_0\n",
            "  msgpack-python     pkgs/main/linux-64::msgpack-python-0.6.1-py37hfd86e86_1\n",
            "  multipledispatch   pkgs/main/linux-64::multipledispatch-0.6.0-py37_0\n",
            "  navigator-updater  pkgs/main/linux-64::navigator-updater-0.2.1-py37_0\n",
            "  nbconvert          pkgs/main/linux-64::nbconvert-5.6.0-py37_1\n",
            "  nbformat           pkgs/main/linux-64::nbformat-4.4.0-py37_0\n",
            "  ncurses            pkgs/main/linux-64::ncurses-6.1-he6710b0_1\n",
            "  networkx           pkgs/main/noarch::networkx-2.3-py_0\n",
            "  nltk               pkgs/main/linux-64::nltk-3.4.5-py37_0\n",
            "  nose               pkgs/main/linux-64::nose-1.3.7-py37_2\n",
            "  notebook           pkgs/main/linux-64::notebook-6.0.1-py37_0\n",
            "  numba              pkgs/main/linux-64::numba-0.45.1-py37h962f231_0\n",
            "  numexpr            pkgs/main/linux-64::numexpr-2.7.0-py37h9e4a6bb_0\n",
            "  numpy              pkgs/main/linux-64::numpy-1.17.2-py37haad9e8e_0\n",
            "  numpy-base         pkgs/main/linux-64::numpy-base-1.17.2-py37hde5b4d6_0\n",
            "  numpydoc           pkgs/main/noarch::numpydoc-0.9.1-py_0\n",
            "  olefile            pkgs/main/linux-64::olefile-0.46-py37_0\n",
            "  openpyxl           pkgs/main/noarch::openpyxl-3.0.0-py_0\n",
            "  openssl            pkgs/main/linux-64::openssl-1.1.1d-h7b6447c_2\n",
            "  packaging          pkgs/main/noarch::packaging-19.2-py_0\n",
            "  pandas             pkgs/main/linux-64::pandas-0.25.1-py37he6710b0_0\n",
            "  pandoc             pkgs/main/linux-64::pandoc-2.2.3.2-0\n",
            "  pandocfilters      pkgs/main/linux-64::pandocfilters-1.4.2-py37_1\n",
            "  pango              pkgs/main/linux-64::pango-1.42.4-h049681c_0\n",
            "  parso              pkgs/main/noarch::parso-0.5.1-py_0\n",
            "  partd              pkgs/main/noarch::partd-1.0.0-py_0\n",
            "  patchelf           pkgs/main/linux-64::patchelf-0.9-he6710b0_3\n",
            "  path.py            pkgs/main/noarch::path.py-12.0.1-py_0\n",
            "  pathlib2           pkgs/main/linux-64::pathlib2-2.3.5-py37_0\n",
            "  patsy              pkgs/main/linux-64::patsy-0.5.1-py37_0\n",
            "  pcre               pkgs/main/linux-64::pcre-8.43-he6710b0_0\n",
            "  pep8               pkgs/main/linux-64::pep8-1.7.1-py37_0\n",
            "  pexpect            pkgs/main/linux-64::pexpect-4.7.0-py37_0\n",
            "  pickleshare        pkgs/main/linux-64::pickleshare-0.7.5-py37_0\n",
            "  pillow             pkgs/main/linux-64::pillow-6.2.0-py37h34e0f95_0\n",
            "  pip                pkgs/main/linux-64::pip-19.2.3-py37_0\n",
            "  pixman             pkgs/main/linux-64::pixman-0.38.0-h7b6447c_0\n",
            "  pkginfo            pkgs/main/linux-64::pkginfo-1.5.0.1-py37_0\n",
            "  pluggy             pkgs/main/linux-64::pluggy-0.13.0-py37_0\n",
            "  ply                pkgs/main/linux-64::ply-3.11-py37_0\n",
            "  prometheus_client  pkgs/main/noarch::prometheus_client-0.7.1-py_0\n",
            "  prompt_toolkit     pkgs/main/noarch::prompt_toolkit-2.0.10-py_0\n",
            "  psutil             pkgs/main/linux-64::psutil-5.6.3-py37h7b6447c_0\n",
            "  ptyprocess         pkgs/main/linux-64::ptyprocess-0.6.0-py37_0\n",
            "  py                 pkgs/main/linux-64::py-1.8.0-py37_0\n",
            "  py-lief            pkgs/main/linux-64::py-lief-0.9.0-py37h7725739_2\n",
            "  pycodestyle        pkgs/main/linux-64::pycodestyle-2.5.0-py37_0\n",
            "  pycosat            pkgs/main/linux-64::pycosat-0.6.3-py37h14c3975_0\n",
            "  pycparser          pkgs/main/linux-64::pycparser-2.19-py37_0\n",
            "  pycrypto           pkgs/main/linux-64::pycrypto-2.6.1-py37h14c3975_9\n",
            "  pycurl             pkgs/main/linux-64::pycurl-7.43.0.3-py37h1ba5d50_0\n",
            "  pyflakes           pkgs/main/linux-64::pyflakes-2.1.1-py37_0\n",
            "  pygments           pkgs/main/noarch::pygments-2.4.2-py_0\n",
            "  pylint             pkgs/main/linux-64::pylint-2.4.2-py37_0\n",
            "  pyodbc             pkgs/main/linux-64::pyodbc-4.0.27-py37he6710b0_0\n",
            "  pyopenssl          pkgs/main/linux-64::pyopenssl-19.0.0-py37_0\n",
            "  pyparsing          pkgs/main/noarch::pyparsing-2.4.2-py_0\n",
            "  pyqt               pkgs/main/linux-64::pyqt-5.9.2-py37h05f1152_2\n",
            "  pyrsistent         pkgs/main/linux-64::pyrsistent-0.15.4-py37h7b6447c_0\n",
            "  pysocks            pkgs/main/linux-64::pysocks-1.7.1-py37_0\n",
            "  pytables           pkgs/main/linux-64::pytables-3.5.2-py37h71ec239_1\n",
            "  pytest             pkgs/main/linux-64::pytest-5.2.1-py37_0\n",
            "  pytest-arraydiff   pkgs/main/linux-64::pytest-arraydiff-0.3-py37h39e3cac_0\n",
            "  pytest-astropy     pkgs/main/linux-64::pytest-astropy-0.5.0-py37_0\n",
            "  pytest-doctestplus pkgs/main/noarch::pytest-doctestplus-0.4.0-py_0\n",
            "  pytest-openfiles   pkgs/main/noarch::pytest-openfiles-0.4.0-py_0\n",
            "  pytest-remotedata  pkgs/main/linux-64::pytest-remotedata-0.3.2-py37_0\n",
            "  python             pkgs/main/linux-64::python-3.7.4-h265db76_1\n",
            "  python-dateutil    pkgs/main/linux-64::python-dateutil-2.8.0-py37_0\n",
            "  python-libarchive~ pkgs/main/linux-64::python-libarchive-c-2.8-py37_13\n",
            "  pytz               pkgs/main/noarch::pytz-2019.3-py_0\n",
            "  pywavelets         pkgs/main/linux-64::pywavelets-1.0.3-py37hdd07704_1\n",
            "  pyyaml             pkgs/main/linux-64::pyyaml-5.1.2-py37h7b6447c_0\n",
            "  pyzmq              pkgs/main/linux-64::pyzmq-18.1.0-py37he6710b0_0\n",
            "  qt                 pkgs/main/linux-64::qt-5.9.7-h5867ecd_1\n",
            "  qtawesome          pkgs/main/noarch::qtawesome-0.6.0-py_0\n",
            "  qtconsole          pkgs/main/noarch::qtconsole-4.5.5-py_0\n",
            "  qtpy               pkgs/main/noarch::qtpy-1.9.0-py_0\n",
            "  readline           pkgs/main/linux-64::readline-7.0-h7b6447c_5\n",
            "  requests           pkgs/main/linux-64::requests-2.22.0-py37_0\n",
            "  ripgrep            pkgs/main/linux-64::ripgrep-0.10.0-hc07d326_0\n",
            "  rope               pkgs/main/noarch::rope-0.14.0-py_0\n",
            "  ruamel_yaml        pkgs/main/linux-64::ruamel_yaml-0.15.46-py37h14c3975_0\n",
            "  scikit-image       pkgs/main/linux-64::scikit-image-0.15.0-py37he6710b0_0\n",
            "  scikit-learn       pkgs/main/linux-64::scikit-learn-0.21.3-py37hd81dba3_0\n",
            "  scipy              pkgs/main/linux-64::scipy-1.3.1-py37h7c811a0_0\n",
            "  seaborn            pkgs/main/linux-64::seaborn-0.9.0-py37_0\n",
            "  secretstorage      pkgs/main/linux-64::secretstorage-3.1.1-py37_0\n",
            "  send2trash         pkgs/main/linux-64::send2trash-1.5.0-py37_0\n",
            "  setuptools         pkgs/main/linux-64::setuptools-41.4.0-py37_0\n",
            "  simplegeneric      pkgs/main/linux-64::simplegeneric-0.8.1-py37_2\n",
            "  singledispatch     pkgs/main/linux-64::singledispatch-3.4.0.3-py37_0\n",
            "  sip                pkgs/main/linux-64::sip-4.19.8-py37hf484d3e_0\n",
            "  six                pkgs/main/linux-64::six-1.12.0-py37_0\n",
            "  snappy             pkgs/main/linux-64::snappy-1.1.7-hbae5bb6_3\n",
            "  snowballstemmer    pkgs/main/noarch::snowballstemmer-2.0.0-py_0\n",
            "  sortedcollections  pkgs/main/linux-64::sortedcollections-1.1.2-py37_0\n",
            "  sortedcontainers   pkgs/main/linux-64::sortedcontainers-2.1.0-py37_0\n",
            "  soupsieve          pkgs/main/linux-64::soupsieve-1.9.3-py37_0\n",
            "  sphinx             pkgs/main/noarch::sphinx-2.2.0-py_0\n",
            "  sphinxcontrib      pkgs/main/linux-64::sphinxcontrib-1.0-py37_1\n",
            "  sphinxcontrib-app~ pkgs/main/noarch::sphinxcontrib-applehelp-1.0.1-py_0\n",
            "  sphinxcontrib-dev~ pkgs/main/noarch::sphinxcontrib-devhelp-1.0.1-py_0\n",
            "  sphinxcontrib-htm~ pkgs/main/noarch::sphinxcontrib-htmlhelp-1.0.2-py_0\n",
            "  sphinxcontrib-jsm~ pkgs/main/noarch::sphinxcontrib-jsmath-1.0.1-py_0\n",
            "  sphinxcontrib-qth~ pkgs/main/noarch::sphinxcontrib-qthelp-1.0.2-py_0\n",
            "  sphinxcontrib-ser~ pkgs/main/noarch::sphinxcontrib-serializinghtml-1.1.3-py_0\n",
            "  sphinxcontrib-web~ pkgs/main/noarch::sphinxcontrib-websupport-1.1.2-py_0\n",
            "  spyder             pkgs/main/linux-64::spyder-3.3.6-py37_0\n",
            "  spyder-kernels     pkgs/main/linux-64::spyder-kernels-0.5.2-py37_0\n",
            "  sqlalchemy         pkgs/main/linux-64::sqlalchemy-1.3.9-py37h7b6447c_0\n",
            "  sqlite             pkgs/main/linux-64::sqlite-3.30.0-h7b6447c_0\n",
            "  statsmodels        pkgs/main/linux-64::statsmodels-0.10.1-py37hdd07704_0\n",
            "  sympy              pkgs/main/linux-64::sympy-1.4-py37_0\n",
            "  tbb                pkgs/main/linux-64::tbb-2019.4-hfd86e86_0\n",
            "  tblib              pkgs/main/noarch::tblib-1.4.0-py_0\n",
            "  terminado          pkgs/main/linux-64::terminado-0.8.2-py37_0\n",
            "  testpath           pkgs/main/linux-64::testpath-0.4.2-py37_0\n",
            "  tk                 pkgs/main/linux-64::tk-8.6.8-hbc83047_0\n",
            "  toolz              pkgs/main/noarch::toolz-0.10.0-py_0\n",
            "  tornado            pkgs/main/linux-64::tornado-6.0.3-py37h7b6447c_0\n",
            "  tqdm               pkgs/main/noarch::tqdm-4.36.1-py_0\n",
            "  traitlets          pkgs/main/linux-64::traitlets-4.3.3-py37_0\n",
            "  unicodecsv         pkgs/main/linux-64::unicodecsv-0.14.1-py37_0\n",
            "  unixodbc           pkgs/main/linux-64::unixodbc-2.3.7-h14c3975_0\n",
            "  urllib3            pkgs/main/linux-64::urllib3-1.24.2-py37_0\n",
            "  wcwidth            pkgs/main/linux-64::wcwidth-0.1.7-py37_0\n",
            "  webencodings       pkgs/main/linux-64::webencodings-0.5.1-py37_1\n",
            "  werkzeug           pkgs/main/noarch::werkzeug-0.16.0-py_0\n",
            "  wheel              pkgs/main/linux-64::wheel-0.33.6-py37_0\n",
            "  widgetsnbextension pkgs/main/linux-64::widgetsnbextension-3.5.1-py37_0\n",
            "  wrapt              pkgs/main/linux-64::wrapt-1.11.2-py37h7b6447c_0\n",
            "  wurlitzer          pkgs/main/linux-64::wurlitzer-1.0.3-py37_0\n",
            "  xlrd               pkgs/main/linux-64::xlrd-1.2.0-py37_0\n",
            "  xlsxwriter         pkgs/main/noarch::xlsxwriter-1.2.1-py_0\n",
            "  xlwt               pkgs/main/linux-64::xlwt-1.3.0-py37_0\n",
            "  xz                 pkgs/main/linux-64::xz-5.2.4-h14c3975_4\n",
            "  yaml               pkgs/main/linux-64::yaml-0.1.7-had09818_2\n",
            "  zeromq             pkgs/main/linux-64::zeromq-4.3.1-he6710b0_3\n",
            "  zict               pkgs/main/noarch::zict-1.0.0-py_0\n",
            "  zipp               pkgs/main/noarch::zipp-0.6.0-py_0\n",
            "  zlib               pkgs/main/linux-64::zlib-1.2.11-h7b6447c_3\n",
            "  zstd               pkgs/main/linux-64::zstd-1.3.7-h0b5b093_0\n",
            "\n",
            "\n",
            "Preparing transaction: / \b\b- \b\b\\ \b\b| \b\b/ \b\b- \b\b\\ \b\b| \b\b/ \b\b- \b\b\\ \b\b| \b\b/ \b\b- \b\b\\ \b\b| \b\b/ \b\b- \b\b\\ \b\b| \b\b/ \b\b- \b\b\\ \b\b| \b\b/ \b\b- \b\b\\ \b\b| \b\b/ \b\b- \b\b\\ \b\bdone\n",
            "Executing transaction: / \b\b- \b\b\\ \b\b| \b\b/ \b\b- \b\b\\ \b\b| \b\b/ \b\b- \b\b\\ \b\b| \b\b/ \b\b- \b\b\\ \b\b| \b\b/ \b\b- \b\b\\ \b\b| \b\b/ \b\b- \b\b\\ \b\b| \b\b/ \b\b- \b\b\\ \b\b| \b\b/ \b\b- \b\b\\ \b\b| \b\b/ \b\b- \b\b\\ \b\b| \b\b/ \b\b- \b\b\\ \b\b| \b\b/ \b\b- \b\b\\ \b\b| \b\b/ \b\b- \b\b\\ \b\b| \b\b/ \b\b- \b\b\\ \b\b| \b\b/ \b\b- \b\b\\ \b\b| \b\b/ \b\b- \b\b\\ \b\b| \b\b/ \b\b- \b\b\\ \b\b| \b\b/ \b\b- \b\b\\ \b\b| \b\b/ \b\b- \b\b\\ \b\b| \b\b/ \b\b- \b\b\\ \b\b| \b\b/ \b\b- \b\b\\ \b\b| \b\b/ \b\b- \b\b\\ \b\b| \b\b/ \b\b- \b\b\\ \b\b| \b\b/ \b\b- \b\b\\ \b\b| \b\b/ \b\b- \b\b\\ \b\b| \b\b/ \b\b- \b\b\\ \b\b| \b\b/ \b\b- \b\b\\ \b\b| \b\b/ \b\b- \b\b\\ \b\b| \b\b/ \b\b- \b\b\\ \b\b| \b\b/ \b\b- \b\b\\ \b\b| \b\b/ \b\b- \b\b\\ \b\b| \b\b/ \b\b- \b\b\\ \b\b| \b\b/ \b\b- \b\b\\ \b\b| \b\b/ \b\b- \b\b\\ \b\b| \b\b/ \b\b- \b\b\\ \b\b| \b\b/ \b\b- \b\b\\ \b\b| \b\b/ \b\b- \b\b\\ \b\b| \b\b/ \b\b- \b\b\\ \b\b| \b\b/ \b\b- \b\b\\ \b\b| \b\b/ \b\b- \b\b\\ \b\b| \b\b/ \b\b- \b\b\\ \b\b| \b\b/ \b\b- \b\b\\ \b\b| \b\b/ \b\b- \b\b\\ \b\b| \b\b/ \b\b- \b\b\\ \b\b| \b\b/ \b\b- \b\b\\ \b\b| \b\b/ \b\b- \b\b\\ \b\b| \b\b/ \b\b- \b\b\\ \b\b| \b\b/ \b\b- \b\b\\ \b\b| \b\b/ \b\b- \b\b\\ \b\b| \b\b/ \b\b- \b\b\\ \b\b| \b\b/ \b\b- \b\b\\ \b\b| \b\b/ \b\b- \b\b\\ \b\b| \b\b/ \b\b- \b\b\\ \b\b| \b\b/ \b\b- \b\b\\ \b\b| \b\b/ \b\b- \b\b\\ \b\b| \b\b/ \b\b- \b\b\\ \b\b| \b\b/ \b\b- \b\b\\ \b\b| \b\b/ \b\b- \b\b\\ \b\b| \b\b/ \b\b- \b\b\\ \b\b| \b\b/ \b\b- \b\b\\ \b\b| \b\b/ \b\b- \b\b\\ \b\b| \b\b/ \b\b- \b\b\\ \b\b| \b\b/ \b\b- \b\b\\ \b\b| \b\b/ \b\b- \b\b\\ \b\b| \b\b/ \b\b- \b\b\\ \b\b| \b\b/ \b\b- \b\b\\ \b\b| \b\b/ \b\b- \b\b\\ \b\b| \b\b/ \b\b- \b\b\\ \b\b| \b\b/ \b\b- \b\b\\ \b\b| \b\b/ \b\b- \b\b\\ \b\b| \b\b/ \b\b- \b\b\\ \b\b| \b\b/ \b\b- \b\b\\ \b\b| \b\b/ \b\b- \b\b\\ \b\b| \b\b/ \b\b- \b\b\\ \b\b| \b\b/ \b\b- \b\b\\ \b\b| \b\b/ \b\b- \b\b\\ \b\b| \b\b/ \b\b- \b\b\\ \b\b| \b\b/ \b\b- \b\b\\ \b\b| \b\b/ \b\b- \b\b\\ \b\b| \b\b/ \b\b- \b\b\\ \b\b| \b\b/ \b\b- \b\b\\ \b\b| \b\b/ \b\b- \b\b\\ \b\b| \b\b/ \b\b- \b\b\\ \b\b| \b\b/ \b\b- \b\b\\ \b\b| \b\b/ \b\b- \b\b\\ \b\b| \b\b/ \b\b- \b\b\\ \b\b| \b\b/ \b\b- \b\b\\ \b\b| \b\b/ \b\b- \b\b\\ \b\b| \b\b/ \b\b- \b\b\\ \b\b| \b\b/ \b\b- \b\b\\ \b\b| \b\b/ \b\b- \b\b\\ \b\b| \b\b/ \b\b- \b\b\\ \b\b| \b\b/ \b\b- \b\b\\ \b\b| \b\b/ \b\b- \b\b\\ \b\b| \b\b/ \b\b- \b\b\\ \b\b| \b\b/ \b\b- \b\b\\ \b\b| \b\b/ \b\b- \b\b\\ \b\b| \b\b/ \b\b- \b\b\\ \b\b| \b\b/ \b\b- \b\b\\ \b\b| \b\b/ \b\b- \b\b\\ \b\b| \b\b/ \b\b- \b\b\\ \b\b| \b\b/ \b\b- \b\b\\ \b\b| \b\b/ \b\b- \b\b\\ \b\bdone\n",
            "installation finished.\n",
            "WARNING:\n",
            "    You currently have a PYTHONPATH environment variable set. This may cause\n",
            "    unexpected behavior when running the Python interpreter in Anaconda3.\n",
            "    For best results, please verify that your PYTHONPATH only points to\n",
            "    directories of packages that are compatible with the Python interpreter\n",
            "    in Anaconda3: /usr/local\n",
            "Collecting package metadata (current_repodata.json): - \b\b\\ \b\b| \b\b/ \b\b- \b\b\\ \b\b| \b\b/ \b\b- \b\b\\ \b\b| \b\b/ \b\b- \b\b\\ \b\b| \b\b/ \b\b- \b\b\\ \b\b| \b\b/ \b\b- \b\b\\ \b\b| \b\b/ \b\b- \b\b\\ \b\b| \b\b/ \b\b- \b\b\\ \b\b| \b\b/ \b\b- \b\b\\ \b\b| \b\b/ \b\b- \b\b\\ \b\b| \b\b/ \b\b- \b\b\\ \b\b| \b\b/ \b\b- \b\b\\ \b\b| \b\b/ \b\b- \b\b\\ \b\b| \b\b/ \b\b- \b\b\\ \b\b| \b\b/ \b\b- \b\b\\ \b\b| \b\b/ \b\b- \b\b\\ \b\b| \b\b/ \b\b- \b\b\\ \b\b| \b\b/ \b\b- \b\b\\ \b\b| \b\b/ \b\b- \b\b\\ \b\b| \b\b/ \b\b- \b\b\\ \b\b| \b\b/ \b\b- \b\b\\ \b\b| \b\b/ \b\b- \b\b\\ \b\b| \b\b/ \b\b- \b\b\\ \b\b| \b\b/ \b\b- \b\b\\ \b\b| \b\b/ \b\b- \b\b\\ \b\b| \b\b/ \b\b- \b\b\\ \b\b| \b\b/ \b\b- \b\b\\ \b\b| \b\b/ \b\b- \b\b\\ \b\b| \b\b/ \b\b- \b\b\\ \b\b| \b\b/ \b\b- \b\b\\ \b\b| \b\b/ \b\bdone\n",
            "Solving environment: \\ \b\b| \b\b/ \b\b- \b\b\\ \b\b| \b\b/ \b\b- \b\b\\ \b\b| \b\b/ \b\b- \b\b\\ \b\b| \b\b/ \b\b- \b\b\\ \b\b| \b\b/ \b\b- \b\b\\ \b\b| \b\b/ \b\b- \b\b\\ \b\b| \b\b/ \b\b- \b\b\\ \b\b| \b\b/ \b\b- \b\b\\ \b\b| \b\b/ \b\b- \b\b\\ \b\b| \b\b/ \b\b- \b\b\\ \b\b| \b\b/ \b\b- \b\b\\ \b\b| \b\b/ \b\b- \b\b\\ \b\b| \b\b/ \b\b- \b\b\\ \b\b| \b\b/ \b\b- \b\b\\ \b\b| \b\b/ \b\b- \b\b\\ \b\b| \b\b/ \b\b- \b\b\\ \b\b| \b\b/ \b\b- \b\b\\ \b\b| \b\b/ \b\b- \b\b\\ \b\b| \b\b/ \b\b- \b\b\\ \b\b| \b\b/ \b\b- \b\b\\ \b\b| \b\b/ \b\b- \b\b\\ \b\b| \b\b/ \b\b- \b\b\\ \b\b| \b\b/ \b\b- \b\b\\ \b\b| \b\b/ \b\b- \b\b\\ \b\b| \b\b/ \b\b- \b\b\\ \b\b| \b\b/ \b\b- \b\b\\ \b\b| \b\b/ \b\b- \b\b\\ \b\b| \b\b/ \b\b- \b\b\\ \b\b| \b\b/ \b\b- \b\b\\ \b\b| \b\b/ \b\b- \b\b\\ \b\b| \b\b/ \b\b- \b\b\\ \b\b| \b\b/ \b\b- \b\b\\ \b\b| \b\b/ \b\b- \b\b\\ \b\b| \b\b/ \b\b- \b\b\\ \b\b| \b\b/ \b\b- \b\b\\ \b\b| \b\b/ \b\b- \b\b\\ \b\b| \b\b/ \b\b- \b\b\\ \b\b| \b\b/ \b\b- \b\b\\ \b\b| \b\b/ \b\b- \b\b\\ \b\b| \b\b/ \b\b- \b\b\\ \b\b| \b\b/ \b\b- \b\b\\ \b\b| \b\b/ \b\b- \b\b\\ \b\b| \b\b/ \b\b- \b\b\\ \b\b| \b\b/ \b\b- \b\b\\ \b\b| \b\b/ \b\b- \b\b\\ \b\b| \b\b/ \b\b- \b\b\\ \b\b| \b\b/ \b\b- \b\b\\ \b\b| \b\b/ \b\b- \b\b\\ \b\b| \b\b/ \b\b- \b\b\\ \b\b| \b\b/ \b\b- \b\b\\ \b\b| \b\b/ \b\b- \b\b\\ \b\b| \b\b/ \b\b- \b\b\\ \b\b| \b\b/ \b\b- \b\b\\ \b\b| \b\b/ \b\b- \b\b\\ \b\b| \b\b/ \b\b- \b\b\\ \b\b| \b\b/ \b\b- \b\b\\ \b\b| \b\b/ \b\b- \b\b\\ \b\b| \b\b/ \b\b- \b\b\\ \b\b| \b\b/ \b\b- \b\b\\ \b\b| \b\b/ \b\b- \b\b\\ \b\b| \b\b/ \b\b- \b\b\\ \b\b| \b\b/ \b\b- \b\b\\ \b\b| \b\b/ \b\b- \b\b\\ \b\b| \b\b/ \b\b- \b\b\\ \b\b| \b\b/ \b\b- \b\b\\ \b\b| \b\b/ \b\b- \b\b\\ \b\b| \b\b/ \b\b- \b\b\\ \b\b| \b\b/ \b\b- \b\b\\ \b\b| \b\b/ \b\b- \b\b\\ \b\b| \b\b/ \b\b- \b\b\\ \b\b| \b\b/ \b\b- \b\b\\ \b\b| \b\b/ \b\b- \b\b\\ \b\b| \b\b/ \b\b- \b\b\\ \b\b| \b\b/ \b\b- \b\b\\ \b\b| \b\b/ \b\b- \b\b\\ \b\b| \b\b/ \b\b- \b\b\\ \b\b| \b\b/ \b\b- \b\b\\ \b\b| \b\b/ \b\b- \b\b\\ \b\b| \b\b/ \b\b- \b\b\\ \b\b| \b\b/ \b\b- \b\b\\ \b\b| \b\b/ \b\b- \b\b\\ \b\b| \b\b/ \b\b- \b\b\\ \b\b| \b\b/ \b\b- \b\b\\ \b\b| \b\b/ \b\b- \b\b\\ \b\b| \b\b/ \b\b- \b\b\\ \b\b| \b\b/ \b\b- \b\b\\ \b\b| \b\b/ \b\b- \b\b\\ \b\b| \b\b/ \b\b- \b\b\\ \b\b| \b\b/ \b\b- \b\b\\ \b\b| \b\b/ \b\b- \b\b\\ \b\b| \b\b/ \b\b- \b\b\\ \b\b| \b\b/ \b\b- \b\b\\ \b\b| \b\b/ \b\b- \b\b\\ \b\b| \b\b/ \b\b- \b\b\\ \b\b| \b\b/ \b\b- \b\b\\ \b\b| \b\b/ \b\b- \b\b\\ \b\b| \b\b/ \b\b- \b\b\\ \b\b| \b\b/ \b\b- \b\b\\ \b\b| \b\b/ \b\b- \b\b\\ \b\b| \b\b/ \b\b- \b\b\\ \b\b| \b\b/ \b\b- \b\b\\ \b\b| \b\b/ \b\b- \b\b\\ \b\b| \b\b/ \b\b- \b\b\\ \b\b| \b\b/ \b\b- \b\b\\ \b\b| \b\b/ \b\b- \b\b\\ \b\b| \b\b/ \b\b- \b\b\\ \b\b| \b\b/ \b\b- \b\b\\ \b\b| \b\b/ \b\b- \b\b\\ \b\b| \b\b/ \b\b- \b\b\\ \b\b| \b\b/ \b\b- \b\b\\ \b\b| \b\b/ \b\b- \b\b\\ \b\b| \b\b/ \b\b- \b\b\\ \b\b| \b\b/ \b\b- \b\b\\ \b\b| \b\b/ \b\b- \b\b\\ \b\b| \b\b/ \b\b- \b\b\\ \b\b| \b\b/ \b\b- \b\b\\ \b\b| \b\b/ \b\b- \b\b\\ \b\b| \b\b/ \b\b- \b\b\\ \b\b| \b\b/ \b\b- \b\b\\ \b\b| \b\b/ \b\b- \b\b\\ \b\b| \b\b/ \b\b- \b\b\\ \b\b| \b\b/ \b\b- \b\b\\ \b\b| \b\b/ \b\b- \b\b\\ \b\b| \b\b/ \b\b- \b\b\\ \b\b| \b\b/ \b\b- \b\b\\ \b\b| \b\b/ \b\b- \b\b\\ \b\b| \b\b/ \b\b- \b\b\\ \b\b| \b\b/ \b\b- \b\b\\ \b\b| \b\b/ \b\b- \b\b\\ \b\b| \b\b/ \b\b- \b\b\\ \b\b| \b\b/ \b\b- \b\b\\ \b\b| \b\b/ \b\b- \b\b\\ \b\b| \b\b/ \b\b- \b\b\\ \b\b| \b\b/ \b\b- \b\b\\ \b\b| \b\b/ \b\b- \b\b\\ \b\b| \b\b/ \b\b- \b\b\\ \b\b| \b\b/ \b\b- \b\b\\ \b\b| \b\b/ \b\b- \b\b\\ \b\b| \b\b/ \b\b- \b\b\\ \b\b| \b\b/ \b\b- \b\b\\ \b\b| \b\b/ \b\b- \b\b\\ \b\b| \b\b/ \b\b- \b\b\\ \b\b| \b\b/ \b\b- \b\b\\ \b\b| \b\b/ \b\b- \b\b\\ \b\b| \b\b/ \b\b- \b\b\\ \b\b| \b\b/ \b\b- \b\b\\ \b\b| \b\b/ \b\b- \b\b\\ \b\b| \b\b/ \b\b- \b\b\\ \b\b| \b\b/ \b\b- \b\b\\ \b\b| \b\b/ \b\b- \b\b\\ \b\b| \b\b/ \b\b- \b\b\\ \b\b| \b\b/ \b\b- \b\b\\ \b\b| \b\b/ \b\b- \b\b\\ \b\b| \b\b/ \b\b- \b\b\\ \b\b| \b\b/ \b\b- \b\b\\ \b\b| \b\b/ \b\b- \b\b\\ \b\b| \b\b/ \b\b- \b\b\\ \b\b| \b\b/ \b\b- \b\b\\ \b\b| \b\b/ \b\b- \b\b\\ \b\b| \b\b/ \b\b- \b\b\\ \b\b| \b\b/ \b\b- \b\b\\ \b\b| \b\b/ \b\b- \b\b\\ \b\b| \b\b/ \b\b- \b\b\\ \b\b| \b\b/ \b\b- \b\bfailed with initial frozen solve. Retrying with flexible solve.\n",
            "Solving environment: | \b\b/ \b\b- \b\b\\ \b\b| \b\b/ \b\b- \b\b\\ \b\b| \b\b/ \b\b- \b\b\\ \b\b| \b\b/ \b\b- \b\b\\ \b\b| \b\b/ \b\b- \b\b\\ \b\b| \b\b/ \b\b- \b\b\\ \b\b| \b\b/ \b\b- \b\b\\ \b\b| \b\b/ \b\b- \b\b\\ \b\b| \b\b/ \b\b- \b\b\\ \b\b| \b\b/ \b\b- \b\b\\ \b\b| \b\b/ \b\b- \b\b\\ \b\b| \b\b/ \b\b- \b\b\\ \b\b| \b\b/ \b\b- \b\b\\ \b\b| \b\b/ \b\b- \b\b\\ \b\b| \b\b/ \b\b- \b\b\\ \b\b| \b\b/ \b\b- \b\b\\ \b\b| \b\b/ \b\b- \b\b\\ \b\b| \b\b/ \b\b- \b\b\\ \b\b| \b\b/ \b\b- \b\b\\ \b\b| \b\b/ \b\b- \b\b\\ \b\b| \b\b/ \b\b- \b\b\\ \b\b| \b\b/ \b\b- \b\b\\ \b\b| \b\b/ \b\b- \b\b\\ \b\b| \b\b/ \b\b- \b\b\\ \b\b| \b\b/ \b\b- \b\b\\ \b\b| \b\b/ \b\b- \b\b\\ \b\b| \b\b/ \b\b- \b\b\\ \b\b| \b\b/ \b\b- \b\b\\ \b\b| \b\b/ \b\b- \b\b\\ \b\b| \b\b/ \b\b- \b\b\\ \b\b| \b\b/ \b\b- \b\b\\ \b\b| \b\b/ \b\b- \b\b\\ \b\b| \b\b/ \b\b- \b\b\\ \b\b| \b\b/ \b\b- \b\b\\ \b\b| \b\b/ \b\b- \b\b\\ \b\b| \b\b/ \b\b- \b\b\\ \b\b| \b\b/ \b\b- \b\b\\ \b\b| \b\b/ \b\b- \b\b\\ \b\b| \b\b/ \b\b- \b\b\\ \b\b| \b\b/ \b\b- \b\b\\ \b\b| \b\b/ \b\b- \b\b\\ \b\b| \b\b/ \b\b- \b\b\\ \b\b| \b\b/ \b\b- \b\b\\ \b\b| \b\b/ \b\b- \b\b\\ \b\b| \b\b/ \b\b- \b\b\\ \b\b| \b\b/ \b\b- \b\b\\ \b\b| \b\b/ \b\b- \b\b\\ \b\b| \b\b/ \b\b- \b\b\\ \b\b| \b\b/ \b\b- \b\b\\ \b\b| \b\b/ \b\b- \b\b\\ \b\b| \b\b/ \b\b- \b\b\\ \b\b| \b\b/ \b\b- \b\b\\ \b\b| \b\b/ \b\b- \b\b\\ \b\b| \b\b/ \b\b- \b\b\\ \b\b| \b\b/ \b\b- \b\b\\ \b\b| \b\b/ \b\b- \b\b\\ \b\b| \b\b/ \b\b- \b\b\\ \b\b| \b\b/ \b\b- \b\b\\ \b\b| \b\b/ \b\b- \b\b\\ \b\b| \b\b/ \b\b- \b\b\\ \b\b| \b\b/ \b\b- \b\b\\ \b\b| \b\b/ \b\b- \b\b\\ \b\b| \b\b/ \b\b- \b\b\\ \b\b| \b\b/ \b\b- \b\b\\ \b\b| \b\b/ \b\b- \b\b\\ \b\b| \b\b/ \b\b- \b\b\\ \b\b| \b\b/ \b\b- \b\b\\ \b\b| \b\b/ \b\b- \b\b\\ \b\b| \b\b/ \b\b- \b\b\\ \b\b| \b\b/ \b\b- \b\b\\ \b\b| \b\b/ \b\b- \b\b\\ \b\b| \b\b/ \b\b- \b\b\\ \b\b| \b\b/ \b\b- \b\b\\ \b\b| \b\b/ \b\b- \b\b\\ \b\b| \b\b/ \b\b- \b\b\\ \b\b| \b\b/ \b\b- \b\b\\ \b\b| \b\b/ \b\b- \b\b\\ \b\b| \b\b/ \b\b- \b\b\\ \b\b| \b\b/ \b\b- \b\b\\ \b\b| \b\b/ \b\b- \b\b\\ \b\b| \b\b/ \b\b- \b\b\\ \b\b| \b\b/ \b\b- \b\b\\ \b\b| \b\b/ \b\b- \b\b\\ \b\b| \b\b/ \b\b- \b\b\\ \b\b| \b\b/ \b\b- \b\b\\ \b\b| \b\b/ \b\b- \b\b\\ \b\b| \b\b/ \b\b- \b\b\\ \b\b| \b\b/ \b\b- \b\b\\ \b\b| \b\b/ \b\b- \b\b\\ \b\b| \b\b/ \b\b- \b\b\\ \b\b| \b\b/ \b\b- \b\b\\ \b\b| \b\b/ \b\b- \b\b\\ \b\b| \b\b/ \b\b- \b\b\\ \b\b| \b\b/ \b\b- \b\b\\ \b\b| \b\b/ \b\b- \b\b\\ \b\b| \b\b/ \b\b- \b\b\\ \b\b| \b\b/ \b\b- \b\b\\ \b\b| \b\b/ \b\b- \b\b\\ \b\b| \b\b/ \b\b- \b\b\\ \b\b| \b\b/ \b\b- \b\b\\ \b\b| \b\b/ \b\b- \b\b\\ \b\b| \b\b/ \b\b- \b\b\\ \b\b| \b\b/ \b\b- \b\b\\ \b\b| \b\b/ \b\b- \b\b\\ \b\b| \b\b/ \b\b- \b\b\\ \b\b| \b\b/ \b\b- \b\b\\ \b\b| \b\b/ \b\b- \b\b\\ \b\b| \b\b/ \b\b- \b\b\\ \b\b| \b\b/ \b\b- \b\b\\ \b\b| \b\b/ \b\b- \b\b\\ \b\b| \b\b/ \b\b- \b\b\\ \b\b| \b\b/ \b\b- \b\b\\ \b\b| \b\b/ \b\b- \b\b\\ \b\b| \b\b/ \b\b- \b\b\\ \b\b| \b\b/ \b\b- \b\b\\ \b\b| \b\b/ \b\b- \b\b\\ \b\b| \b\b/ \b\b- \b\b\\ \b\b| \b\b/ \b\b- \b\b\\ \b\b| \b\b/ \b\b- \b\b\\ \b\b| \b\b/ \b\b- \b\b\\ \b\b| \b\b/ \b\b- \b\b\\ \b\b| \b\b/ \b\b- \b\b\\ \b\b| \b\b/ \b\b- \b\b\\ \b\b| \b\b/ \b\b- \b\b\\ \b\b| \b\b/ \b\b- \b\b\\ \b\b| \b\b/ \b\b- \b\b\\ \b\b| \b\b/ \b\b- \b\b\\ \b\b| \b\b/ \b\b- \b\b\\ \b\b| \b\b/ \b\b- \b\b\\ \b\b| \b\b/ \b\b- \b\b\\ \b\b| \b\b/ \b\b- \b\b\\ \b\b| \b\b/ \b\b- \b\b\\ \b\b| \b\b/ \b\b- \b\b\\ \b\b| \b\b/ \b\b- \b\b\\ \b\b| \b\b/ \b\b- \b\b\\ \b\b| \b\b/ \b\b- \b\b\\ \b\b| \b\b/ \b\b- \b\b\\ \b\b| \b\b/ \b\b- \b\b\\ \b\b| \b\b/ \b\b- \b\b\\ \b\b| \b\b/ \b\b- \b\b\\ \b\b| \b\b/ \b\b- \b\b\\ \b\b| \b\b/ \b\b- \b\b\\ \b\b| \b\b/ \b\b- \b\b\\ \b\b| \b\b/ \b\b- \b\b\\ \b\b| \b\b/ \b\b- \b\b\\ \b\b| \b\b/ \b\b- \b\b\\ \b\b| \b\b/ \b\b- \b\b\\ \b\b| \b\b/ \b\b- \b\b\\ \b\b| \b\b/ \b\b- \b\b\\ \b\b| \b\b/ \b\b- \b\b\\ \b\b| \b\b/ \b\b- \b\b\\ \b\b| \b\b/ \b\b- \b\b\\ \b\b| \b\b/ \b\b- \b\b\\ \b\b| \b\b/ \b\b- \b\b\\ \b\b| \b\b/ \b\b- \b\b\\ \b\b| \b\b/ \b\b- \b\b\\ \b\b| \b\b/ \b\b- \b\b\\ \b\b| \b\b/ \b\b- \b\b\\ \b\b| \b\b/ \b\b- \b\b\\ \b\b| \b\b/ \b\b- \b\b\\ \b\b| \b\b/ \b\b- \b\b\\ \b\b| \b\b/ \b\b- \b\b\\ \b\b| \b\b/ \b\b- \b\b\\ \b\b| \b\b/ \b\b- \b\b\\ \b\b| \b\b/ \b\b- \b\b\\ \b\b| \b\b/ \b\b- \b\b\\ \b\b| \b\b/ \b\b- \b\b\\ \b\b| \b\b/ \b\b- \b\b\\ \b\b| \b\b/ \b\b- \b\b\\ \b\b| \b\b/ \b\b- \b\b\\ \b\bfailed with repodata from current_repodata.json, will retry with next repodata source.\n",
            "Collecting package metadata (repodata.json): / \b\b- \b\b\\ \b\b| \b\b/ \b\b- \b\b\\ \b\b| \b\b/ \b\b- \b\b\\ \b\b| \b\b/ \b\b- \b\b\\ \b\b| \b\b/ \b\b- \b\b\\ \b\b| \b\b/ \b\b- \b\b\\ \b\b| \b\b/ \b\b- \b\b\\ \b\b| \b\b/ \b\b- \b\b\\ \b\b| \b\b/ \b\b- \b\b\\ \b\b| \b\b/ \b\b- \b\b\\ \b\b| \b\b/ \b\b- \b\b\\ \b\b| \b\b/ \b\b- \b\b\\ \b\b| \b\b/ \b\b- \b\b\\ \b\b| \b\b/ \b\b- \b\b\\ \b\b| \b\b/ \b\b- \b\b\\ \b\b| \b\b/ \b\b- \b\b\\ \b\b| \b\b/ \b\b- \b\b\\ \b\b| \b\b/ \b\b- \b\b\\ \b\b| \b\b/ \b\b- \b\b\\ \b\b| \b\b/ \b\b- \b\b\\ \b\b| \b\b/ \b\b- \b\b\\ \b\b| \b\b/ \b\b- \b\b\\ \b\b| \b\b/ \b\b- \b\b\\ \b\b| \b\b/ \b\b- \b\b\\ \b\b| \b\b/ \b\b- \b\b\\ \b\b| \b\b/ \b\b- \b\b\\ \b\b| \b\b/ \b\b- \b\b\\ \b\b| \b\b/ \b\b- \b\b\\ \b\b| \b\b/ \b\b- \b\b\\ \b\b| \b\b/ \b\b- \b\b\\ \b\b| \b\b/ \b\b- \b\b\\ \b\b| \b\b/ \b\b- \b\b\\ \b\b| \b\b/ \b\b- \b\b\\ \b\b| \b\b/ \b\b- \b\b\\ \b\b| \b\b/ \b\b- \b\b\\ \b\b| \b\b/ \b\b- \b\b\\ \b\b| \b\b/ \b\b- \b\b\\ \b\b| \b\b/ \b\b- \b\b\\ \b\b| \b\b/ \b\b- \b\b\\ \b\b| \b\b/ \b\b- \b\b\\ \b\b| \b\b/ \b\b- \b\b\\ \b\b| \b\b/ \b\b- \b\b\\ \b\b| \b\b/ \b\b- \b\b\\ \b\b| \b\b/ \b\b- \b\b\\ \b\b| \b\b/ \b\b- \b\b\\ \b\b| \b\b/ \b\b- \b\b\\ \b\b| \b\b/ \b\b- \b\b\\ \b\b| \b\b/ \b\b- \b\b\\ \b\b| \b\b/ \b\b- \b\b\\ \b\b| \b\b/ \b\b- \b\b\\ \b\b| \b\b/ \b\b- \b\b\\ \b\b| \b\b/ \b\b- \b\b\\ \b\b| \b\b/ \b\b- \b\b\\ \b\b| \b\b/ \b\b- \b\b\\ \b\b| \b\b/ \b\b- \b\b\\ \b\b| \b\b/ \b\b- \b\b\\ \b\b| \b\b/ \b\b- \b\b\\ \b\b| \b\b/ \b\b- \b\b\\ \b\b| \b\b/ \b\b- \b\b\\ \b\b| \b\b/ \b\b- \b\b\\ \b\b| \b\b/ \b\b- \b\b\\ \b\b| \b\b/ \b\b- \b\b\\ \b\b| \b\b/ \b\b- \b\b\\ \b\b| \b\b/ \b\b- \b\b\\ \b\b| \b\b/ \b\b- \b\b\\ \b\b| \b\b/ \b\b- \b\b\\ \b\b| \b\b/ \b\b- \b\b\\ \b\b| \b\b/ \b\b- \b\b\\ \b\b| \b\b/ \b\b- \b\b\\ \b\b| \b\b/ \b\b- \b\b\\ \b\b| \b\b/ \b\b- \b\b\\ \b\b| \b\b/ \b\b- \b\b\\ \b\b| \b\b/ \b\b- \b\b\\ \b\b| \b\b/ \b\b- \b\b\\ \b\b| \b\b/ \b\b- \b\b\\ \b\b| \b\b/ \b\b- \b\b\\ \b\b| \b\b/ \b\b- \b\b\\ \b\b| \b\b/ \b\b- \b\b\\ \b\b| \b\b/ \b\b- \b\b\\ \b\b| \b\b/ \b\b- \b\b\\ \b\b| \b\b/ \b\b- \b\b\\ \b\b| \b\b/ \b\b- \b\b\\ \b\b| \b\b/ \b\b- \b\b\\ \b\b| \b\b/ \b\b- \b\b\\ \b\b| \b\b/ \b\b- \b\b\\ \b\b| \b\b/ \b\b- \b\b\\ \b\b| \b\b/ \b\b- \b\b\\ \b\b| \b\b/ \b\b- \b\b\\ \b\b| \b\b/ \b\bdone\n",
            "Solving environment: \\ \b\b| \b\b/ \b\b- \b\b\\ \b\b| \b\b/ \b\b- \b\b\\ \b\b| \b\b/ \b\b- \b\b\\ \b\b| \b\b/ \b\b- \b\b\\ \b\b| \b\b/ \b\b- \b\b\\ \b\b| \b\b/ \b\b- \b\b\\ \b\b| \b\b/ \b\b- \b\b\\ \b\b| \b\b/ \b\b- \b\b\\ \b\b| \b\b/ \b\b- \b\b\\ \b\b| \b\b/ \b\b- \b\b\\ \b\b| \b\b/ \b\b- \b\b\\ \b\b| \b\b/ \b\b- \b\b\\ \b\b| \b\b/ \b\b- \b\b\\ \b\b| \b\b/ \b\b- \b\b\\ \b\b| \b\b/ \b\b- \b\b\\ \b\b| \b\b/ \b\b- \b\b\\ \b\b| \b\b/ \b\b- \b\b\\ \b\b| \b\b/ \b\b- \b\b\\ \b\b| \b\b/ \b\b- \b\b\\ \b\b| \b\b/ \b\b- \b\b\\ \b\b| \b\b/ \b\b- \b\b\\ \b\b| \b\b/ \b\b- \b\b\\ \b\b| \b\b/ \b\b- \b\b\\ \b\b| \b\b/ \b\b- \b\b\\ \b\b| \b\b/ \b\b- \b\b\\ \b\b| \b\b/ \b\b- \b\b\\ \b\b| \b\b/ \b\b- \b\b\\ \b\b| \b\b/ \b\b- \b\b\\ \b\b| \b\b/ \b\b- \b\b\\ \b\b| \b\b/ \b\b- \b\b\\ \b\b| \b\b/ \b\b- \b\b\\ \b\b| \b\b/ \b\b- \b\b\\ \b\b| \b\b/ \b\b- \b\b\\ \b\b| \b\b/ \b\b- \b\b\\ \b\b| \b\b/ \b\b- \b\b\\ \b\b| \b\b/ \b\b- \b\b\\ \b\b| \b\b/ \b\b- \b\b\\ \b\b| \b\b/ \b\b- \b\b\\ \b\b| \b\b/ \b\b- \b\b\\ \b\b| \b\b/ \b\b- \b\b\\ \b\b| \b\b/ \b\b- \b\b\\ \b\b| \b\b/ \b\b- \b\b\\ \b\b| \b\b/ \b\b- \b\b\\ \b\b| \b\b/ \b\b- \b\b\\ \b\b| \b\b/ \b\b- \b\b\\ \b\b| \b\b/ \b\b- \b\b\\ \b\b| \b\b/ \b\b- \b\b\\ \b\b| \b\b/ \b\b- \b\b\\ \b\b| \b\b/ \b\b- \b\b\\ \b\b| \b\b/ \b\b- \b\b\\ \b\b| \b\b/ \b\b- \b\b\\ \b\b| \b\b/ \b\b- \b\b\\ \b\b| \b\b/ \b\b- \b\b\\ \b\b| \b\b/ \b\b- \b\b\\ \b\b| \b\b/ \b\b- \b\b\\ \b\b| \b\b/ \b\b- \b\b\\ \b\b| \b\b/ \b\b- \b\b\\ \b\b| \b\b/ \b\b- \b\b\\ \b\b| \b\b/ \b\b- \b\b\\ \b\b| \b\b/ \b\b- \b\b\\ \b\b| \b\b/ \b\b- \b\b\\ \b\b| \b\b/ \b\b- \b\b\\ \b\b| \b\b/ \b\bdone\n",
            "\n",
            "\n",
            "==> WARNING: A newer version of conda exists. <==\n",
            "  current version: 4.7.12\n",
            "  latest version: 4.10.1\n",
            "\n",
            "Please update conda by running\n",
            "\n",
            "    $ conda update -n base -c defaults conda\n",
            "\n",
            "\n",
            "\n",
            "## Package Plan ##\n",
            "\n",
            "  environment location: /usr/local\n",
            "\n",
            "  added / updated specs:\n",
            "    - deepchem-gpu=2.3.0\n",
            "\n",
            "\n",
            "The following packages will be downloaded:\n",
            "\n",
            "    package                    |            build\n",
            "    ---------------------------|-----------------\n",
            "    _py-xgboost-mutex-2.0      |            cpu_0           8 KB  conda-forge\n",
            "    _tflow_select-2.1.0        |              gpu           2 KB\n",
            "    absl-py-0.12.0             |     pyhd8ed1ab_0          96 KB  conda-forge\n",
            "    astor-0.8.1                |     pyh9f0ad1d_0          25 KB  conda-forge\n",
            "    astunparse-1.6.3           |     pyhd8ed1ab_0          15 KB  conda-forge\n",
            "    c-ares-1.17.1              |       h36c2ea0_0         111 KB  conda-forge\n",
            "    certifi-2019.9.11          |           py37_0         147 KB  conda-forge\n",
            "    conda-4.10.1               |   py37h89c1867_0         3.1 MB  conda-forge\n",
            "    cudatoolkit-10.1.243       |       h6bb024c_0       347.4 MB\n",
            "    cudnn-7.6.5.32             |       hc0a50b0_1       250.7 MB  conda-forge\n",
            "    cupti-10.1.168             |                0         1.4 MB\n",
            "    deepchem-gpu-2.3.0         |           py37_0         2.1 MB  deepchem\n",
            "    fftw3f-3.3.4               |                2         1.2 MB  omnia\n",
            "    gast-0.4.0                 |     pyh9f0ad1d_0          12 KB  conda-forge\n",
            "    google-pasta-0.2.0         |     pyh8c360ce_0          42 KB  conda-forge\n",
            "    grpcio-1.23.0              |   py37hb0870dc_1         1.1 MB  conda-forge\n",
            "    importlib-metadata-4.0.1   |   py37h89c1867_0          30 KB  conda-forge\n",
            "    keras-applications-1.0.8   |             py_1          30 KB  conda-forge\n",
            "    keras-preprocessing-1.1.2  |     pyhd8ed1ab_0          34 KB  conda-forge\n",
            "    libboost-1.67.0            |       h46d08c1_4        13.0 MB\n",
            "    libprotobuf-3.13.0.1       |       h8b12597_0         2.3 MB  conda-forge\n",
            "    libxgboost-1.2.0           |       he1b5a44_0         3.1 MB  conda-forge\n",
            "    markdown-3.3.4             |     pyhd8ed1ab_0          67 KB  conda-forge\n",
            "    mdtraj-1.9.5               |   py37h113d463_0         1.7 MB  conda-forge\n",
            "    openmm-7.4.2               |py37_cuda101_rc_1        11.9 MB  omnia\n",
            "    pdbfixer-1.6               |             py_1         167 KB  omnia\n",
            "    protobuf-3.13.0.1          |   py37h745909e_1         704 KB  conda-forge\n",
            "    py-boost-1.67.0            |   py37h04863e7_4         278 KB\n",
            "    py-xgboost-1.2.0           |   py37hc8dfbb8_0         1.7 MB  conda-forge\n",
            "    python_abi-3.7             |          1_cp37m           4 KB  conda-forge\n",
            "    rdkit-2020.03.3.0          |   py37hc20afe1_1        24.8 MB  rdkit\n",
            "    simdna-0.4.2               |             py_0         627 KB  deepchem\n",
            "    tensorboard-1.14.0         |           py37_0         3.2 MB  conda-forge\n",
            "    tensorflow-1.14.0          |gpu_py37h74c33d7_0           4 KB\n",
            "    tensorflow-base-1.14.0     |gpu_py37he45bfe2_0       146.3 MB\n",
            "    tensorflow-estimator-1.14.0|   py37h5ca1d4c_0         645 KB  conda-forge\n",
            "    tensorflow-gpu-1.14.0      |       h0d30ee6_0           3 KB\n",
            "    termcolor-1.1.0            |             py_2           6 KB  conda-forge\n",
            "    typing_extensions-3.7.4.3  |             py_0          25 KB  conda-forge\n",
            "    xgboost-1.2.0              |   py37h3340039_0          11 KB  conda-forge\n",
            "    ------------------------------------------------------------\n",
            "                                           Total:       817.9 MB\n",
            "\n",
            "The following NEW packages will be INSTALLED:\n",
            "\n",
            "  _py-xgboost-mutex  conda-forge/linux-64::_py-xgboost-mutex-2.0-cpu_0\n",
            "  _tflow_select      pkgs/main/linux-64::_tflow_select-2.1.0-gpu\n",
            "  absl-py            conda-forge/noarch::absl-py-0.12.0-pyhd8ed1ab_0\n",
            "  astor              conda-forge/noarch::astor-0.8.1-pyh9f0ad1d_0\n",
            "  astunparse         conda-forge/noarch::astunparse-1.6.3-pyhd8ed1ab_0\n",
            "  c-ares             conda-forge/linux-64::c-ares-1.17.1-h36c2ea0_0\n",
            "  cudatoolkit        pkgs/main/linux-64::cudatoolkit-10.1.243-h6bb024c_0\n",
            "  cudnn              conda-forge/linux-64::cudnn-7.6.5.32-hc0a50b0_1\n",
            "  cupti              pkgs/main/linux-64::cupti-10.1.168-0\n",
            "  deepchem-gpu       deepchem/linux-64::deepchem-gpu-2.3.0-py37_0\n",
            "  fftw3f             omnia/linux-64::fftw3f-3.3.4-2\n",
            "  gast               conda-forge/noarch::gast-0.4.0-pyh9f0ad1d_0\n",
            "  google-pasta       conda-forge/noarch::google-pasta-0.2.0-pyh8c360ce_0\n",
            "  grpcio             conda-forge/linux-64::grpcio-1.23.0-py37hb0870dc_1\n",
            "  importlib-metadata conda-forge/linux-64::importlib-metadata-4.0.1-py37h89c1867_0\n",
            "  keras-applications conda-forge/noarch::keras-applications-1.0.8-py_1\n",
            "  keras-preprocessi~ conda-forge/noarch::keras-preprocessing-1.1.2-pyhd8ed1ab_0\n",
            "  libboost           pkgs/main/linux-64::libboost-1.67.0-h46d08c1_4\n",
            "  libprotobuf        conda-forge/linux-64::libprotobuf-3.13.0.1-h8b12597_0\n",
            "  libxgboost         conda-forge/linux-64::libxgboost-1.2.0-he1b5a44_0\n",
            "  markdown           conda-forge/noarch::markdown-3.3.4-pyhd8ed1ab_0\n",
            "  mdtraj             conda-forge/linux-64::mdtraj-1.9.5-py37h113d463_0\n",
            "  openmm             omnia/linux-64::openmm-7.4.2-py37_cuda101_rc_1\n",
            "  pdbfixer           omnia/noarch::pdbfixer-1.6-py_1\n",
            "  protobuf           conda-forge/linux-64::protobuf-3.13.0.1-py37h745909e_1\n",
            "  py-boost           pkgs/main/linux-64::py-boost-1.67.0-py37h04863e7_4\n",
            "  py-xgboost         conda-forge/linux-64::py-xgboost-1.2.0-py37hc8dfbb8_0\n",
            "  python_abi         conda-forge/linux-64::python_abi-3.7-1_cp37m\n",
            "  rdkit              rdkit/linux-64::rdkit-2020.03.3.0-py37hc20afe1_1\n",
            "  simdna             deepchem/noarch::simdna-0.4.2-py_0\n",
            "  tensorboard        conda-forge/linux-64::tensorboard-1.14.0-py37_0\n",
            "  tensorflow         pkgs/main/linux-64::tensorflow-1.14.0-gpu_py37h74c33d7_0\n",
            "  tensorflow-base    pkgs/main/linux-64::tensorflow-base-1.14.0-gpu_py37he45bfe2_0\n",
            "  tensorflow-estima~ conda-forge/linux-64::tensorflow-estimator-1.14.0-py37h5ca1d4c_0\n",
            "  tensorflow-gpu     pkgs/main/linux-64::tensorflow-gpu-1.14.0-h0d30ee6_0\n",
            "  termcolor          conda-forge/noarch::termcolor-1.1.0-py_2\n",
            "  typing_extensions  conda-forge/noarch::typing_extensions-3.7.4.3-py_0\n",
            "  xgboost            conda-forge/linux-64::xgboost-1.2.0-py37h3340039_0\n",
            "\n",
            "The following packages will be UPDATED:\n",
            "\n",
            "  conda                      pkgs/main::conda-4.7.12-py37_0 --> conda-forge::conda-4.10.1-py37h89c1867_0\n",
            "\n",
            "The following packages will be SUPERSEDED by a higher-priority channel:\n",
            "\n",
            "  certifi                                         pkgs/main --> conda-forge\n",
            "\n",
            "\n",
            "\n",
            "Downloading and Extracting Packages\n",
            "py-xgboost-1.2.0     | 1.7 MB    | : 100% 1.0/1 [00:00<00:00, 10.95s/it]                 \n",
            "tensorboard-1.14.0   | 3.2 MB    | : 100% 1.0/1 [00:00<00:00,  1.46it/s]\n",
            "certifi-2019.9.11    | 147 KB    | : 100% 1.0/1 [00:00<00:00,  7.45it/s]\n",
            "absl-py-0.12.0       | 96 KB     | : 100% 1.0/1 [00:00<00:00, 11.11it/s]\n",
            "python_abi-3.7       | 4 KB      | : 100% 1.0/1 [00:00<00:00, 22.74it/s]\n",
            "astunparse-1.6.3     | 15 KB     | : 100% 1.0/1 [00:00<00:00, 17.70it/s]\n",
            "py-boost-1.67.0      | 278 KB    | : 100% 1.0/1 [00:00<00:00,  1.45s/it]                \n",
            "conda-4.10.1         | 3.1 MB    | : 100% 1.0/1 [00:00<00:00,  1.37it/s]               \n",
            "mdtraj-1.9.5         | 1.7 MB    | : 100% 1.0/1 [00:00<00:00,  2.33it/s]\n",
            "keras-applications-1 | 30 KB     | : 100% 1.0/1 [00:00<00:00, 18.95it/s]\n",
            "markdown-3.3.4       | 67 KB     | : 100% 1.0/1 [00:00<00:00, 12.40it/s]\n",
            "fftw3f-3.3.4         | 1.2 MB    | : 100% 1.0/1 [00:00<00:00,  2.07it/s]\n",
            "grpcio-1.23.0        | 1.1 MB    | : 100% 1.0/1 [00:00<00:00,  3.86it/s]\n",
            "_py-xgboost-mutex-2. | 8 KB      | : 100% 1.0/1 [00:00<00:00, 24.00it/s]\n",
            "simdna-0.4.2         | 627 KB    | : 100% 1.0/1 [00:00<00:00,  3.97it/s]\n",
            "gast-0.4.0           | 12 KB     | : 100% 1.0/1 [00:00<00:00, 18.38it/s]\n",
            "cudnn-7.6.5.32       | 250.7 MB  | : 100% 1.0/1 [00:42<00:00, 42.31s/it]               \n",
            "termcolor-1.1.0      | 6 KB      | : 100% 1.0/1 [00:00<00:00, 17.62it/s]\n",
            "google-pasta-0.2.0   | 42 KB     | : 100% 1.0/1 [00:00<00:00, 18.12it/s]\n",
            "_tflow_select-2.1.0  | 2 KB      | : 100% 1.0/1 [00:00<00:00,  7.08it/s]\n",
            "libxgboost-1.2.0     | 3.1 MB    | : 100% 1.0/1 [00:00<00:00,  1.55it/s]\n",
            "rdkit-2020.03.3.0    | 24.8 MB   | : 100% 1.0/1 [00:05<00:00,  5.10s/it]\n",
            "deepchem-gpu-2.3.0   | 2.1 MB    | : 100% 1.0/1 [00:00<00:00,  1.50it/s]\n",
            "cupti-10.1.168       | 1.4 MB    | : 100% 1.0/1 [00:00<00:00,  5.10it/s]\n",
            "importlib-metadata-4 | 30 KB     | : 100% 1.0/1 [00:00<00:00, 19.10it/s]\n",
            "tensorflow-gpu-1.14. | 3 KB      | : 100% 1.0/1 [00:00<00:00,  5.86it/s]\n",
            "tensorflow-base-1.14 | 146.3 MB  | : 100% 1.0/1 [00:10<00:00, 10.15s/it]               \n",
            "c-ares-1.17.1        | 111 KB    | : 100% 1.0/1 [00:00<00:00, 11.09it/s]\n",
            "xgboost-1.2.0        | 11 KB     | : 100% 1.0/1 [00:00<00:00, 23.34it/s]\n",
            "protobuf-3.13.0.1    | 704 KB    | : 100% 1.0/1 [00:00<00:00,  3.10it/s]\n",
            "cudatoolkit-10.1.243 | 347.4 MB  | : 100% 1.0/1 [00:28<00:00, 28.08s/it]               \n",
            "libboost-1.67.0      | 13.0 MB   | : 100% 1.0/1 [00:03<00:00,  1.71s/it]                \n",
            "typing_extensions-3. | 25 KB     | : 100% 1.0/1 [00:00<00:00, 12.99it/s]\n",
            "openmm-7.4.2         | 11.9 MB   | : 100% 1.0/1 [00:03<00:00,  3.58s/it]\n",
            "astor-0.8.1          | 25 KB     | : 100% 1.0/1 [00:00<00:00,  4.74it/s]\n",
            "libprotobuf-3.13.0.1 | 2.3 MB    | : 100% 1.0/1 [00:01<00:00,  1.33s/it]\n",
            "tensorflow-estimator | 645 KB    | : 100% 1.0/1 [00:00<00:00,  2.93it/s]\n",
            "pdbfixer-1.6         | 167 KB    | : 100% 1.0/1 [00:00<00:00,  4.68it/s]\n",
            "keras-preprocessing- | 34 KB     | : 100% 1.0/1 [00:00<00:00, 16.37it/s]\n",
            "tensorflow-1.14.0    | 4 KB      | : 100% 1.0/1 [00:00<00:00,  8.44it/s]\n",
            "Preparing transaction: \\ \b\b| \b\b/ \b\b- \b\b\\ \b\b| \b\b/ \b\b- \b\b\\ \b\b| \b\b/ \b\bdone\n",
            "Verifying transaction: \\ \b\b| \b\b/ \b\b- \b\b\\ \b\b| \b\b/ \b\b- \b\b\\ \b\b| \b\b/ \b\b- \b\b\\ \b\b| \b\b/ \b\b- \b\b\\ \b\b| \b\b/ \b\b- \b\b\\ \b\b| \b\b/ \b\b- \b\b\\ \b\b| \b\b/ \b\b- \b\b\\ \b\bdone\n",
            "Executing transaction: / \b\b- \b\b\\ \b\b| \b\b/ \b\b- \b\b\\ \b\b| \b\b/ \b\b- \b\b\\ \b\b| \b\b/ \b\b- \b\b\\ \b\b| \b\b/ \b\b- \b\b\\ \b\b| \b\b/ \b\b- \b\b\\ \b\b| b'By downloading and using the cuDNN conda packages, you accept the terms and conditions of the NVIDIA cuDNN EULA -\\n  https://docs.nvidia.com/deeplearning/cudnn/sla/index.html\\n'\n",
            "\b\b/ \b\b- \b\b\\ \b\b| \b\b/ \b\b- \b\b\\ \b\b| \b\b/ \b\b- \b\b\\ \b\b| \b\b/ \b\b- \b\b\\ \b\b| \b\b/ \b\b- \b\b\\ \b\b| \b\b/ \b\b- \b\b\\ \b\b| \b\b/ \b\b- \b\b\\ \b\b| \b\b/ \b\b- \b\b\\ \b\b| \b\b/ \b\bdone\n",
            "\n",
            "real\t6m4.829s\n",
            "user\t5m13.301s\n",
            "sys\t0m16.986s\n",
            "Collecting mordred\n",
            "\u001b[?25l  Downloading https://files.pythonhosted.org/packages/93/3d/26c908ece761adafcea06320bf8fe73f4de69979273fb164226dc6038c39/mordred-1.2.0.tar.gz (128kB)\n",
            "\u001b[K     |████████████████████████████████| 133kB 5.0MB/s \n",
            "\u001b[?25hRequirement already satisfied: six==1.* in /usr/local/lib/python3.7/site-packages (from mordred) (1.12.0)\n",
            "Requirement already satisfied: numpy==1.* in /usr/local/lib/python3.7/site-packages (from mordred) (1.17.2)\n",
            "Requirement already satisfied: networkx==2.* in /usr/local/lib/python3.7/site-packages (from mordred) (2.3)\n",
            "Requirement already satisfied: decorator>=4.3.0 in /usr/local/lib/python3.7/site-packages (from networkx==2.*->mordred) (4.4.0)\n",
            "Building wheels for collected packages: mordred\n",
            "  Building wheel for mordred (setup.py) ... \u001b[?25l\u001b[?25hdone\n",
            "  Created wheel for mordred: filename=mordred-1.2.0-cp37-none-any.whl size=176721 sha256=ebf00d72f41e939dbad2552bfb5dc9585de996e472991f1afecadf63104e47d2\n",
            "  Stored in directory: /root/.cache/pip/wheels/ac/74/3f/2fd81b1187013f2eadb15620434813f1824c4c03b7bd1f94f6\n",
            "Successfully built mordred\n",
            "Installing collected packages: mordred\n",
            "Successfully installed mordred-1.2.0\n",
            "Collecting bravado\n",
            "  Downloading https://files.pythonhosted.org/packages/21/ed/03b0c36b5bcafbe2938ed222f9a164a6c0367ce99a9d2d502e462853571d/bravado-11.0.3-py2.py3-none-any.whl\n",
            "Collecting simplejson (from bravado)\n",
            "\u001b[?25l  Downloading https://files.pythonhosted.org/packages/a8/04/377418ac1e530ce2a196b54c6552c018fdf1fe776718053efb1f216bffcd/simplejson-3.17.2-cp37-cp37m-manylinux2010_x86_64.whl (128kB)\n",
            "\u001b[K     |████████████████████████████████| 133kB 8.4MB/s \n",
            "\u001b[?25hRequirement already satisfied, skipping upgrade: msgpack in /usr/local/lib/python3.7/site-packages (from bravado) (0.6.1)\n",
            "Requirement already satisfied, skipping upgrade: typing-extensions in /usr/local/lib/python3.7/site-packages (from bravado) (3.7.4.3)\n",
            "Requirement already satisfied, skipping upgrade: requests>=2.17 in /usr/local/lib/python3.7/site-packages (from bravado) (2.22.0)\n",
            "Requirement already satisfied, skipping upgrade: python-dateutil in /usr/local/lib/python3.7/site-packages (from bravado) (2.8.0)\n",
            "Requirement already satisfied, skipping upgrade: six in /usr/local/lib/python3.7/site-packages (from bravado) (1.12.0)\n",
            "Collecting bravado-core>=5.16.1 (from bravado)\n",
            "\u001b[?25l  Downloading https://files.pythonhosted.org/packages/76/11/18e9d28a156c33f2d5f15a5e155dc7130250acb0a569255a2b6b307b596d/bravado_core-5.17.0-py2.py3-none-any.whl (67kB)\n",
            "\u001b[K     |████████████████████████████████| 71kB 20.6MB/s \n",
            "\u001b[?25hCollecting monotonic (from bravado)\n",
            "  Downloading https://files.pythonhosted.org/packages/9a/67/7e8406a29b6c45be7af7740456f7f37025f0506ae2e05fb9009a53946860/monotonic-1.6-py2.py3-none-any.whl\n",
            "Requirement already satisfied, skipping upgrade: pyyaml in /usr/local/lib/python3.7/site-packages (from bravado) (5.1.2)\n",
            "Requirement already satisfied, skipping upgrade: chardet<3.1.0,>=3.0.2 in /usr/local/lib/python3.7/site-packages (from requests>=2.17->bravado) (3.0.4)\n",
            "Requirement already satisfied, skipping upgrade: certifi>=2017.4.17 in /usr/local/lib/python3.7/site-packages (from requests>=2.17->bravado) (2019.9.11)\n",
            "Requirement already satisfied, skipping upgrade: idna<2.9,>=2.5 in /usr/local/lib/python3.7/site-packages (from requests>=2.17->bravado) (2.8)\n",
            "Requirement already satisfied, skipping upgrade: urllib3!=1.25.0,!=1.25.1,<1.26,>=1.21.1 in /usr/local/lib/python3.7/site-packages (from requests>=2.17->bravado) (1.24.2)\n",
            "Requirement already satisfied, skipping upgrade: jsonschema[format]>=2.5.1 in /usr/local/lib/python3.7/site-packages (from bravado-core>=5.16.1->bravado) (3.0.2)\n",
            "Collecting swagger-spec-validator>=2.0.1 (from bravado-core>=5.16.1->bravado)\n",
            "  Downloading https://files.pythonhosted.org/packages/09/de/e78cefbf5838b434b63a789264b79821cb2267f1498fbed23ef8590133e4/swagger_spec_validator-2.7.3-py2.py3-none-any.whl\n",
            "Requirement already satisfied, skipping upgrade: pytz in /usr/local/lib/python3.7/site-packages (from bravado-core>=5.16.1->bravado) (2019.3)\n",
            "Collecting jsonref (from bravado-core>=5.16.1->bravado)\n",
            "  Downloading https://files.pythonhosted.org/packages/07/92/f8e4ac824b14af77e613984e480fa818397c72d4141fc466decb26752749/jsonref-0.2-py3-none-any.whl\n",
            "Requirement already satisfied, skipping upgrade: setuptools in /usr/local/lib/python3.7/site-packages (from jsonschema[format]>=2.5.1->bravado-core>=5.16.1->bravado) (41.4.0)\n",
            "Requirement already satisfied, skipping upgrade: pyrsistent>=0.14.0 in /usr/local/lib/python3.7/site-packages (from jsonschema[format]>=2.5.1->bravado-core>=5.16.1->bravado) (0.15.4)\n",
            "Requirement already satisfied, skipping upgrade: attrs>=17.4.0 in /usr/local/lib/python3.7/site-packages (from jsonschema[format]>=2.5.1->bravado-core>=5.16.1->bravado) (19.2.0)\n",
            "Collecting webcolors; extra == \"format\" (from jsonschema[format]>=2.5.1->bravado-core>=5.16.1->bravado)\n",
            "  Downloading https://files.pythonhosted.org/packages/12/05/3350559de9714b202e443a9e6312937341bd5f79f4e4f625744295e7dd17/webcolors-1.11.1-py3-none-any.whl\n",
            "Collecting rfc3987; extra == \"format\" (from jsonschema[format]>=2.5.1->bravado-core>=5.16.1->bravado)\n",
            "  Downloading https://files.pythonhosted.org/packages/65/d4/f7407c3d15d5ac779c3dd34fbbc6ea2090f77bd7dd12f207ccf881551208/rfc3987-1.3.8-py2.py3-none-any.whl\n",
            "Collecting strict-rfc3339; extra == \"format\" (from jsonschema[format]>=2.5.1->bravado-core>=5.16.1->bravado)\n",
            "  Downloading https://files.pythonhosted.org/packages/56/e4/879ef1dbd6ddea1c77c0078cd59b503368b0456bcca7d063a870ca2119d3/strict-rfc3339-0.7.tar.gz\n",
            "Collecting jsonpointer>1.13; extra == \"format\" (from jsonschema[format]>=2.5.1->bravado-core>=5.16.1->bravado)\n",
            "  Downloading https://files.pythonhosted.org/packages/23/52/05f67532aa922e494c351344e0d9624a01f74f5dd8402fe0d1b563a6e6fc/jsonpointer-2.1-py2.py3-none-any.whl\n",
            "Building wheels for collected packages: strict-rfc3339\n",
            "  Building wheel for strict-rfc3339 (setup.py) ... \u001b[?25l\u001b[?25hdone\n",
            "  Created wheel for strict-rfc3339: filename=strict_rfc3339-0.7-cp37-none-any.whl size=18120 sha256=e2dfb4b954e23631eb93f13b18b3c38e661fcc26a752557809595ee7a6726bd4\n",
            "  Stored in directory: /root/.cache/pip/wheels/bb/af/c9/b6e9fb5f9b2470e4ed2a7241c9ab3a8cdd3bc8555ae02ca2e6\n",
            "Successfully built strict-rfc3339\n",
            "Installing collected packages: simplejson, swagger-spec-validator, jsonref, bravado-core, monotonic, bravado, webcolors, rfc3987, strict-rfc3339, jsonpointer\n",
            "Successfully installed bravado-11.0.3 bravado-core-5.17.0 jsonpointer-2.1 jsonref-0.2 monotonic-1.6 rfc3987-1.3.8 simplejson-3.17.2 strict-rfc3339-0.7 swagger-spec-validator-2.7.3 webcolors-1.11.1\n",
            "Collecting molvs\n",
            "\u001b[?25l  Downloading https://files.pythonhosted.org/packages/08/dc/d948e83b97f2c420cb6c7e2143ae349560d3b5b061945f1b2a4eefb0231c/MolVS-0.1.1.tar.gz (61kB)\n",
            "\u001b[K     |████████████████████████████████| 71kB 6.1MB/s \n",
            "\u001b[?25hRequirement already satisfied: six in /usr/local/lib/python3.7/site-packages (from molvs) (1.12.0)\n",
            "Building wheels for collected packages: molvs\n",
            "  Building wheel for molvs (setup.py) ... \u001b[?25l\u001b[?25hdone\n",
            "  Created wheel for molvs: filename=MolVS-0.1.1-cp37-none-any.whl size=32376 sha256=e7358be0a608bbeafb8e92ee0e33cfe88c955be6620f9b5e5ddbdd2f9971e90a\n",
            "  Stored in directory: /root/.cache/pip/wheels/30/37/a8/8ac8147605c9de6b45ffd66d1cc19761d41467db12b34a0de8\n",
            "Successfully built molvs\n",
            "Installing collected packages: molvs\n",
            "Successfully installed molvs-0.1.1\n",
            "--2021-04-28 02:17:49--  https://raw.githubusercontent.com/ravichas/AMPL-Tutorial/master/config/install_AMPL_GPU_test.sh\n",
            "Resolving raw.githubusercontent.com (raw.githubusercontent.com)... 185.199.108.133, 185.199.109.133, 185.199.110.133, ...\n",
            "Connecting to raw.githubusercontent.com (raw.githubusercontent.com)|185.199.108.133|:443... connected.\n",
            "HTTP request sent, awaiting response... 200 OK\n",
            "Length: 1100 (1.1K) [text/plain]\n",
            "Saving to: ‘install_AMPL_GPU_test.sh’\n",
            "\n",
            "install_AMPL_GPU_te 100%[===================>]   1.07K  --.-KB/s    in 0s      \n",
            "\n",
            "2021-04-28 02:17:49 (40.5 MB/s) - ‘install_AMPL_GPU_test.sh’ saved [1100/1100]\n",
            "\n",
            "Cloning into 'AMPL'...\n",
            "remote: Enumerating objects: 2085, done.\u001b[K\n",
            "remote: Counting objects: 100% (577/577), done.\u001b[K\n",
            "remote: Compressing objects: 100% (323/323), done.\u001b[K\n",
            "remote: Total 2085 (delta 398), reused 392 (delta 253), pack-reused 1508\u001b[K\n",
            "Receiving objects: 100% (2085/2085), 9.83 MiB | 20.93 MiB/s, done.\n",
            "Resolving deltas: 100% (1210/1210), done.\n",
            "Branch 'pkg_upgrade' set up to track remote branch 'pkg_upgrade' from 'origin'.\n",
            "Switched to a new branch 'pkg_upgrade'\n",
            "patching file /content/github/AMPL/atomsci/ddm/pipeline/transformations.py\n",
            "patching file /content/github/AMPL/atomsci/ddm/__init__.py\n",
            "running build\n",
            "running build_py\n",
            "creating /content/github/AMPL.build/ampl/lib\n",
            "creating /content/github/AMPL.build/ampl/lib/atomsci\n",
            "copying atomsci/__init__.py -> /content/github/AMPL.build/ampl/lib/atomsci\n",
            "creating /content/github/AMPL.build/ampl/lib/atomsci/ddm\n",
            "copying atomsci/ddm/__init__.py -> /content/github/AMPL.build/ampl/lib/atomsci/ddm\n",
            "creating /content/github/AMPL.build/ampl/lib/atomsci/ddm/pipeline\n",
            "copying atomsci/ddm/pipeline/splitting.py -> /content/github/AMPL.build/ampl/lib/atomsci/ddm/pipeline\n",
            "copying atomsci/ddm/pipeline/model_tracker.py -> /content/github/AMPL.build/ampl/lib/atomsci/ddm/pipeline\n",
            "copying atomsci/ddm/pipeline/model_wrapper.py -> /content/github/AMPL.build/ampl/lib/atomsci/ddm/pipeline\n",
            "copying atomsci/ddm/pipeline/perf_data.py -> /content/github/AMPL.build/ampl/lib/atomsci/ddm/pipeline\n",
            "copying atomsci/ddm/pipeline/__init__.py -> /content/github/AMPL.build/ampl/lib/atomsci/ddm/pipeline\n",
            "copying atomsci/ddm/pipeline/model_pipeline.py -> /content/github/AMPL.build/ampl/lib/atomsci/ddm/pipeline\n",
            "copying atomsci/ddm/pipeline/chem_diversity.py -> /content/github/AMPL.build/ampl/lib/atomsci/ddm/pipeline\n",
            "copying atomsci/ddm/pipeline/model_datasets.py -> /content/github/AMPL.build/ampl/lib/atomsci/ddm/pipeline\n",
            "copying atomsci/ddm/pipeline/perf_plots.py -> /content/github/AMPL.build/ampl/lib/atomsci/ddm/pipeline\n",
            "copying atomsci/ddm/pipeline/featurization.py -> /content/github/AMPL.build/ampl/lib/atomsci/ddm/pipeline\n",
            "copying atomsci/ddm/pipeline/predict_from_model.py -> /content/github/AMPL.build/ampl/lib/atomsci/ddm/pipeline\n",
            "copying atomsci/ddm/pipeline/compare_models.py -> /content/github/AMPL.build/ampl/lib/atomsci/ddm/pipeline\n",
            "copying atomsci/ddm/pipeline/temporal_splitter.py -> /content/github/AMPL.build/ampl/lib/atomsci/ddm/pipeline\n",
            "copying atomsci/ddm/pipeline/dist_metrics.py -> /content/github/AMPL.build/ampl/lib/atomsci/ddm/pipeline\n",
            "copying atomsci/ddm/pipeline/diversity_plots.py -> /content/github/AMPL.build/ampl/lib/atomsci/ddm/pipeline\n",
            "copying atomsci/ddm/pipeline/ave_splitter.py -> /content/github/AMPL.build/ampl/lib/atomsci/ddm/pipeline\n",
            "copying atomsci/ddm/pipeline/transformations.py -> /content/github/AMPL.build/ampl/lib/atomsci/ddm/pipeline\n",
            "copying atomsci/ddm/pipeline/parameter_parser.py -> /content/github/AMPL.build/ampl/lib/atomsci/ddm/pipeline\n",
            "copying atomsci/ddm/pipeline/hyper_perf_plots.py -> /content/github/AMPL.build/ampl/lib/atomsci/ddm/pipeline\n",
            "creating /content/github/AMPL.build/ampl/lib/atomsci/ddm/utils\n",
            "copying atomsci/ddm/utils/process_slurm.py -> /content/github/AMPL.build/ampl/lib/atomsci/ddm/utils\n",
            "copying atomsci/ddm/utils/llnl_utils.py -> /content/github/AMPL.build/ampl/lib/atomsci/ddm/utils\n",
            "copying atomsci/ddm/utils/curate_data.py -> /content/github/AMPL.build/ampl/lib/atomsci/ddm/utils\n",
            "copying atomsci/ddm/utils/__init__.py -> /content/github/AMPL.build/ampl/lib/atomsci/ddm/utils\n",
            "copying atomsci/ddm/utils/hyperparam_search_wrapper.py -> /content/github/AMPL.build/ampl/lib/atomsci/ddm/utils\n",
            "copying atomsci/ddm/utils/struct_utils.py -> /content/github/AMPL.build/ampl/lib/atomsci/ddm/utils\n",
            "copying atomsci/ddm/utils/rdkit_easy.py -> /content/github/AMPL.build/ampl/lib/atomsci/ddm/utils\n",
            "copying atomsci/ddm/utils/genTestset.py -> /content/github/AMPL.build/ampl/lib/atomsci/ddm/utils\n",
            "copying atomsci/ddm/utils/datastore_functions.py -> /content/github/AMPL.build/ampl/lib/atomsci/ddm/utils\n",
            "copying atomsci/ddm/utils/model_retrain.py -> /content/github/AMPL.build/ampl/lib/atomsci/ddm/utils\n",
            "copying atomsci/ddm/utils/open-docs.py -> /content/github/AMPL.build/ampl/lib/atomsci/ddm/utils\n",
            "copying atomsci/ddm/utils/data_curation_functions.py -> /content/github/AMPL.build/ampl/lib/atomsci/ddm/utils\n",
            "copying atomsci/ddm/utils/pubchem_utils.py -> /content/github/AMPL.build/ampl/lib/atomsci/ddm/utils\n",
            "running egg_info\n",
            "creating /content/github/AMPL.build/ampl/atomsci_ampl.egg-info\n",
            "writing /content/github/AMPL.build/ampl/atomsci_ampl.egg-info/PKG-INFO\n",
            "writing dependency_links to /content/github/AMPL.build/ampl/atomsci_ampl.egg-info/dependency_links.txt\n",
            "writing namespace_packages to /content/github/AMPL.build/ampl/atomsci_ampl.egg-info/namespace_packages.txt\n",
            "writing top-level names to /content/github/AMPL.build/ampl/atomsci_ampl.egg-info/top_level.txt\n",
            "writing manifest file '/content/github/AMPL.build/ampl/atomsci_ampl.egg-info/SOURCES.txt'\n",
            "reading manifest file '/content/github/AMPL.build/ampl/atomsci_ampl.egg-info/SOURCES.txt'\n",
            "reading manifest template 'MANIFEST.in'\n",
            "warning: no files found matching 'atomsci/*/*.yaml'\n",
            "writing manifest file '/content/github/AMPL.build/ampl/atomsci_ampl.egg-info/SOURCES.txt'\n",
            "creating /content/github/AMPL.build/ampl/lib/atomsci/ddm/data\n",
            "copying atomsci/ddm/data/descriptor_sets_sources_by_descr_type.csv -> /content/github/AMPL.build/ampl/lib/atomsci/ddm/data\n",
            "running bdist_wheel\n",
            "installing to /content/github/AMPL.build/ampl/bdist.linux-x86_64/wheel\n",
            "running install\n",
            "running install_lib\n",
            "Skipping installation of /content/github/AMPL.build/ampl/bdist.linux-x86_64/wheel/atomsci/__init__.py (namespace package)\n",
            "copying atomsci/ddm/__init__.py -> /content/github/AMPL.build/ampl/bdist.linux-x86_64/wheel/atomsci/ddm\n",
            "copying atomsci/ddm/pipeline/splitting.py -> /content/github/AMPL.build/ampl/bdist.linux-x86_64/wheel/atomsci/ddm/pipeline\n",
            "copying atomsci/ddm/pipeline/model_tracker.py -> /content/github/AMPL.build/ampl/bdist.linux-x86_64/wheel/atomsci/ddm/pipeline\n",
            "copying atomsci/ddm/pipeline/model_wrapper.py -> /content/github/AMPL.build/ampl/bdist.linux-x86_64/wheel/atomsci/ddm/pipeline\n",
            "copying atomsci/ddm/pipeline/perf_data.py -> /content/github/AMPL.build/ampl/bdist.linux-x86_64/wheel/atomsci/ddm/pipeline\n",
            "copying atomsci/ddm/pipeline/__init__.py -> /content/github/AMPL.build/ampl/bdist.linux-x86_64/wheel/atomsci/ddm/pipeline\n",
            "copying atomsci/ddm/pipeline/model_pipeline.py -> /content/github/AMPL.build/ampl/bdist.linux-x86_64/wheel/atomsci/ddm/pipeline\n",
            "copying atomsci/ddm/pipeline/chem_diversity.py -> /content/github/AMPL.build/ampl/bdist.linux-x86_64/wheel/atomsci/ddm/pipeline\n",
            "copying atomsci/ddm/pipeline/model_datasets.py -> /content/github/AMPL.build/ampl/bdist.linux-x86_64/wheel/atomsci/ddm/pipeline\n",
            "copying atomsci/ddm/pipeline/perf_plots.py -> /content/github/AMPL.build/ampl/bdist.linux-x86_64/wheel/atomsci/ddm/pipeline\n",
            "copying atomsci/ddm/pipeline/featurization.py -> /content/github/AMPL.build/ampl/bdist.linux-x86_64/wheel/atomsci/ddm/pipeline\n",
            "copying atomsci/ddm/pipeline/predict_from_model.py -> /content/github/AMPL.build/ampl/bdist.linux-x86_64/wheel/atomsci/ddm/pipeline\n",
            "copying atomsci/ddm/pipeline/compare_models.py -> /content/github/AMPL.build/ampl/bdist.linux-x86_64/wheel/atomsci/ddm/pipeline\n",
            "copying atomsci/ddm/pipeline/temporal_splitter.py -> /content/github/AMPL.build/ampl/bdist.linux-x86_64/wheel/atomsci/ddm/pipeline\n",
            "copying atomsci/ddm/pipeline/dist_metrics.py -> /content/github/AMPL.build/ampl/bdist.linux-x86_64/wheel/atomsci/ddm/pipeline\n",
            "copying atomsci/ddm/pipeline/diversity_plots.py -> /content/github/AMPL.build/ampl/bdist.linux-x86_64/wheel/atomsci/ddm/pipeline\n",
            "copying atomsci/ddm/pipeline/ave_splitter.py -> /content/github/AMPL.build/ampl/bdist.linux-x86_64/wheel/atomsci/ddm/pipeline\n",
            "copying atomsci/ddm/pipeline/transformations.py -> /content/github/AMPL.build/ampl/bdist.linux-x86_64/wheel/atomsci/ddm/pipeline\n",
            "copying atomsci/ddm/pipeline/parameter_parser.py -> /content/github/AMPL.build/ampl/bdist.linux-x86_64/wheel/atomsci/ddm/pipeline\n",
            "copying atomsci/ddm/pipeline/hyper_perf_plots.py -> /content/github/AMPL.build/ampl/bdist.linux-x86_64/wheel/atomsci/ddm/pipeline\n",
            "copying atomsci/ddm/utils/process_slurm.py -> /content/github/AMPL.build/ampl/bdist.linux-x86_64/wheel/atomsci/ddm/utils\n",
            "copying atomsci/ddm/utils/llnl_utils.py -> /content/github/AMPL.build/ampl/bdist.linux-x86_64/wheel/atomsci/ddm/utils\n",
            "copying atomsci/ddm/utils/curate_data.py -> /content/github/AMPL.build/ampl/bdist.linux-x86_64/wheel/atomsci/ddm/utils\n",
            "copying atomsci/ddm/utils/__init__.py -> /content/github/AMPL.build/ampl/bdist.linux-x86_64/wheel/atomsci/ddm/utils\n",
            "copying atomsci/ddm/utils/hyperparam_search_wrapper.py -> /content/github/AMPL.build/ampl/bdist.linux-x86_64/wheel/atomsci/ddm/utils\n",
            "copying atomsci/ddm/utils/struct_utils.py -> /content/github/AMPL.build/ampl/bdist.linux-x86_64/wheel/atomsci/ddm/utils\n",
            "copying atomsci/ddm/utils/rdkit_easy.py -> /content/github/AMPL.build/ampl/bdist.linux-x86_64/wheel/atomsci/ddm/utils\n",
            "copying atomsci/ddm/utils/genTestset.py -> /content/github/AMPL.build/ampl/bdist.linux-x86_64/wheel/atomsci/ddm/utils\n",
            "copying atomsci/ddm/utils/datastore_functions.py -> /content/github/AMPL.build/ampl/bdist.linux-x86_64/wheel/atomsci/ddm/utils\n",
            "copying atomsci/ddm/utils/model_retrain.py -> /content/github/AMPL.build/ampl/bdist.linux-x86_64/wheel/atomsci/ddm/utils\n",
            "copying atomsci/ddm/utils/open-docs.py -> /content/github/AMPL.build/ampl/bdist.linux-x86_64/wheel/atomsci/ddm/utils\n",
            "copying atomsci/ddm/utils/data_curation_functions.py -> /content/github/AMPL.build/ampl/bdist.linux-x86_64/wheel/atomsci/ddm/utils\n",
            "copying atomsci/ddm/utils/pubchem_utils.py -> /content/github/AMPL.build/ampl/bdist.linux-x86_64/wheel/atomsci/ddm/utils\n",
            "copying atomsci/ddm/data/descriptor_sets_sources_by_descr_type.csv -> /content/github/AMPL.build/ampl/bdist.linux-x86_64/wheel/atomsci/ddm/data\n",
            "running install_egg_info\n",
            "Copying /content/github/AMPL.build/ampl/atomsci_ampl.egg-info to /content/github/AMPL.build/ampl/bdist.linux-x86_64/wheel/atomsci_ampl-1.1.0-py3.7.egg-info\n",
            "Installing /content/github/AMPL.build/ampl/bdist.linux-x86_64/wheel/atomsci_ampl-1.1.0-py3.7-nspkg.pth\n",
            "running install_scripts\n",
            "adding license file \"LICENSE\" (matched pattern \"LICEN[CS]E*\")\n",
            "adding license file \"NOTICE\" (matched pattern \"NOTICE*\")\n",
            "creating /content/github/AMPL.build/ampl/bdist.linux-x86_64/wheel/atomsci_ampl-1.1.0.dist-info/WHEEL\n",
            "creating '/content/github/AMPL.dist/atomsci_ampl-1.1.0-py3-none-any.whl' and adding '/content/github/AMPL.build/ampl/bdist.linux-x86_64/wheel' to it\n",
            "adding 'atomsci_ampl-1.1.0-py3.7-nspkg.pth'\n",
            "adding 'atomsci/ddm/__init__.py'\n",
            "adding 'atomsci/ddm/data/descriptor_sets_sources_by_descr_type.csv'\n",
            "adding 'atomsci/ddm/pipeline/__init__.py'\n",
            "adding 'atomsci/ddm/pipeline/ave_splitter.py'\n",
            "adding 'atomsci/ddm/pipeline/chem_diversity.py'\n",
            "adding 'atomsci/ddm/pipeline/compare_models.py'\n",
            "adding 'atomsci/ddm/pipeline/dist_metrics.py'\n",
            "adding 'atomsci/ddm/pipeline/diversity_plots.py'\n",
            "adding 'atomsci/ddm/pipeline/featurization.py'\n",
            "adding 'atomsci/ddm/pipeline/hyper_perf_plots.py'\n",
            "adding 'atomsci/ddm/pipeline/model_datasets.py'\n",
            "adding 'atomsci/ddm/pipeline/model_pipeline.py'\n",
            "adding 'atomsci/ddm/pipeline/model_tracker.py'\n",
            "adding 'atomsci/ddm/pipeline/model_wrapper.py'\n",
            "adding 'atomsci/ddm/pipeline/parameter_parser.py'\n",
            "adding 'atomsci/ddm/pipeline/perf_data.py'\n",
            "adding 'atomsci/ddm/pipeline/perf_plots.py'\n",
            "adding 'atomsci/ddm/pipeline/predict_from_model.py'\n",
            "adding 'atomsci/ddm/pipeline/splitting.py'\n",
            "adding 'atomsci/ddm/pipeline/temporal_splitter.py'\n",
            "adding 'atomsci/ddm/pipeline/transformations.py'\n",
            "adding 'atomsci/ddm/utils/__init__.py'\n",
            "adding 'atomsci/ddm/utils/curate_data.py'\n",
            "adding 'atomsci/ddm/utils/data_curation_functions.py'\n",
            "adding 'atomsci/ddm/utils/datastore_functions.py'\n",
            "adding 'atomsci/ddm/utils/genTestset.py'\n",
            "adding 'atomsci/ddm/utils/hyperparam_search_wrapper.py'\n",
            "adding 'atomsci/ddm/utils/llnl_utils.py'\n",
            "adding 'atomsci/ddm/utils/model_retrain.py'\n",
            "adding 'atomsci/ddm/utils/open-docs.py'\n",
            "adding 'atomsci/ddm/utils/process_slurm.py'\n",
            "adding 'atomsci/ddm/utils/pubchem_utils.py'\n",
            "adding 'atomsci/ddm/utils/rdkit_easy.py'\n",
            "adding 'atomsci/ddm/utils/struct_utils.py'\n",
            "adding 'atomsci_ampl-1.1.0.dist-info/LICENSE'\n",
            "adding 'atomsci_ampl-1.1.0.dist-info/METADATA'\n",
            "adding 'atomsci_ampl-1.1.0.dist-info/NOTICE'\n",
            "adding 'atomsci_ampl-1.1.0.dist-info/WHEEL'\n",
            "adding 'atomsci_ampl-1.1.0.dist-info/namespace_packages.txt'\n",
            "adding 'atomsci_ampl-1.1.0.dist-info/top_level.txt'\n",
            "adding 'atomsci_ampl-1.1.0.dist-info/RECORD'\n",
            "removing /content/github/AMPL.build/ampl/bdist.linux-x86_64/wheel\n",
            "DIR: /content/github/AMPL\n",
            "Ignoring indexes: https://pypi.org/simple\n",
            "Created temporary directory: /tmp/pip-ephem-wheel-cache-5ewfocpj\n",
            "Created temporary directory: /tmp/pip-req-tracker-_pfun50s\n",
            "Created requirements tracker '/tmp/pip-req-tracker-_pfun50s'\n",
            "Created temporary directory: /tmp/pip-install-02soczb9\n",
            "Looking in links: /content/github/AMPL.dist\n",
            "Collecting atomsci_ampl\n",
            "  0 location(s) to search for versions of atomsci-ampl:\n",
            "  Skipping link: unsupported archive format: .dist: /content/github/AMPL.dist (from -f)\n",
            "  Found link file:///content/github/AMPL.dist/atomsci_ampl-1.1.0-py3-none-any.whl, version: 1.1.0\n",
            "  Local files found: /content/github/AMPL.dist/atomsci_ampl-1.1.0-py3-none-any.whl\n",
            "  Given no hashes to check 1 links for project 'atomsci-ampl': discarding no candidates\n",
            "  Using version 1.1.0 (newest of versions: 1.1.0)\n",
            "  Added atomsci_ampl from file:///content/github/AMPL.dist/atomsci_ampl-1.1.0-py3-none-any.whl to build tracker '/tmp/pip-req-tracker-_pfun50s'\n",
            "  Removed atomsci_ampl from file:///content/github/AMPL.dist/atomsci_ampl-1.1.0-py3-none-any.whl from build tracker '/tmp/pip-req-tracker-_pfun50s'\n",
            "Installing collected packages: atomsci-ampl\n",
            "\n",
            "Successfully installed atomsci-ampl-1.1.0\n",
            "Cleaning up...\n",
            "Removed build tracker '/tmp/pip-req-tracker-_pfun50s'\n"
          ],
          "name": "stdout"
        }
      ]
    },
    {
      "cell_type": "code",
      "metadata": {
        "colab": {
          "base_uri": "https://localhost:8080/"
        },
        "id": "DOO8lgRtPQos",
        "outputId": "edacfe91-0b82-44ef-ab2e-ac03c4ad1a69"
      },
      "source": [
        "!wget https://raw.githubusercontent.com/ranpei97/E4511-2021-Pei/main/HTR2A_cur.csv"
      ],
      "execution_count": null,
      "outputs": [
        {
          "output_type": "stream",
          "text": [
            "--2021-04-28 05:51:37--  https://raw.githubusercontent.com/ranpei97/E4511-2021-Pei/main/HTR2A_cur.csv\n",
            "Resolving raw.githubusercontent.com (raw.githubusercontent.com)... 185.199.108.133, 185.199.109.133, 185.199.110.133, ...\n",
            "Connecting to raw.githubusercontent.com (raw.githubusercontent.com)|185.199.108.133|:443... connected.\n",
            "HTTP request sent, awaiting response... 200 OK\n",
            "Length: 343123 (335K) [text/plain]\n",
            "Saving to: ‘HTR2A_cur.csv’\n",
            "\n",
            "HTR2A_cur.csv       100%[===================>] 335.08K  --.-KB/s    in 0.03s   \n",
            "\n",
            "2021-04-28 05:51:38 (9.82 MB/s) - ‘HTR2A_cur.csv’ saved [343123/343123]\n",
            "\n"
          ],
          "name": "stdout"
        }
      ]
    },
    {
      "cell_type": "code",
      "metadata": {
        "colab": {
          "base_uri": "https://localhost:8080/"
        },
        "id": "0bSvFflvUsO2",
        "outputId": "454296a6-717a-4691-a54e-7b6c5f68cc98"
      },
      "source": [
        "!pip install hyperopt"
      ],
      "execution_count": null,
      "outputs": [
        {
          "output_type": "stream",
          "text": [
            "Collecting hyperopt\n",
            "\u001b[?25l  Downloading https://files.pythonhosted.org/packages/a6/07/bd524635d218adae139be320eeac87fb4fbbd45c63b0bd58930c9e91f1fc/hyperopt-0.2.5-py2.py3-none-any.whl (965kB)\n",
            "\u001b[K     |████████████████████████████████| 972kB 6.6MB/s \n",
            "\u001b[?25hRequirement already satisfied: six in /usr/local/lib/python3.7/site-packages (from hyperopt) (1.12.0)\n",
            "Requirement already satisfied: tqdm in /usr/local/lib/python3.7/site-packages (from hyperopt) (4.36.1)\n",
            "Requirement already satisfied: cloudpickle in /usr/local/lib/python3.7/site-packages (from hyperopt) (1.2.2)\n",
            "Requirement already satisfied: scipy in /usr/local/lib/python3.7/site-packages (from hyperopt) (1.3.1)\n",
            "Requirement already satisfied: future in /usr/local/lib/python3.7/site-packages (from hyperopt) (0.17.1)\n",
            "Requirement already satisfied: numpy in /usr/local/lib/python3.7/site-packages (from hyperopt) (1.17.2)\n",
            "Requirement already satisfied: networkx>=2.2 in /usr/local/lib/python3.7/site-packages (from hyperopt) (2.3)\n",
            "Requirement already satisfied: decorator>=4.3.0 in /usr/local/lib/python3.7/site-packages (from networkx>=2.2->hyperopt) (4.4.0)\n",
            "Installing collected packages: hyperopt\n",
            "Successfully installed hyperopt-0.2.5\n"
          ],
          "name": "stdout"
        }
      ]
    },
    {
      "cell_type": "code",
      "metadata": {
        "colab": {
          "base_uri": "https://localhost:8080/"
        },
        "id": "KRiIH66qUuYy",
        "outputId": "de74264f-f7ba-4ee1-cde6-862642fbc178"
      },
      "source": [
        "\n",
        "import warnings\n",
        "warnings.filterwarnings('ignore')\n",
        "\n",
        "import matplotlib.pyplot as plt\n",
        "import seaborn as sns\n",
        "import numpy as np\n",
        "sns.set_context(\"poster\")\n",
        "sns.set_style(\"whitegrid\")\n",
        "sns.set_palette(\"Set2\")\n",
        "\n",
        "import pandas as pd\n",
        "import os, json, sys, glob, pickle\n",
        "\n",
        "from atomsci.ddm.pipeline import parameter_parser as parse\n",
        "import atomsci.ddm.pipeline.model_pipeline as mp\n",
        "from atomsci.ddm.pipeline import perf_data\n",
        "\n",
        "from hyperopt import fmin, tpe, hp, Trials, STATUS_OK"
      ],
      "execution_count": null,
      "outputs": [
        {
          "output_type": "stream",
          "text": [
            "WARNING:tensorflow:\n",
            "The TensorFlow contrib module will not be included in TensorFlow 2.0.\n",
            "For more information, please see:\n",
            "  * https://github.com/tensorflow/community/blob/master/rfcs/20180907-contrib-sunset.md\n",
            "  * https://github.com/tensorflow/addons\n",
            "  * https://github.com/tensorflow/io (for I/O related ops)\n",
            "If you depend on functionality not listed there, please file an issue.\n",
            "\n"
          ],
          "name": "stdout"
        }
      ]
    },
    {
      "cell_type": "code",
      "metadata": {
        "id": "AtHsAkroVUGz"
      },
      "source": [
        "h1 = pd.read_csv(\"HTR2A_cur.csv\", index_col=0)"
      ],
      "execution_count": null,
      "outputs": []
    },
    {
      "cell_type": "code",
      "metadata": {
        "colab": {
          "base_uri": "https://localhost:8080/"
        },
        "id": "6bs_6PCio8LU",
        "outputId": "0a0ef41d-7397-4160-a99f-26afe3177c2b"
      },
      "source": [
        "train_file = \"HTR2A_cur.csv\"\n",
        "response_col = \"active\"\n",
        "compound_id = \"compound_id\"\n",
        "smiles_col = \"base_rdkit_smiles\"\n",
        "\n",
        "params = {\n",
        "        \"system\": \"LC\",\n",
        "        \"lc_account\": 'None',\n",
        "        \"datastore\": \"False\",\n",
        "        \"save_results\": \"False\",\n",
        "        \"data_owner\": \"username\",\n",
        "        \"prediction_type\": \"classification\",\n",
        "        \"dataset_key\": train_file,\n",
        "        \"id_col\": compound_id,\n",
        "        \"smiles_col\": smiles_col,\n",
        "        \"response_cols\": response_col,\n",
        "        \"previously_split\": \"False\",\n",
        "        \"split_only\": \"True\",\n",
        "        \"featurizer\": \"ecfp\",\n",
        "        \"model_type\": \"RF\",\n",
        "        \"verbose\": \"True\",\n",
        "        \"transformers\": \"True\",\n",
        "        'max_epochs': '70',\n",
        "        \"rerun\": \"False\",\n",
        "        \"result_dir\": \"split\"\n",
        "    }\n",
        "\n",
        "ampl_param = parse.wrapper(params)\n",
        "pl = mp.ModelPipeline(ampl_param)\n",
        "pl.train_model()"
      ],
      "execution_count": null,
      "outputs": [
        {
          "output_type": "stream",
          "text": [
            "2021-04-28 05:51:57,817 Splitting data by scaffold\n"
          ],
          "name": "stderr"
        },
        {
          "output_type": "stream",
          "text": [
            "number of features: 1024\n"
          ],
          "name": "stdout"
        },
        {
          "output_type": "stream",
          "text": [
            "2021-04-28 05:52:00,346 Dataset split table saved to /HTR2A_cur_train_valid_test_scaffold_355f3881-d1d2-4bfd-9652-1a4ef0bdeb23.csv\n"
          ],
          "name": "stderr"
        }
      ]
    },
    {
      "cell_type": "code",
      "metadata": {
        "id": "1KM0MnTqo_y5"
      },
      "source": [
        "listing = glob.glob(os.path.join(\"/\", \"HTR2A_cur_train_valid_test_scaffold_*\"))\n",
        "name = listing[0]\n",
        "split_uuid = name.split(\"_\")[-1].split(\".\")[0]\n",
        "response_col = \"active\"\n",
        "\n",
        "params = {\n",
        "        \"system\": \"LC\",\n",
        "        \"lc_account\": 'None',\n",
        "        \"datastore\": \"False\",\n",
        "        \"save_results\": \"False\",\n",
        "        \"data_owner\": \"username\",\n",
        "        \"prediction_type\": \"classification\",\n",
        "        \"dataset_key\": train_file,\n",
        "        \"id_col\": compound_id,\n",
        "        \"smiles_col\": smiles_col,\n",
        "        \"response_cols\": response_col,\n",
        "        \"split_uuid\": split_uuid,\n",
        "        \"previously_split\": \"True\",\n",
        "        \"featurizer\": \"ecfp\",\n",
        "        \"model_type\": \"RF\",\n",
        "        \"verbose\": \"True\",\n",
        "        \"transformers\": \"True\",\n",
        "        'max_epochs': '70',\n",
        "        \"rerun\": \"False\",\n",
        "        \"result_dir\": \"ampl_output\"\n",
        "    }"
      ],
      "execution_count": null,
      "outputs": []
    },
    {
      "cell_type": "code",
      "metadata": {
        "colab": {
          "base_uri": "https://localhost:8080/"
        },
        "id": "rDRo-L1kCWZr",
        "outputId": "d18e4e1f-159c-486c-ad26-deaa77f0d1b7"
      },
      "source": [
        "ampl_param = parse.wrapper(params)\n",
        "pl = mp.ModelPipeline(ampl_param)\n",
        "pl.train_model()"
      ],
      "execution_count": null,
      "outputs": [
        {
          "output_type": "stream",
          "text": [
            "number of features: 1024\n"
          ],
          "name": "stdout"
        },
        {
          "output_type": "stream",
          "text": [
            "2021-04-28 05:58:28,928 Previous dataset split restored\n",
            "2021-04-28 05:58:37,502 Wrote model metadata to file ampl_output/HTR2A_cur/RF_ecfp_scaffold_classification/84cdb0a5-bcca-4cfa-8fa3-4b3da8d80972/model_metadata.json\n",
            "2021-04-28 05:58:37,846 Wrote model metrics to file ampl_output/HTR2A_cur/RF_ecfp_scaffold_classification/84cdb0a5-bcca-4cfa-8fa3-4b3da8d80972/model_metrics.json\n"
          ],
          "name": "stderr"
        },
        {
          "output_type": "stream",
          "text": [
            "Wrote model tarball to ampl_output/HTR2A_cur_model_84cdb0a5-bcca-4cfa-8fa3-4b3da8d80972.tar.gz\n"
          ],
          "name": "stdout"
        }
      ]
    },
    {
      "cell_type": "code",
      "metadata": {
        "colab": {
          "base_uri": "https://localhost:8080/"
        },
        "id": "FexByvozDnX6",
        "outputId": "76622191-91be-453a-b7ac-94268d1e90d5"
      },
      "source": [
        "\n",
        "pred_data = pl.model_wrapper.get_perf_data(subset=\"valid\", epoch_label=\"best\")\n",
        "pred_results = pred_data.get_prediction_results()\n",
        "print(f\"AUC score of validation set: {pred_results['roc_auc_score']:.3f}\")"
      ],
      "execution_count": null,
      "outputs": [
        {
          "output_type": "stream",
          "text": [
            "AUC score of validation set: 0.860\n"
          ],
          "name": "stdout"
        }
      ]
    },
    {
      "cell_type": "code",
      "metadata": {
        "id": "flZaFP19D2bs"
      },
      "source": [
        "\n",
        "# Adding uncertainty to base training model\n",
        "listing = glob.glob(os.path.join(\"/\", \"HTR2A_cur_train_valid_test_scaffold_*\"))\n",
        "name = listing[0]\n",
        "split_uuid = name.split(\"_\")[-1].split(\".\")[0]\n",
        "response_col = \"active\"\n",
        "\n",
        "params = {\n",
        "        \"system\": \"LC\",\n",
        "        \"lc_account\": 'None',\n",
        "        \"datastore\": \"False\",\n",
        "        \"save_results\": \"False\",\n",
        "        \"data_owner\": \"username\",\n",
        "        \"prediction_type\": \"classification\",\n",
        "        \"dataset_key\": train_file,\n",
        "        \"id_col\": compound_id,\n",
        "        \"smiles_col\": smiles_col,\n",
        "        \"response_cols\": response_col,\n",
        "        \"split_uuid\": split_uuid,\n",
        "        \"previously_split\": \"True\",\n",
        "        \"featurizer\": \"ecfp\",\n",
        "        \"model_type\": \"RF\",\n",
        "        \"verbose\": \"True\",\n",
        "        \"transformers\": \"True\",\n",
        "        'max_epochs': '70',\n",
        "        \"rerun\": \"False\",\n",
        "        \"result_dir\": \"ampl_output\",\n",
        "        \"uncertainty\": \"True\"\n",
        "    }"
      ],
      "execution_count": null,
      "outputs": []
    },
    {
      "cell_type": "code",
      "metadata": {
        "colab": {
          "base_uri": "https://localhost:8080/"
        },
        "id": "vMxwOsDmEQns",
        "outputId": "f3c90e38-11bc-4c12-d447-5a73040b9aee"
      },
      "source": [
        "ampl_param = parse.wrapper(params)\n",
        "pl = mp.ModelPipeline(ampl_param)\n",
        "pl.train_model()"
      ],
      "execution_count": null,
      "outputs": [
        {
          "output_type": "stream",
          "text": [
            "number of features: 1024\n"
          ],
          "name": "stdout"
        },
        {
          "output_type": "stream",
          "text": [
            "2021-04-28 06:01:42,613 Previous dataset split restored\n",
            "2021-04-28 06:01:50,408 Wrote model metadata to file ampl_output/HTR2A_cur/RF_ecfp_scaffold_classification/3f6ba349-1203-4921-8572-9a56538220e5/model_metadata.json\n",
            "2021-04-28 06:01:50,748 Wrote model metrics to file ampl_output/HTR2A_cur/RF_ecfp_scaffold_classification/3f6ba349-1203-4921-8572-9a56538220e5/model_metrics.json\n"
          ],
          "name": "stderr"
        },
        {
          "output_type": "stream",
          "text": [
            "Wrote model tarball to ampl_output/HTR2A_cur_model_3f6ba349-1203-4921-8572-9a56538220e5.tar.gz\n"
          ],
          "name": "stdout"
        }
      ]
    },
    {
      "cell_type": "code",
      "metadata": {
        "colab": {
          "base_uri": "https://localhost:8080/"
        },
        "id": "KGw7zdpGEWqT",
        "outputId": "8ce80557-88d0-42cc-bbe0-39ba85d19c66"
      },
      "source": [
        "pred_data = pl.model_wrapper.get_perf_data(subset=\"valid\", epoch_label=\"best\")\n",
        "pred_results = pred_data.get_prediction_results()\n",
        "print(f\"AUC score of validation set: {pred_results['roc_auc_score']:.3f}\")"
      ],
      "execution_count": null,
      "outputs": [
        {
          "output_type": "stream",
          "text": [
            "AUC score of validation set: 0.857\n"
          ],
          "name": "stdout"
        }
      ]
    },
    {
      "cell_type": "code",
      "metadata": {
        "colab": {
          "base_uri": "https://localhost:8080/"
        },
        "id": "ITw1a6ikFsrB",
        "outputId": "93c7ce45-46a0-4f00-bfd3-0f148579f7e2"
      },
      "source": [
        "\n",
        "pred_df = pl.predict_on_dataframe(h1)\n",
        "pred_df = pred_df.merge(h1[[\"base_rdkit_smiles\", \"active\"]], on=\"base_rdkit_smiles\")\n",
        "pred_df = pred_df.assign(pred_error=pred_df.active-pred_df.pred)"
      ],
      "execution_count": null,
      "outputs": [
        {
          "output_type": "stream",
          "text": [
            "2021-04-28 06:08:36,590 Featurizing data...\n",
            "2021-04-28 06:08:50,009 Done\n"
          ],
          "name": "stderr"
        },
        {
          "output_type": "stream",
          "text": [
            "number of features: 1024\n"
          ],
          "name": "stdout"
        }
      ]
    },
    {
      "cell_type": "code",
      "metadata": {
        "colab": {
          "base_uri": "https://localhost:8080/",
          "height": 419
        },
        "id": "L6Eml6y5Fvak",
        "outputId": "f050f8ca-5ec3-4334-d001-52d394975088"
      },
      "source": [
        "pred_df"
      ],
      "execution_count": null,
      "outputs": [
        {
          "output_type": "execute_result",
          "data": {
            "text/html": [
              "<div>\n",
              "<style scoped>\n",
              "    .dataframe tbody tr th:only-of-type {\n",
              "        vertical-align: middle;\n",
              "    }\n",
              "\n",
              "    .dataframe tbody tr th {\n",
              "        vertical-align: top;\n",
              "    }\n",
              "\n",
              "    .dataframe thead th {\n",
              "        text-align: right;\n",
              "    }\n",
              "</style>\n",
              "<table border=\"1\" class=\"dataframe\">\n",
              "  <thead>\n",
              "    <tr style=\"text-align: right;\">\n",
              "      <th></th>\n",
              "      <th>base_rdkit_smiles</th>\n",
              "      <th>pred</th>\n",
              "      <th>active</th>\n",
              "      <th>pred_error</th>\n",
              "    </tr>\n",
              "  </thead>\n",
              "  <tbody>\n",
              "    <tr>\n",
              "      <th>0</th>\n",
              "      <td>CCC[C@@H](CCO)Nc1nc(N)nc2cc(OC)ccc12</td>\n",
              "      <td>0</td>\n",
              "      <td>0</td>\n",
              "      <td>0</td>\n",
              "    </tr>\n",
              "    <tr>\n",
              "      <th>1</th>\n",
              "      <td>Clc1ccc(-c2ccc(C#Cc3ccc(OCCN4CCCC4)cc3)nc2)cc1</td>\n",
              "      <td>0</td>\n",
              "      <td>0</td>\n",
              "      <td>0</td>\n",
              "    </tr>\n",
              "    <tr>\n",
              "      <th>2</th>\n",
              "      <td>Nc1ccc(S(=O)(=O)n2cc(C3CCNCC3)c3ccc(Cl)cc32)cc1</td>\n",
              "      <td>0</td>\n",
              "      <td>0</td>\n",
              "      <td>0</td>\n",
              "    </tr>\n",
              "    <tr>\n",
              "      <th>3</th>\n",
              "      <td>c1ccc2c(c1)Cc1ccccc1C21CCCNC1</td>\n",
              "      <td>0</td>\n",
              "      <td>0</td>\n",
              "      <td>0</td>\n",
              "    </tr>\n",
              "    <tr>\n",
              "      <th>4</th>\n",
              "      <td>Clc1cccc2cc3n(c12)CCNC3</td>\n",
              "      <td>0</td>\n",
              "      <td>0</td>\n",
              "      <td>0</td>\n",
              "    </tr>\n",
              "    <tr>\n",
              "      <th>...</th>\n",
              "      <td>...</td>\n",
              "      <td>...</td>\n",
              "      <td>...</td>\n",
              "      <td>...</td>\n",
              "    </tr>\n",
              "    <tr>\n",
              "      <th>2857</th>\n",
              "      <td>CCNC(=O)c1ccnc(OCCCCN2CCC(c3noc4cc(F)ccc34)CC2)c1</td>\n",
              "      <td>1</td>\n",
              "      <td>1</td>\n",
              "      <td>0</td>\n",
              "    </tr>\n",
              "    <tr>\n",
              "      <th>2858</th>\n",
              "      <td>C[C@@H]1CNC[C@H]2Cc3ccc(C#N)cc3N12</td>\n",
              "      <td>0</td>\n",
              "      <td>0</td>\n",
              "      <td>0</td>\n",
              "    </tr>\n",
              "    <tr>\n",
              "      <th>2859</th>\n",
              "      <td>CC(=O)N(C)c1ccc(OC2CN(c3c4c(nc5ccnn35)CCNCC4)C...</td>\n",
              "      <td>0</td>\n",
              "      <td>0</td>\n",
              "      <td>0</td>\n",
              "    </tr>\n",
              "    <tr>\n",
              "      <th>2860</th>\n",
              "      <td>O=S(=O)(NCCCN1CCC(c2noc3cc(F)ccc23)CC1)c1ccc(O...</td>\n",
              "      <td>1</td>\n",
              "      <td>1</td>\n",
              "      <td>0</td>\n",
              "    </tr>\n",
              "    <tr>\n",
              "      <th>2861</th>\n",
              "      <td>COc1ccc(Cc2c(N)nc(SCCN3CCN(Cc4ccccc4C)CC3)nc2N...</td>\n",
              "      <td>1</td>\n",
              "      <td>1</td>\n",
              "      <td>0</td>\n",
              "    </tr>\n",
              "  </tbody>\n",
              "</table>\n",
              "<p>2862 rows × 4 columns</p>\n",
              "</div>"
            ],
            "text/plain": [
              "                                      base_rdkit_smiles  ...  pred_error\n",
              "0                  CCC[C@@H](CCO)Nc1nc(N)nc2cc(OC)ccc12  ...           0\n",
              "1        Clc1ccc(-c2ccc(C#Cc3ccc(OCCN4CCCC4)cc3)nc2)cc1  ...           0\n",
              "2       Nc1ccc(S(=O)(=O)n2cc(C3CCNCC3)c3ccc(Cl)cc32)cc1  ...           0\n",
              "3                         c1ccc2c(c1)Cc1ccccc1C21CCCNC1  ...           0\n",
              "4                               Clc1cccc2cc3n(c12)CCNC3  ...           0\n",
              "...                                                 ...  ...         ...\n",
              "2857  CCNC(=O)c1ccnc(OCCCCN2CCC(c3noc4cc(F)ccc34)CC2)c1  ...           0\n",
              "2858                 C[C@@H]1CNC[C@H]2Cc3ccc(C#N)cc3N12  ...           0\n",
              "2859  CC(=O)N(C)c1ccc(OC2CN(c3c4c(nc5ccnn35)CCNCC4)C...  ...           0\n",
              "2860  O=S(=O)(NCCCN1CCC(c2noc3cc(F)ccc23)CC1)c1ccc(O...  ...           0\n",
              "2861  COc1ccc(Cc2c(N)nc(SCCN3CCN(Cc4ccccc4C)CC3)nc2N...  ...           0\n",
              "\n",
              "[2862 rows x 4 columns]"
            ]
          },
          "metadata": {
            "tags": []
          },
          "execution_count": 73
        }
      ]
    },
    {
      "cell_type": "markdown",
      "metadata": {
        "id": "qJqP_PokGn-V"
      },
      "source": [
        "**Grid search Hyperparameter Tuning** "
      ]
    },
    {
      "cell_type": "code",
      "metadata": {
        "colab": {
          "base_uri": "https://localhost:8080/"
        },
        "id": "rjKBShaDGrVK",
        "outputId": "eff8bda4-c46e-4940-daa5-6ef12b1d0930"
      },
      "source": [
        "estimators = [16,32,64,128]\n",
        "depth=[16,32,64,128]\n",
        "features=[16,32,64,128]\n",
        "\n",
        "rfe_list = []\n",
        "rfd_list = []\n",
        "rff_list = []\n",
        "valid_auc_list = []\n",
        "for rf_estimator in estimators:\n",
        "    for rf_depth in depth:\n",
        "        for rf_feature in features:\n",
        "            params[\"rf_estimators\"] = rf_estimator\n",
        "            params[\"rf_max_depth\"] = rf_depth\n",
        "            params[\"rf_max_features\"] = rf_feature\n",
        "            rfe_list.append(rf_estimator)\n",
        "            rfd_list.append(rf_depth)\n",
        "            rff_list.append(rf_feature)\n",
        "            tp = parse.wrapper(params)\n",
        "            pl = mp.ModelPipeline(tp)\n",
        "            pl.train_model()\n",
        "            pred_data = pl.model_wrapper.get_perf_data(subset=\"valid\", epoch_label=\"best\")\n",
        "            pred_results = pred_data.get_prediction_results()\n",
        "            valid_auc = pred_results['roc_auc_score']\n",
        "            valid_auc_list.append(valid_auc)\n",
        "            print(f\"rf_estimators: {rf_estimator}, rf_max_depth: {rf_depth}, rf_max_features: {rf_feature}, valid_auc: {valid_auc}\")"
      ],
      "execution_count": null,
      "outputs": [
        {
          "output_type": "stream",
          "text": [
            "number of features: 1024\n"
          ],
          "name": "stdout"
        },
        {
          "output_type": "stream",
          "text": [
            "2021-04-28 06:12:02,300 Previous dataset split restored\n",
            "2021-04-28 06:12:03,830 Wrote model metadata to file ampl_output/HTR2A_cur/RF_ecfp_scaffold_classification/edec8f4d-eae1-4b61-a828-2373c8b0f435/model_metadata.json\n",
            "2021-04-28 06:12:03,842 Wrote model metrics to file ampl_output/HTR2A_cur/RF_ecfp_scaffold_classification/edec8f4d-eae1-4b61-a828-2373c8b0f435/model_metrics.json\n"
          ],
          "name": "stderr"
        },
        {
          "output_type": "stream",
          "text": [
            "Wrote model tarball to ampl_output/HTR2A_cur_model_edec8f4d-eae1-4b61-a828-2373c8b0f435.tar.gz\n",
            "rf_estimators: 16, rf_max_depth: 16, rf_max_features: 16, valid_auc: 0.8100206205813041\n",
            "number of features: 1024\n"
          ],
          "name": "stdout"
        },
        {
          "output_type": "stream",
          "text": [
            "2021-04-28 06:12:18,288 Previous dataset split restored\n",
            "2021-04-28 06:12:19,951 Wrote model metadata to file ampl_output/HTR2A_cur/RF_ecfp_scaffold_classification/5f42efd0-d7a6-446d-b420-4a685339a777/model_metadata.json\n",
            "2021-04-28 06:12:19,970 Wrote model metrics to file ampl_output/HTR2A_cur/RF_ecfp_scaffold_classification/5f42efd0-d7a6-446d-b420-4a685339a777/model_metrics.json\n"
          ],
          "name": "stderr"
        },
        {
          "output_type": "stream",
          "text": [
            "Wrote model tarball to ampl_output/HTR2A_cur_model_5f42efd0-d7a6-446d-b420-4a685339a777.tar.gz\n",
            "rf_estimators: 16, rf_max_depth: 16, rf_max_features: 32, valid_auc: 0.8096032992930087\n",
            "number of features: 1024\n"
          ],
          "name": "stdout"
        },
        {
          "output_type": "stream",
          "text": [
            "2021-04-28 06:12:34,390 Previous dataset split restored\n",
            "2021-04-28 06:12:36,053 Wrote model metadata to file ampl_output/HTR2A_cur/RF_ecfp_scaffold_classification/b7e15956-3233-4247-ae00-3e30ab91a6a3/model_metadata.json\n",
            "2021-04-28 06:12:36,069 Wrote model metrics to file ampl_output/HTR2A_cur/RF_ecfp_scaffold_classification/b7e15956-3233-4247-ae00-3e30ab91a6a3/model_metrics.json\n"
          ],
          "name": "stderr"
        },
        {
          "output_type": "stream",
          "text": [
            "Wrote model tarball to ampl_output/HTR2A_cur_model_b7e15956-3233-4247-ae00-3e30ab91a6a3.tar.gz\n",
            "rf_estimators: 16, rf_max_depth: 16, rf_max_features: 64, valid_auc: 0.8375147289866458\n",
            "number of features: 1024\n"
          ],
          "name": "stdout"
        },
        {
          "output_type": "stream",
          "text": [
            "2021-04-28 06:12:50,412 Previous dataset split restored\n",
            "2021-04-28 06:12:52,155 Wrote model metadata to file ampl_output/HTR2A_cur/RF_ecfp_scaffold_classification/f3e7ad9d-7ef4-44e9-bf25-4aeba32b665a/model_metadata.json\n",
            "2021-04-28 06:12:52,167 Wrote model metrics to file ampl_output/HTR2A_cur/RF_ecfp_scaffold_classification/f3e7ad9d-7ef4-44e9-bf25-4aeba32b665a/model_metrics.json\n"
          ],
          "name": "stderr"
        },
        {
          "output_type": "stream",
          "text": [
            "Wrote model tarball to ampl_output/HTR2A_cur_model_f3e7ad9d-7ef4-44e9-bf25-4aeba32b665a.tar.gz\n",
            "rf_estimators: 16, rf_max_depth: 16, rf_max_features: 128, valid_auc: 0.8323104870384918\n",
            "number of features: 1024\n"
          ],
          "name": "stdout"
        },
        {
          "output_type": "stream",
          "text": [
            "2021-04-28 06:13:06,465 Previous dataset split restored\n",
            "2021-04-28 06:13:08,117 Wrote model metadata to file ampl_output/HTR2A_cur/RF_ecfp_scaffold_classification/8a431cb8-0936-4a68-954c-4ed79e2e7fa6/model_metadata.json\n",
            "2021-04-28 06:13:08,136 Wrote model metrics to file ampl_output/HTR2A_cur/RF_ecfp_scaffold_classification/8a431cb8-0936-4a68-954c-4ed79e2e7fa6/model_metrics.json\n"
          ],
          "name": "stderr"
        },
        {
          "output_type": "stream",
          "text": [
            "Wrote model tarball to ampl_output/HTR2A_cur_model_8a431cb8-0936-4a68-954c-4ed79e2e7fa6.tar.gz\n",
            "rf_estimators: 16, rf_max_depth: 32, rf_max_features: 16, valid_auc: 0.832826001571092\n",
            "number of features: 1024\n"
          ],
          "name": "stdout"
        },
        {
          "output_type": "stream",
          "text": [
            "2021-04-28 06:13:22,546 Previous dataset split restored\n",
            "2021-04-28 06:13:24,187 Wrote model metadata to file ampl_output/HTR2A_cur/RF_ecfp_scaffold_classification/9dc093ac-6525-4bc8-9c6d-af4e19327626/model_metadata.json\n",
            "2021-04-28 06:13:24,203 Wrote model metrics to file ampl_output/HTR2A_cur/RF_ecfp_scaffold_classification/9dc093ac-6525-4bc8-9c6d-af4e19327626/model_metrics.json\n"
          ],
          "name": "stderr"
        },
        {
          "output_type": "stream",
          "text": [
            "Wrote model tarball to ampl_output/HTR2A_cur_model_9dc093ac-6525-4bc8-9c6d-af4e19327626.tar.gz\n",
            "rf_estimators: 16, rf_max_depth: 32, rf_max_features: 32, valid_auc: 0.8448546739984288\n",
            "number of features: 1024\n"
          ],
          "name": "stdout"
        },
        {
          "output_type": "stream",
          "text": [
            "2021-04-28 06:13:38,732 Previous dataset split restored\n",
            "2021-04-28 06:13:40,491 Wrote model metadata to file ampl_output/HTR2A_cur/RF_ecfp_scaffold_classification/ce732aba-f8bb-45cc-8b99-b7430302dd04/model_metadata.json\n",
            "2021-04-28 06:13:40,508 Wrote model metrics to file ampl_output/HTR2A_cur/RF_ecfp_scaffold_classification/ce732aba-f8bb-45cc-8b99-b7430302dd04/model_metrics.json\n"
          ],
          "name": "stderr"
        },
        {
          "output_type": "stream",
          "text": [
            "Wrote model tarball to ampl_output/HTR2A_cur_model_ce732aba-f8bb-45cc-8b99-b7430302dd04.tar.gz\n",
            "rf_estimators: 16, rf_max_depth: 32, rf_max_features: 64, valid_auc: 0.8480214061272585\n",
            "number of features: 1024\n"
          ],
          "name": "stdout"
        },
        {
          "output_type": "stream",
          "text": [
            "2021-04-28 06:13:54,905 Previous dataset split restored\n",
            "2021-04-28 06:13:56,732 Wrote model metadata to file ampl_output/HTR2A_cur/RF_ecfp_scaffold_classification/22733a96-2fc0-4b63-8a01-40a748271f61/model_metadata.json\n",
            "2021-04-28 06:13:56,746 Wrote model metrics to file ampl_output/HTR2A_cur/RF_ecfp_scaffold_classification/22733a96-2fc0-4b63-8a01-40a748271f61/model_metrics.json\n"
          ],
          "name": "stderr"
        },
        {
          "output_type": "stream",
          "text": [
            "Wrote model tarball to ampl_output/HTR2A_cur_model_22733a96-2fc0-4b63-8a01-40a748271f61.tar.gz\n",
            "rf_estimators: 16, rf_max_depth: 32, rf_max_features: 128, valid_auc: 0.8492979183032208\n",
            "number of features: 1024\n"
          ],
          "name": "stdout"
        },
        {
          "output_type": "stream",
          "text": [
            "2021-04-28 06:14:11,095 Previous dataset split restored\n",
            "2021-04-28 06:14:12,735 Wrote model metadata to file ampl_output/HTR2A_cur/RF_ecfp_scaffold_classification/0a60de59-28b8-42f1-922e-aa2cf2454843/model_metadata.json\n",
            "2021-04-28 06:14:12,754 Wrote model metrics to file ampl_output/HTR2A_cur/RF_ecfp_scaffold_classification/0a60de59-28b8-42f1-922e-aa2cf2454843/model_metrics.json\n"
          ],
          "name": "stderr"
        },
        {
          "output_type": "stream",
          "text": [
            "Wrote model tarball to ampl_output/HTR2A_cur_model_0a60de59-28b8-42f1-922e-aa2cf2454843.tar.gz\n",
            "rf_estimators: 16, rf_max_depth: 64, rf_max_features: 16, valid_auc: 0.8398713668499607\n",
            "number of features: 1024\n"
          ],
          "name": "stdout"
        },
        {
          "output_type": "stream",
          "text": [
            "2021-04-28 06:14:27,172 Previous dataset split restored\n",
            "2021-04-28 06:14:28,811 Wrote model metadata to file ampl_output/HTR2A_cur/RF_ecfp_scaffold_classification/8815e57e-9a97-47fc-9b11-6f5296148ced/model_metadata.json\n",
            "2021-04-28 06:14:28,830 Wrote model metrics to file ampl_output/HTR2A_cur/RF_ecfp_scaffold_classification/8815e57e-9a97-47fc-9b11-6f5296148ced/model_metrics.json\n"
          ],
          "name": "stderr"
        },
        {
          "output_type": "stream",
          "text": [
            "Wrote model tarball to ampl_output/HTR2A_cur_model_8815e57e-9a97-47fc-9b11-6f5296148ced.tar.gz\n",
            "rf_estimators: 16, rf_max_depth: 64, rf_max_features: 32, valid_auc: 0.8178024351924587\n",
            "number of features: 1024\n"
          ],
          "name": "stdout"
        },
        {
          "output_type": "stream",
          "text": [
            "2021-04-28 06:14:43,202 Previous dataset split restored\n",
            "2021-04-28 06:14:44,939 Wrote model metadata to file ampl_output/HTR2A_cur/RF_ecfp_scaffold_classification/b1d4dc3e-b27b-4c0f-a6e4-49b7b4c2dc13/model_metadata.json\n",
            "2021-04-28 06:14:44,954 Wrote model metrics to file ampl_output/HTR2A_cur/RF_ecfp_scaffold_classification/b1d4dc3e-b27b-4c0f-a6e4-49b7b4c2dc13/model_metrics.json\n"
          ],
          "name": "stderr"
        },
        {
          "output_type": "stream",
          "text": [
            "Wrote model tarball to ampl_output/HTR2A_cur_model_b1d4dc3e-b27b-4c0f-a6e4-49b7b4c2dc13.tar.gz\n",
            "rf_estimators: 16, rf_max_depth: 64, rf_max_features: 64, valid_auc: 0.8337342890809113\n",
            "number of features: 1024\n"
          ],
          "name": "stdout"
        },
        {
          "output_type": "stream",
          "text": [
            "2021-04-28 06:14:59,438 Previous dataset split restored\n",
            "2021-04-28 06:15:01,287 Wrote model metadata to file ampl_output/HTR2A_cur/RF_ecfp_scaffold_classification/94bef6a4-09dd-49b5-9a80-6dd03e2ff009/model_metadata.json\n",
            "2021-04-28 06:15:01,301 Wrote model metrics to file ampl_output/HTR2A_cur/RF_ecfp_scaffold_classification/94bef6a4-09dd-49b5-9a80-6dd03e2ff009/model_metrics.json\n"
          ],
          "name": "stderr"
        },
        {
          "output_type": "stream",
          "text": [
            "Wrote model tarball to ampl_output/HTR2A_cur_model_94bef6a4-09dd-49b5-9a80-6dd03e2ff009.tar.gz\n",
            "rf_estimators: 16, rf_max_depth: 64, rf_max_features: 128, valid_auc: 0.8190298507462686\n",
            "number of features: 1024\n"
          ],
          "name": "stdout"
        },
        {
          "output_type": "stream",
          "text": [
            "2021-04-28 06:15:15,629 Previous dataset split restored\n",
            "2021-04-28 06:15:17,269 Wrote model metadata to file ampl_output/HTR2A_cur/RF_ecfp_scaffold_classification/b894b19d-5406-4e8b-96f4-c4971854ed4e/model_metadata.json\n",
            "2021-04-28 06:15:17,291 Wrote model metrics to file ampl_output/HTR2A_cur/RF_ecfp_scaffold_classification/b894b19d-5406-4e8b-96f4-c4971854ed4e/model_metrics.json\n"
          ],
          "name": "stderr"
        },
        {
          "output_type": "stream",
          "text": [
            "Wrote model tarball to ampl_output/HTR2A_cur_model_b894b19d-5406-4e8b-96f4-c4971854ed4e.tar.gz\n",
            "rf_estimators: 16, rf_max_depth: 128, rf_max_features: 16, valid_auc: 0.8342252553024352\n",
            "number of features: 1024\n"
          ],
          "name": "stdout"
        },
        {
          "output_type": "stream",
          "text": [
            "2021-04-28 06:15:31,721 Previous dataset split restored\n",
            "2021-04-28 06:15:33,386 Wrote model metadata to file ampl_output/HTR2A_cur/RF_ecfp_scaffold_classification/e05dc835-bb83-43c1-9071-4a10b6b34e06/model_metadata.json\n",
            "2021-04-28 06:15:33,404 Wrote model metrics to file ampl_output/HTR2A_cur/RF_ecfp_scaffold_classification/e05dc835-bb83-43c1-9071-4a10b6b34e06/model_metrics.json\n"
          ],
          "name": "stderr"
        },
        {
          "output_type": "stream",
          "text": [
            "Wrote model tarball to ampl_output/HTR2A_cur_model_e05dc835-bb83-43c1-9071-4a10b6b34e06.tar.gz\n",
            "rf_estimators: 16, rf_max_depth: 128, rf_max_features: 32, valid_auc: 0.817090534171249\n",
            "number of features: 1024\n"
          ],
          "name": "stdout"
        },
        {
          "output_type": "stream",
          "text": [
            "2021-04-28 06:15:47,851 Previous dataset split restored\n",
            "2021-04-28 06:15:49,575 Wrote model metadata to file ampl_output/HTR2A_cur/RF_ecfp_scaffold_classification/8c6151e5-facb-4795-ac79-edb3b4bcc493/model_metadata.json\n",
            "2021-04-28 06:15:49,591 Wrote model metrics to file ampl_output/HTR2A_cur/RF_ecfp_scaffold_classification/8c6151e5-facb-4795-ac79-edb3b4bcc493/model_metrics.json\n"
          ],
          "name": "stderr"
        },
        {
          "output_type": "stream",
          "text": [
            "Wrote model tarball to ampl_output/HTR2A_cur_model_8c6151e5-facb-4795-ac79-edb3b4bcc493.tar.gz\n",
            "rf_estimators: 16, rf_max_depth: 128, rf_max_features: 64, valid_auc: 0.8398713668499607\n",
            "number of features: 1024\n"
          ],
          "name": "stdout"
        },
        {
          "output_type": "stream",
          "text": [
            "2021-04-28 06:16:03,936 Previous dataset split restored\n",
            "2021-04-28 06:16:05,767 Wrote model metadata to file ampl_output/HTR2A_cur/RF_ecfp_scaffold_classification/cb179063-844f-4244-941f-703aad1218a4/model_metadata.json\n",
            "2021-04-28 06:16:05,783 Wrote model metrics to file ampl_output/HTR2A_cur/RF_ecfp_scaffold_classification/cb179063-844f-4244-941f-703aad1218a4/model_metrics.json\n"
          ],
          "name": "stderr"
        },
        {
          "output_type": "stream",
          "text": [
            "Wrote model tarball to ampl_output/HTR2A_cur_model_cb179063-844f-4244-941f-703aad1218a4.tar.gz\n",
            "rf_estimators: 16, rf_max_depth: 128, rf_max_features: 128, valid_auc: 0.8405587195600943\n",
            "number of features: 1024\n"
          ],
          "name": "stdout"
        },
        {
          "output_type": "stream",
          "text": [
            "2021-04-28 06:16:20,153 Previous dataset split restored\n",
            "2021-04-28 06:16:21,830 Wrote model metadata to file ampl_output/HTR2A_cur/RF_ecfp_scaffold_classification/e4ee057d-dd7b-48f6-9638-de7503dbda7b/model_metadata.json\n",
            "2021-04-28 06:16:21,847 Wrote model metrics to file ampl_output/HTR2A_cur/RF_ecfp_scaffold_classification/e4ee057d-dd7b-48f6-9638-de7503dbda7b/model_metrics.json\n"
          ],
          "name": "stderr"
        },
        {
          "output_type": "stream",
          "text": [
            "Wrote model tarball to ampl_output/HTR2A_cur_model_e4ee057d-dd7b-48f6-9638-de7503dbda7b.tar.gz\n",
            "rf_estimators: 32, rf_max_depth: 16, rf_max_features: 16, valid_auc: 0.8297820109976434\n",
            "number of features: 1024\n"
          ],
          "name": "stdout"
        },
        {
          "output_type": "stream",
          "text": [
            "2021-04-28 06:16:36,240 Previous dataset split restored\n",
            "2021-04-28 06:16:38,023 Wrote model metadata to file ampl_output/HTR2A_cur/RF_ecfp_scaffold_classification/d786283e-0fdb-45dc-ae41-ea07e99e6b6d/model_metadata.json\n",
            "2021-04-28 06:16:38,040 Wrote model metrics to file ampl_output/HTR2A_cur/RF_ecfp_scaffold_classification/d786283e-0fdb-45dc-ae41-ea07e99e6b6d/model_metrics.json\n"
          ],
          "name": "stderr"
        },
        {
          "output_type": "stream",
          "text": [
            "Wrote model tarball to ampl_output/HTR2A_cur_model_d786283e-0fdb-45dc-ae41-ea07e99e6b6d.tar.gz\n",
            "rf_estimators: 32, rf_max_depth: 16, rf_max_features: 32, valid_auc: 0.8455911233307147\n",
            "number of features: 1024\n"
          ],
          "name": "stdout"
        },
        {
          "output_type": "stream",
          "text": [
            "2021-04-28 06:16:52,420 Previous dataset split restored\n",
            "2021-04-28 06:16:54,291 Wrote model metadata to file ampl_output/HTR2A_cur/RF_ecfp_scaffold_classification/15faf7f8-e88e-442d-b9ed-399871a38f2b/model_metadata.json\n",
            "2021-04-28 06:16:54,307 Wrote model metrics to file ampl_output/HTR2A_cur/RF_ecfp_scaffold_classification/15faf7f8-e88e-442d-b9ed-399871a38f2b/model_metrics.json\n"
          ],
          "name": "stderr"
        },
        {
          "output_type": "stream",
          "text": [
            "Wrote model tarball to ampl_output/HTR2A_cur_model_15faf7f8-e88e-442d-b9ed-399871a38f2b.tar.gz\n",
            "rf_estimators: 32, rf_max_depth: 16, rf_max_features: 64, valid_auc: 0.8322368421052632\n",
            "number of features: 1024\n"
          ],
          "name": "stdout"
        },
        {
          "output_type": "stream",
          "text": [
            "2021-04-28 06:17:08,730 Previous dataset split restored\n",
            "2021-04-28 06:17:10,827 Wrote model metadata to file ampl_output/HTR2A_cur/RF_ecfp_scaffold_classification/67f0ff97-b476-4720-8a10-48548b6273f4/model_metadata.json\n",
            "2021-04-28 06:17:10,843 Wrote model metrics to file ampl_output/HTR2A_cur/RF_ecfp_scaffold_classification/67f0ff97-b476-4720-8a10-48548b6273f4/model_metrics.json\n"
          ],
          "name": "stderr"
        },
        {
          "output_type": "stream",
          "text": [
            "Wrote model tarball to ampl_output/HTR2A_cur_model_67f0ff97-b476-4720-8a10-48548b6273f4.tar.gz\n",
            "rf_estimators: 32, rf_max_depth: 16, rf_max_features: 128, valid_auc: 0.8407796543597801\n",
            "number of features: 1024\n"
          ],
          "name": "stdout"
        },
        {
          "output_type": "stream",
          "text": [
            "2021-04-28 06:17:25,351 Previous dataset split restored\n",
            "2021-04-28 06:17:27,162 Wrote model metadata to file ampl_output/HTR2A_cur/RF_ecfp_scaffold_classification/ae391bd6-7e8a-4ea7-ba80-a1b3c0192a5b/model_metadata.json\n",
            "2021-04-28 06:17:27,201 Wrote model metrics to file ampl_output/HTR2A_cur/RF_ecfp_scaffold_classification/ae391bd6-7e8a-4ea7-ba80-a1b3c0192a5b/model_metrics.json\n"
          ],
          "name": "stderr"
        },
        {
          "output_type": "stream",
          "text": [
            "Wrote model tarball to ampl_output/HTR2A_cur_model_ae391bd6-7e8a-4ea7-ba80-a1b3c0192a5b.tar.gz\n",
            "rf_estimators: 32, rf_max_depth: 32, rf_max_features: 16, valid_auc: 0.8434799685781619\n",
            "number of features: 1024\n"
          ],
          "name": "stdout"
        },
        {
          "output_type": "stream",
          "text": [
            "2021-04-28 06:17:41,688 Previous dataset split restored\n",
            "2021-04-28 06:17:43,493 Wrote model metadata to file ampl_output/HTR2A_cur/RF_ecfp_scaffold_classification/e7fe98ff-f094-48ce-9ea8-6d80beb343e9/model_metadata.json\n",
            "2021-04-28 06:17:43,521 Wrote model metrics to file ampl_output/HTR2A_cur/RF_ecfp_scaffold_classification/e7fe98ff-f094-48ce-9ea8-6d80beb343e9/model_metrics.json\n"
          ],
          "name": "stderr"
        },
        {
          "output_type": "stream",
          "text": [
            "Wrote model tarball to ampl_output/HTR2A_cur_model_e7fe98ff-f094-48ce-9ea8-6d80beb343e9.tar.gz\n",
            "rf_estimators: 32, rf_max_depth: 32, rf_max_features: 32, valid_auc: 0.8232030636292222\n",
            "number of features: 1024\n"
          ],
          "name": "stdout"
        },
        {
          "output_type": "stream",
          "text": [
            "2021-04-28 06:17:58,046 Previous dataset split restored\n",
            "2021-04-28 06:18:00,047 Wrote model metadata to file ampl_output/HTR2A_cur/RF_ecfp_scaffold_classification/a5f9d4ae-747a-47e7-9cfa-629832f72fdf/model_metadata.json\n",
            "2021-04-28 06:18:00,072 Wrote model metrics to file ampl_output/HTR2A_cur/RF_ecfp_scaffold_classification/a5f9d4ae-747a-47e7-9cfa-629832f72fdf/model_metrics.json\n"
          ],
          "name": "stderr"
        },
        {
          "output_type": "stream",
          "text": [
            "Wrote model tarball to ampl_output/HTR2A_cur_model_a5f9d4ae-747a-47e7-9cfa-629832f72fdf.tar.gz\n",
            "rf_estimators: 32, rf_max_depth: 32, rf_max_features: 64, valid_auc: 0.8569324430479184\n",
            "number of features: 1024\n"
          ],
          "name": "stdout"
        },
        {
          "output_type": "stream",
          "text": [
            "2021-04-28 06:18:14,415 Previous dataset split restored\n",
            "2021-04-28 06:18:16,718 Wrote model metadata to file ampl_output/HTR2A_cur/RF_ecfp_scaffold_classification/139b7972-a1d7-47c4-a245-477b4dbf8e5e/model_metadata.json\n",
            "2021-04-28 06:18:16,740 Wrote model metrics to file ampl_output/HTR2A_cur/RF_ecfp_scaffold_classification/139b7972-a1d7-47c4-a245-477b4dbf8e5e/model_metrics.json\n"
          ],
          "name": "stderr"
        },
        {
          "output_type": "stream",
          "text": [
            "Wrote model tarball to ampl_output/HTR2A_cur_model_139b7972-a1d7-47c4-a245-477b4dbf8e5e.tar.gz\n",
            "rf_estimators: 32, rf_max_depth: 32, rf_max_features: 128, valid_auc: 0.8595836606441476\n",
            "number of features: 1024\n"
          ],
          "name": "stdout"
        },
        {
          "output_type": "stream",
          "text": [
            "2021-04-28 06:18:31,205 Previous dataset split restored\n",
            "2021-04-28 06:18:33,002 Wrote model metadata to file ampl_output/HTR2A_cur/RF_ecfp_scaffold_classification/c07bab50-1cdf-4689-886c-8177b2563d7b/model_metadata.json\n",
            "2021-04-28 06:18:33,033 Wrote model metrics to file ampl_output/HTR2A_cur/RF_ecfp_scaffold_classification/c07bab50-1cdf-4689-886c-8177b2563d7b/model_metrics.json\n"
          ],
          "name": "stderr"
        },
        {
          "output_type": "stream",
          "text": [
            "Wrote model tarball to ampl_output/HTR2A_cur_model_c07bab50-1cdf-4689-886c-8177b2563d7b.tar.gz\n",
            "rf_estimators: 32, rf_max_depth: 64, rf_max_features: 16, valid_auc: 0.8347407698350354\n",
            "number of features: 1024\n"
          ],
          "name": "stdout"
        },
        {
          "output_type": "stream",
          "text": [
            "2021-04-28 06:18:47,435 Previous dataset split restored\n",
            "2021-04-28 06:18:49,359 Wrote model metadata to file ampl_output/HTR2A_cur/RF_ecfp_scaffold_classification/4f09d352-7bbb-45eb-a909-d77fa7acfe74/model_metadata.json\n",
            "2021-04-28 06:18:49,388 Wrote model metrics to file ampl_output/HTR2A_cur/RF_ecfp_scaffold_classification/4f09d352-7bbb-45eb-a909-d77fa7acfe74/model_metrics.json\n"
          ],
          "name": "stderr"
        },
        {
          "output_type": "stream",
          "text": [
            "Wrote model tarball to ampl_output/HTR2A_cur_model_4f09d352-7bbb-45eb-a909-d77fa7acfe74.tar.gz\n",
            "rf_estimators: 32, rf_max_depth: 64, rf_max_features: 32, valid_auc: 0.847726826394344\n",
            "number of features: 1024\n"
          ],
          "name": "stdout"
        },
        {
          "output_type": "stream",
          "text": [
            "2021-04-28 06:19:03,723 Previous dataset split restored\n",
            "2021-04-28 06:19:05,700 Wrote model metadata to file ampl_output/HTR2A_cur/RF_ecfp_scaffold_classification/3340face-de63-4e69-b7f8-3c4909ace1f0/model_metadata.json\n",
            "2021-04-28 06:19:05,725 Wrote model metrics to file ampl_output/HTR2A_cur/RF_ecfp_scaffold_classification/3340face-de63-4e69-b7f8-3c4909ace1f0/model_metrics.json\n"
          ],
          "name": "stderr"
        },
        {
          "output_type": "stream",
          "text": [
            "Wrote model tarball to ampl_output/HTR2A_cur_model_3340face-de63-4e69-b7f8-3c4909ace1f0.tar.gz\n",
            "rf_estimators: 32, rf_max_depth: 64, rf_max_features: 64, valid_auc: 0.8573252160251374\n",
            "number of features: 1024\n"
          ],
          "name": "stdout"
        },
        {
          "output_type": "stream",
          "text": [
            "2021-04-28 06:19:20,250 Previous dataset split restored\n",
            "2021-04-28 06:19:22,570 Wrote model metadata to file ampl_output/HTR2A_cur/RF_ecfp_scaffold_classification/6a06786b-4930-42e1-a01a-0b10e8352a8b/model_metadata.json\n",
            "2021-04-28 06:19:22,595 Wrote model metrics to file ampl_output/HTR2A_cur/RF_ecfp_scaffold_classification/6a06786b-4930-42e1-a01a-0b10e8352a8b/model_metrics.json\n"
          ],
          "name": "stderr"
        },
        {
          "output_type": "stream",
          "text": [
            "Wrote model tarball to ampl_output/HTR2A_cur_model_6a06786b-4930-42e1-a01a-0b10e8352a8b.tar.gz\n",
            "rf_estimators: 32, rf_max_depth: 64, rf_max_features: 128, valid_auc: 0.8539375490966222\n",
            "number of features: 1024\n"
          ],
          "name": "stdout"
        },
        {
          "output_type": "stream",
          "text": [
            "2021-04-28 06:19:37,097 Previous dataset split restored\n",
            "2021-04-28 06:19:38,912 Wrote model metadata to file ampl_output/HTR2A_cur/RF_ecfp_scaffold_classification/8a106fb1-5d7c-4899-8a47-4bc16a73b1cb/model_metadata.json\n",
            "2021-04-28 06:19:38,944 Wrote model metrics to file ampl_output/HTR2A_cur/RF_ecfp_scaffold_classification/8a106fb1-5d7c-4899-8a47-4bc16a73b1cb/model_metrics.json\n"
          ],
          "name": "stderr"
        },
        {
          "output_type": "stream",
          "text": [
            "Wrote model tarball to ampl_output/HTR2A_cur_model_8a106fb1-5d7c-4899-8a47-4bc16a73b1cb.tar.gz\n",
            "rf_estimators: 32, rf_max_depth: 128, rf_max_features: 16, valid_auc: 0.8375638256087982\n",
            "number of features: 1024\n"
          ],
          "name": "stdout"
        },
        {
          "output_type": "stream",
          "text": [
            "2021-04-28 06:19:53,395 Previous dataset split restored\n",
            "2021-04-28 06:19:55,286 Wrote model metadata to file ampl_output/HTR2A_cur/RF_ecfp_scaffold_classification/b0c8b2cc-d3ab-4d71-80f5-abe4ae1f4637/model_metadata.json\n",
            "2021-04-28 06:19:55,315 Wrote model metrics to file ampl_output/HTR2A_cur/RF_ecfp_scaffold_classification/b0c8b2cc-d3ab-4d71-80f5-abe4ae1f4637/model_metrics.json\n"
          ],
          "name": "stderr"
        },
        {
          "output_type": "stream",
          "text": [
            "Wrote model tarball to ampl_output/HTR2A_cur_model_b0c8b2cc-d3ab-4d71-80f5-abe4ae1f4637.tar.gz\n",
            "rf_estimators: 32, rf_max_depth: 128, rf_max_features: 32, valid_auc: 0.8494697564807542\n",
            "number of features: 1024\n"
          ],
          "name": "stdout"
        },
        {
          "output_type": "stream",
          "text": [
            "2021-04-28 06:20:09,757 Previous dataset split restored\n",
            "2021-04-28 06:20:11,737 Wrote model metadata to file ampl_output/HTR2A_cur/RF_ecfp_scaffold_classification/0954c0a0-2cb0-4903-8cf3-cf72808905b6/model_metadata.json\n",
            "2021-04-28 06:20:11,763 Wrote model metrics to file ampl_output/HTR2A_cur/RF_ecfp_scaffold_classification/0954c0a0-2cb0-4903-8cf3-cf72808905b6/model_metrics.json\n"
          ],
          "name": "stderr"
        },
        {
          "output_type": "stream",
          "text": [
            "Wrote model tarball to ampl_output/HTR2A_cur_model_0954c0a0-2cb0-4903-8cf3-cf72808905b6.tar.gz\n",
            "rf_estimators: 32, rf_max_depth: 128, rf_max_features: 64, valid_auc: 0.849101531814611\n",
            "number of features: 1024\n"
          ],
          "name": "stdout"
        },
        {
          "output_type": "stream",
          "text": [
            "2021-04-28 06:20:26,139 Previous dataset split restored\n",
            "2021-04-28 06:20:28,418 Wrote model metadata to file ampl_output/HTR2A_cur/RF_ecfp_scaffold_classification/339f27f7-17be-4324-82cb-956411b77304/model_metadata.json\n",
            "2021-04-28 06:20:28,443 Wrote model metrics to file ampl_output/HTR2A_cur/RF_ecfp_scaffold_classification/339f27f7-17be-4324-82cb-956411b77304/model_metrics.json\n"
          ],
          "name": "stderr"
        },
        {
          "output_type": "stream",
          "text": [
            "Wrote model tarball to ampl_output/HTR2A_cur_model_339f27f7-17be-4324-82cb-956411b77304.tar.gz\n",
            "rf_estimators: 32, rf_max_depth: 128, rf_max_features: 128, valid_auc: 0.8387912411626082\n",
            "number of features: 1024\n"
          ],
          "name": "stdout"
        },
        {
          "output_type": "stream",
          "text": [
            "2021-04-28 06:20:42,837 Previous dataset split restored\n",
            "2021-04-28 06:20:44,747 Wrote model metadata to file ampl_output/HTR2A_cur/RF_ecfp_scaffold_classification/7b531e72-51b8-403f-9274-020ce8968278/model_metadata.json\n",
            "2021-04-28 06:20:44,775 Wrote model metrics to file ampl_output/HTR2A_cur/RF_ecfp_scaffold_classification/7b531e72-51b8-403f-9274-020ce8968278/model_metrics.json\n"
          ],
          "name": "stderr"
        },
        {
          "output_type": "stream",
          "text": [
            "Wrote model tarball to ampl_output/HTR2A_cur_model_7b531e72-51b8-403f-9274-020ce8968278.tar.gz\n",
            "rf_estimators: 64, rf_max_depth: 16, rf_max_features: 16, valid_auc: 0.8567360565593087\n",
            "number of features: 1024\n"
          ],
          "name": "stdout"
        },
        {
          "output_type": "stream",
          "text": [
            "2021-04-28 06:20:59,301 Previous dataset split restored\n",
            "2021-04-28 06:21:01,340 Wrote model metadata to file ampl_output/HTR2A_cur/RF_ecfp_scaffold_classification/f8e25519-4edd-45b9-abed-7e33b99451a7/model_metadata.json\n",
            "2021-04-28 06:21:01,366 Wrote model metrics to file ampl_output/HTR2A_cur/RF_ecfp_scaffold_classification/f8e25519-4edd-45b9-abed-7e33b99451a7/model_metrics.json\n"
          ],
          "name": "stderr"
        },
        {
          "output_type": "stream",
          "text": [
            "Wrote model tarball to ampl_output/HTR2A_cur_model_f8e25519-4edd-45b9-abed-7e33b99451a7.tar.gz\n",
            "rf_estimators: 64, rf_max_depth: 16, rf_max_features: 32, valid_auc: 0.840386881382561\n",
            "number of features: 1024\n"
          ],
          "name": "stdout"
        },
        {
          "output_type": "stream",
          "text": [
            "2021-04-28 06:21:15,739 Previous dataset split restored\n",
            "2021-04-28 06:21:17,983 Wrote model metadata to file ampl_output/HTR2A_cur/RF_ecfp_scaffold_classification/8b0d22cc-0091-4d8a-b02c-ed5cc2832c4f/model_metadata.json\n",
            "2021-04-28 06:21:18,010 Wrote model metrics to file ampl_output/HTR2A_cur/RF_ecfp_scaffold_classification/8b0d22cc-0091-4d8a-b02c-ed5cc2832c4f/model_metrics.json\n"
          ],
          "name": "stderr"
        },
        {
          "output_type": "stream",
          "text": [
            "Wrote model tarball to ampl_output/HTR2A_cur_model_8b0d22cc-0091-4d8a-b02c-ed5cc2832c4f.tar.gz\n",
            "rf_estimators: 64, rf_max_depth: 16, rf_max_features: 64, valid_auc: 0.855655930871956\n",
            "number of features: 1024\n"
          ],
          "name": "stdout"
        },
        {
          "output_type": "stream",
          "text": [
            "2021-04-28 06:21:32,609 Previous dataset split restored\n",
            "2021-04-28 06:21:35,337 Wrote model metadata to file ampl_output/HTR2A_cur/RF_ecfp_scaffold_classification/08b35a5f-0965-4cd1-b5f0-7cf49dfb80be/model_metadata.json\n",
            "2021-04-28 06:21:35,364 Wrote model metrics to file ampl_output/HTR2A_cur/RF_ecfp_scaffold_classification/08b35a5f-0965-4cd1-b5f0-7cf49dfb80be/model_metrics.json\n"
          ],
          "name": "stderr"
        },
        {
          "output_type": "stream",
          "text": [
            "Wrote model tarball to ampl_output/HTR2A_cur_model_08b35a5f-0965-4cd1-b5f0-7cf49dfb80be.tar.gz\n",
            "rf_estimators: 64, rf_max_depth: 16, rf_max_features: 128, valid_auc: 0.8552140612725844\n",
            "number of features: 1024\n"
          ],
          "name": "stdout"
        },
        {
          "output_type": "stream",
          "text": [
            "2021-04-28 06:21:49,916 Previous dataset split restored\n",
            "2021-04-28 06:21:51,983 Wrote model metadata to file ampl_output/HTR2A_cur/RF_ecfp_scaffold_classification/4ba3ffa3-6420-4383-bcad-f3b9756cd3a8/model_metadata.json\n",
            "2021-04-28 06:21:52,032 Wrote model metrics to file ampl_output/HTR2A_cur/RF_ecfp_scaffold_classification/4ba3ffa3-6420-4383-bcad-f3b9756cd3a8/model_metrics.json\n"
          ],
          "name": "stderr"
        },
        {
          "output_type": "stream",
          "text": [
            "Wrote model tarball to ampl_output/HTR2A_cur_model_4ba3ffa3-6420-4383-bcad-f3b9756cd3a8.tar.gz\n",
            "rf_estimators: 64, rf_max_depth: 32, rf_max_features: 16, valid_auc: 0.8539375490966222\n",
            "number of features: 1024\n"
          ],
          "name": "stdout"
        },
        {
          "output_type": "stream",
          "text": [
            "2021-04-28 06:22:06,572 Previous dataset split restored\n",
            "2021-04-28 06:22:08,739 Wrote model metadata to file ampl_output/HTR2A_cur/RF_ecfp_scaffold_classification/76532e5a-1eda-4642-bb8a-1a4c258a1601/model_metadata.json\n",
            "2021-04-28 06:22:08,786 Wrote model metrics to file ampl_output/HTR2A_cur/RF_ecfp_scaffold_classification/76532e5a-1eda-4642-bb8a-1a4c258a1601/model_metrics.json\n"
          ],
          "name": "stderr"
        },
        {
          "output_type": "stream",
          "text": [
            "Wrote model tarball to ampl_output/HTR2A_cur_model_76532e5a-1eda-4642-bb8a-1a4c258a1601.tar.gz\n",
            "rf_estimators: 64, rf_max_depth: 32, rf_max_features: 32, valid_auc: 0.8506480754124116\n",
            "number of features: 1024\n"
          ],
          "name": "stdout"
        },
        {
          "output_type": "stream",
          "text": [
            "2021-04-28 06:22:23,367 Previous dataset split restored\n",
            "2021-04-28 06:22:25,828 Wrote model metadata to file ampl_output/HTR2A_cur/RF_ecfp_scaffold_classification/1145c236-288b-4bec-a2d2-35c2f3358ea6/model_metadata.json\n",
            "2021-04-28 06:22:25,869 Wrote model metrics to file ampl_output/HTR2A_cur/RF_ecfp_scaffold_classification/1145c236-288b-4bec-a2d2-35c2f3358ea6/model_metrics.json\n"
          ],
          "name": "stderr"
        },
        {
          "output_type": "stream",
          "text": [
            "Wrote model tarball to ampl_output/HTR2A_cur_model_1145c236-288b-4bec-a2d2-35c2f3358ea6.tar.gz\n",
            "rf_estimators: 64, rf_max_depth: 32, rf_max_features: 64, valid_auc: 0.842989002356638\n",
            "number of features: 1024\n"
          ],
          "name": "stdout"
        },
        {
          "output_type": "stream",
          "text": [
            "2021-04-28 06:22:40,379 Previous dataset split restored\n",
            "2021-04-28 06:22:43,406 Wrote model metadata to file ampl_output/HTR2A_cur/RF_ecfp_scaffold_classification/737033e7-b010-4bf8-8085-fb92fde47012/model_metadata.json\n",
            "2021-04-28 06:22:43,446 Wrote model metrics to file ampl_output/HTR2A_cur/RF_ecfp_scaffold_classification/737033e7-b010-4bf8-8085-fb92fde47012/model_metrics.json\n"
          ],
          "name": "stderr"
        },
        {
          "output_type": "stream",
          "text": [
            "Wrote model tarball to ampl_output/HTR2A_cur_model_737033e7-b010-4bf8-8085-fb92fde47012.tar.gz\n",
            "rf_estimators: 64, rf_max_depth: 32, rf_max_features: 128, valid_auc: 0.8505253338570307\n",
            "number of features: 1024\n"
          ],
          "name": "stdout"
        },
        {
          "output_type": "stream",
          "text": [
            "2021-04-28 06:22:58,007 Previous dataset split restored\n",
            "2021-04-28 06:23:00,111 Wrote model metadata to file ampl_output/HTR2A_cur/RF_ecfp_scaffold_classification/d90cd594-3de1-4912-89d9-9f6db45ee516/model_metadata.json\n",
            "2021-04-28 06:23:00,173 Wrote model metrics to file ampl_output/HTR2A_cur/RF_ecfp_scaffold_classification/d90cd594-3de1-4912-89d9-9f6db45ee516/model_metrics.json\n"
          ],
          "name": "stderr"
        },
        {
          "output_type": "stream",
          "text": [
            "Wrote model tarball to ampl_output/HTR2A_cur_model_d90cd594-3de1-4912-89d9-9f6db45ee516.tar.gz\n",
            "rf_estimators: 64, rf_max_depth: 64, rf_max_features: 16, valid_auc: 0.8495434014139828\n",
            "number of features: 1024\n"
          ],
          "name": "stdout"
        },
        {
          "output_type": "stream",
          "text": [
            "2021-04-28 06:23:14,765 Previous dataset split restored\n",
            "2021-04-28 06:23:17,074 Wrote model metadata to file ampl_output/HTR2A_cur/RF_ecfp_scaffold_classification/a6a6e485-28b1-4788-b592-37046de70d08/model_metadata.json\n",
            "2021-04-28 06:23:17,131 Wrote model metrics to file ampl_output/HTR2A_cur/RF_ecfp_scaffold_classification/a6a6e485-28b1-4788-b592-37046de70d08/model_metrics.json\n"
          ],
          "name": "stderr"
        },
        {
          "output_type": "stream",
          "text": [
            "Wrote model tarball to ampl_output/HTR2A_cur_model_a6a6e485-28b1-4788-b592-37046de70d08.tar.gz\n",
            "rf_estimators: 64, rf_max_depth: 64, rf_max_features: 32, valid_auc: 0.8436272584446189\n",
            "number of features: 1024\n"
          ],
          "name": "stdout"
        },
        {
          "output_type": "stream",
          "text": [
            "2021-04-28 06:23:31,736 Previous dataset split restored\n",
            "2021-04-28 06:23:34,310 Wrote model metadata to file ampl_output/HTR2A_cur/RF_ecfp_scaffold_classification/9cfdb139-fb4f-416e-abf0-701b04a5ff6b/model_metadata.json\n",
            "2021-04-28 06:23:34,354 Wrote model metrics to file ampl_output/HTR2A_cur/RF_ecfp_scaffold_classification/9cfdb139-fb4f-416e-abf0-701b04a5ff6b/model_metrics.json\n"
          ],
          "name": "stderr"
        },
        {
          "output_type": "stream",
          "text": [
            "Wrote model tarball to ampl_output/HTR2A_cur_model_9cfdb139-fb4f-416e-abf0-701b04a5ff6b.tar.gz\n",
            "rf_estimators: 64, rf_max_depth: 64, rf_max_features: 64, valid_auc: 0.8532256480754125\n",
            "number of features: 1024\n"
          ],
          "name": "stdout"
        },
        {
          "output_type": "stream",
          "text": [
            "2021-04-28 06:23:48,876 Previous dataset split restored\n",
            "2021-04-28 06:23:51,934 Wrote model metadata to file ampl_output/HTR2A_cur/RF_ecfp_scaffold_classification/89832347-9583-40fb-b935-ad24fd3d1535/model_metadata.json\n",
            "2021-04-28 06:23:51,973 Wrote model metrics to file ampl_output/HTR2A_cur/RF_ecfp_scaffold_classification/89832347-9583-40fb-b935-ad24fd3d1535/model_metrics.json\n"
          ],
          "name": "stderr"
        },
        {
          "output_type": "stream",
          "text": [
            "Wrote model tarball to ampl_output/HTR2A_cur_model_89832347-9583-40fb-b935-ad24fd3d1535.tar.gz\n",
            "rf_estimators: 64, rf_max_depth: 64, rf_max_features: 128, valid_auc: 0.8517282010997643\n",
            "number of features: 1024\n"
          ],
          "name": "stdout"
        },
        {
          "output_type": "stream",
          "text": [
            "2021-04-28 06:24:06,383 Previous dataset split restored\n",
            "2021-04-28 06:24:08,461 Wrote model metadata to file ampl_output/HTR2A_cur/RF_ecfp_scaffold_classification/9648b845-902e-40a9-88f7-00856124557a/model_metadata.json\n",
            "2021-04-28 06:24:08,518 Wrote model metrics to file ampl_output/HTR2A_cur/RF_ecfp_scaffold_classification/9648b845-902e-40a9-88f7-00856124557a/model_metrics.json\n"
          ],
          "name": "stderr"
        },
        {
          "output_type": "stream",
          "text": [
            "Wrote model tarball to ampl_output/HTR2A_cur_model_9648b845-902e-40a9-88f7-00856124557a.tar.gz\n",
            "rf_estimators: 64, rf_max_depth: 128, rf_max_features: 16, valid_auc: 0.8495434014139828\n",
            "number of features: 1024\n"
          ],
          "name": "stdout"
        },
        {
          "output_type": "stream",
          "text": [
            "2021-04-28 06:24:22,933 Previous dataset split restored\n",
            "2021-04-28 06:24:25,074 Wrote model metadata to file ampl_output/HTR2A_cur/RF_ecfp_scaffold_classification/80eac2c0-76de-4bdf-9054-f095be9c95b7/model_metadata.json\n",
            "2021-04-28 06:24:25,127 Wrote model metrics to file ampl_output/HTR2A_cur/RF_ecfp_scaffold_classification/80eac2c0-76de-4bdf-9054-f095be9c95b7/model_metrics.json\n"
          ],
          "name": "stderr"
        },
        {
          "output_type": "stream",
          "text": [
            "Wrote model tarball to ampl_output/HTR2A_cur_model_80eac2c0-76de-4bdf-9054-f095be9c95b7.tar.gz\n",
            "rf_estimators: 64, rf_max_depth: 128, rf_max_features: 32, valid_auc: 0.8533483896307934\n",
            "number of features: 1024\n"
          ],
          "name": "stdout"
        },
        {
          "output_type": "stream",
          "text": [
            "2021-04-28 06:24:39,501 Previous dataset split restored\n",
            "2021-04-28 06:24:41,935 Wrote model metadata to file ampl_output/HTR2A_cur/RF_ecfp_scaffold_classification/194f4b3d-3d8f-4d70-bf1a-cccf224224b1/model_metadata.json\n",
            "2021-04-28 06:24:41,979 Wrote model metrics to file ampl_output/HTR2A_cur/RF_ecfp_scaffold_classification/194f4b3d-3d8f-4d70-bf1a-cccf224224b1/model_metrics.json\n"
          ],
          "name": "stderr"
        },
        {
          "output_type": "stream",
          "text": [
            "Wrote model tarball to ampl_output/HTR2A_cur_model_194f4b3d-3d8f-4d70-bf1a-cccf224224b1.tar.gz\n",
            "rf_estimators: 64, rf_max_depth: 128, rf_max_features: 64, valid_auc: 0.8451492537313433\n",
            "number of features: 1024\n"
          ],
          "name": "stdout"
        },
        {
          "output_type": "stream",
          "text": [
            "2021-04-28 06:24:56,467 Previous dataset split restored\n",
            "2021-04-28 06:24:59,494 Wrote model metadata to file ampl_output/HTR2A_cur/RF_ecfp_scaffold_classification/66a72d82-57d2-4c85-ad5f-da1c4b12815a/model_metadata.json\n",
            "2021-04-28 06:24:59,532 Wrote model metrics to file ampl_output/HTR2A_cur/RF_ecfp_scaffold_classification/66a72d82-57d2-4c85-ad5f-da1c4b12815a/model_metrics.json\n"
          ],
          "name": "stderr"
        },
        {
          "output_type": "stream",
          "text": [
            "Wrote model tarball to ampl_output/HTR2A_cur_model_66a72d82-57d2-4c85-ad5f-da1c4b12815a.tar.gz\n",
            "rf_estimators: 64, rf_max_depth: 128, rf_max_features: 128, valid_auc: 0.8461066378633151\n",
            "number of features: 1024\n"
          ],
          "name": "stdout"
        },
        {
          "output_type": "stream",
          "text": [
            "2021-04-28 06:25:13,960 Previous dataset split restored\n",
            "2021-04-28 06:25:16,290 Wrote model metadata to file ampl_output/HTR2A_cur/RF_ecfp_scaffold_classification/4630e484-05c9-4811-aa7c-9d0cb0519a2e/model_metadata.json\n",
            "2021-04-28 06:25:16,336 Wrote model metrics to file ampl_output/HTR2A_cur/RF_ecfp_scaffold_classification/4630e484-05c9-4811-aa7c-9d0cb0519a2e/model_metrics.json\n"
          ],
          "name": "stderr"
        },
        {
          "output_type": "stream",
          "text": [
            "Wrote model tarball to ampl_output/HTR2A_cur_model_4630e484-05c9-4811-aa7c-9d0cb0519a2e.tar.gz\n",
            "rf_estimators: 128, rf_max_depth: 16, rf_max_features: 16, valid_auc: 0.852317360565593\n",
            "number of features: 1024\n"
          ],
          "name": "stdout"
        },
        {
          "output_type": "stream",
          "text": [
            "2021-04-28 06:25:30,850 Previous dataset split restored\n",
            "2021-04-28 06:25:33,384 Wrote model metadata to file ampl_output/HTR2A_cur/RF_ecfp_scaffold_classification/165365bd-67bf-4261-a5c2-a824f57e4376/model_metadata.json\n",
            "2021-04-28 06:25:33,430 Wrote model metrics to file ampl_output/HTR2A_cur/RF_ecfp_scaffold_classification/165365bd-67bf-4261-a5c2-a824f57e4376/model_metrics.json\n"
          ],
          "name": "stderr"
        },
        {
          "output_type": "stream",
          "text": [
            "Wrote model tarball to ampl_output/HTR2A_cur_model_165365bd-67bf-4261-a5c2-a824f57e4376.tar.gz\n",
            "rf_estimators: 128, rf_max_depth: 16, rf_max_features: 32, valid_auc: 0.8508444619010211\n",
            "number of features: 1024\n"
          ],
          "name": "stdout"
        },
        {
          "output_type": "stream",
          "text": [
            "2021-04-28 06:25:47,819 Previous dataset split restored\n",
            "2021-04-28 06:25:50,811 Wrote model metadata to file ampl_output/HTR2A_cur/RF_ecfp_scaffold_classification/a9f02f86-5327-4a04-aa9b-a38c0e61e0ff/model_metadata.json\n",
            "2021-04-28 06:25:50,861 Wrote model metrics to file ampl_output/HTR2A_cur/RF_ecfp_scaffold_classification/a9f02f86-5327-4a04-aa9b-a38c0e61e0ff/model_metrics.json\n"
          ],
          "name": "stderr"
        },
        {
          "output_type": "stream",
          "text": [
            "Wrote model tarball to ampl_output/HTR2A_cur_model_a9f02f86-5327-4a04-aa9b-a38c0e61e0ff.tar.gz\n",
            "rf_estimators: 128, rf_max_depth: 16, rf_max_features: 64, valid_auc: 0.8505498821681069\n",
            "number of features: 1024\n"
          ],
          "name": "stdout"
        },
        {
          "output_type": "stream",
          "text": [
            "2021-04-28 06:26:05,290 Previous dataset split restored\n",
            "2021-04-28 06:26:09,096 Wrote model metadata to file ampl_output/HTR2A_cur/RF_ecfp_scaffold_classification/f3056abb-b4eb-44c6-a045-f2137748539e/model_metadata.json\n",
            "2021-04-28 06:26:09,143 Wrote model metrics to file ampl_output/HTR2A_cur/RF_ecfp_scaffold_classification/f3056abb-b4eb-44c6-a045-f2137748539e/model_metrics.json\n"
          ],
          "name": "stderr"
        },
        {
          "output_type": "stream",
          "text": [
            "Wrote model tarball to ampl_output/HTR2A_cur_model_f3056abb-b4eb-44c6-a045-f2137748539e.tar.gz\n",
            "rf_estimators: 128, rf_max_depth: 16, rf_max_features: 128, valid_auc: 0.860369206598586\n",
            "number of features: 1024\n"
          ],
          "name": "stdout"
        },
        {
          "output_type": "stream",
          "text": [
            "2021-04-28 06:26:23,712 Previous dataset split restored\n",
            "2021-04-28 06:26:26,318 Wrote model metadata to file ampl_output/HTR2A_cur/RF_ecfp_scaffold_classification/7e6ce23c-40e3-4d2e-9120-6152cf96b597/model_metadata.json\n",
            "2021-04-28 06:26:26,410 Wrote model metrics to file ampl_output/HTR2A_cur/RF_ecfp_scaffold_classification/7e6ce23c-40e3-4d2e-9120-6152cf96b597/model_metrics.json\n"
          ],
          "name": "stderr"
        },
        {
          "output_type": "stream",
          "text": [
            "Wrote model tarball to ampl_output/HTR2A_cur_model_7e6ce23c-40e3-4d2e-9120-6152cf96b597.tar.gz\n",
            "rf_estimators: 128, rf_max_depth: 32, rf_max_features: 16, valid_auc: 0.8455911233307148\n",
            "number of features: 1024\n"
          ],
          "name": "stdout"
        },
        {
          "output_type": "stream",
          "text": [
            "2021-04-28 06:26:40,984 Previous dataset split restored\n",
            "2021-04-28 06:26:43,971 Wrote model metadata to file ampl_output/HTR2A_cur/RF_ecfp_scaffold_classification/71af3e37-ddc9-40a6-afd3-e9ef4e4d6ab5/model_metadata.json\n",
            "2021-04-28 06:26:44,052 Wrote model metrics to file ampl_output/HTR2A_cur/RF_ecfp_scaffold_classification/71af3e37-ddc9-40a6-afd3-e9ef4e4d6ab5/model_metrics.json\n"
          ],
          "name": "stderr"
        },
        {
          "output_type": "stream",
          "text": [
            "Wrote model tarball to ampl_output/HTR2A_cur_model_71af3e37-ddc9-40a6-afd3-e9ef4e4d6ab5.tar.gz\n",
            "rf_estimators: 128, rf_max_depth: 32, rf_max_features: 32, valid_auc: 0.8628240377062057\n",
            "number of features: 1024\n"
          ],
          "name": "stdout"
        },
        {
          "output_type": "stream",
          "text": [
            "2021-04-28 06:26:58,745 Previous dataset split restored\n",
            "2021-04-28 06:27:02,331 Wrote model metadata to file ampl_output/HTR2A_cur/RF_ecfp_scaffold_classification/6bc877da-6468-4e8f-929c-b023e3009b67/model_metadata.json\n",
            "2021-04-28 06:27:02,411 Wrote model metrics to file ampl_output/HTR2A_cur/RF_ecfp_scaffold_classification/6bc877da-6468-4e8f-929c-b023e3009b67/model_metrics.json\n"
          ],
          "name": "stderr"
        },
        {
          "output_type": "stream",
          "text": [
            "Wrote model tarball to ampl_output/HTR2A_cur_model_6bc877da-6468-4e8f-929c-b023e3009b67.tar.gz\n",
            "rf_estimators: 128, rf_max_depth: 32, rf_max_features: 64, valid_auc: 0.8529556166535743\n",
            "number of features: 1024\n"
          ],
          "name": "stdout"
        },
        {
          "output_type": "stream",
          "text": [
            "2021-04-28 06:27:17,278 Previous dataset split restored\n",
            "2021-04-28 06:27:21,922 Wrote model metadata to file ampl_output/HTR2A_cur/RF_ecfp_scaffold_classification/23f7e35b-3f41-48ce-8d32-6f80d65f6401/model_metadata.json\n",
            "2021-04-28 06:27:21,987 Wrote model metrics to file ampl_output/HTR2A_cur/RF_ecfp_scaffold_classification/23f7e35b-3f41-48ce-8d32-6f80d65f6401/model_metrics.json\n"
          ],
          "name": "stderr"
        },
        {
          "output_type": "stream",
          "text": [
            "Wrote model tarball to ampl_output/HTR2A_cur_model_23f7e35b-3f41-48ce-8d32-6f80d65f6401.tar.gz\n",
            "rf_estimators: 128, rf_max_depth: 32, rf_max_features: 128, valid_auc: 0.8536429693637078\n",
            "number of features: 1024\n"
          ],
          "name": "stdout"
        },
        {
          "output_type": "stream",
          "text": [
            "2021-04-28 06:27:36,842 Previous dataset split restored\n",
            "2021-04-28 06:27:39,588 Wrote model metadata to file ampl_output/HTR2A_cur/RF_ecfp_scaffold_classification/cc4e3458-8de5-45bc-af85-e91ff40d77c9/model_metadata.json\n",
            "2021-04-28 06:27:39,700 Wrote model metrics to file ampl_output/HTR2A_cur/RF_ecfp_scaffold_classification/cc4e3458-8de5-45bc-af85-e91ff40d77c9/model_metrics.json\n"
          ],
          "name": "stderr"
        },
        {
          "output_type": "stream",
          "text": [
            "Wrote model tarball to ampl_output/HTR2A_cur_model_cc4e3458-8de5-45bc-af85-e91ff40d77c9.tar.gz\n",
            "rf_estimators: 128, rf_max_depth: 64, rf_max_features: 16, valid_auc: 0.8609338177533385\n",
            "number of features: 1024\n"
          ],
          "name": "stdout"
        },
        {
          "output_type": "stream",
          "text": [
            "2021-04-28 06:27:54,235 Previous dataset split restored\n",
            "2021-04-28 06:27:57,235 Wrote model metadata to file ampl_output/HTR2A_cur/RF_ecfp_scaffold_classification/d405fa87-4516-4bdb-ba07-80d086154d05/model_metadata.json\n",
            "2021-04-28 06:27:57,328 Wrote model metrics to file ampl_output/HTR2A_cur/RF_ecfp_scaffold_classification/d405fa87-4516-4bdb-ba07-80d086154d05/model_metrics.json\n"
          ],
          "name": "stderr"
        },
        {
          "output_type": "stream",
          "text": [
            "Wrote model tarball to ampl_output/HTR2A_cur_model_d405fa87-4516-4bdb-ba07-80d086154d05.tar.gz\n",
            "rf_estimators: 128, rf_max_depth: 64, rf_max_features: 32, valid_auc: 0.8563923802042419\n",
            "number of features: 1024\n"
          ],
          "name": "stdout"
        },
        {
          "output_type": "stream",
          "text": [
            "2021-04-28 06:28:11,732 Previous dataset split restored\n",
            "2021-04-28 06:28:15,185 Wrote model metadata to file ampl_output/HTR2A_cur/RF_ecfp_scaffold_classification/c7d6d9d7-bf87-47c6-bd72-c4b7cc690abd/model_metadata.json\n",
            "2021-04-28 06:28:15,262 Wrote model metrics to file ampl_output/HTR2A_cur/RF_ecfp_scaffold_classification/c7d6d9d7-bf87-47c6-bd72-c4b7cc690abd/model_metrics.json\n"
          ],
          "name": "stderr"
        },
        {
          "output_type": "stream",
          "text": [
            "Wrote model tarball to ampl_output/HTR2A_cur_model_c7d6d9d7-bf87-47c6-bd72-c4b7cc690abd.tar.gz\n",
            "rf_estimators: 128, rf_max_depth: 64, rf_max_features: 64, valid_auc: 0.8560978004713274\n",
            "number of features: 1024\n"
          ],
          "name": "stdout"
        },
        {
          "output_type": "stream",
          "text": [
            "2021-04-28 06:28:29,902 Previous dataset split restored\n",
            "2021-04-28 06:28:34,586 Wrote model metadata to file ampl_output/HTR2A_cur/RF_ecfp_scaffold_classification/e622927d-e075-49e9-874c-f7356c978035/model_metadata.json\n",
            "2021-04-28 06:28:34,655 Wrote model metrics to file ampl_output/HTR2A_cur/RF_ecfp_scaffold_classification/e622927d-e075-49e9-874c-f7356c978035/model_metrics.json\n"
          ],
          "name": "stderr"
        },
        {
          "output_type": "stream",
          "text": [
            "Wrote model tarball to ampl_output/HTR2A_cur_model_e622927d-e075-49e9-874c-f7356c978035.tar.gz\n",
            "rf_estimators: 128, rf_max_depth: 64, rf_max_features: 128, valid_auc: 0.8457629615082483\n",
            "number of features: 1024\n"
          ],
          "name": "stdout"
        },
        {
          "output_type": "stream",
          "text": [
            "2021-04-28 06:28:49,315 Previous dataset split restored\n",
            "2021-04-28 06:28:52,087 Wrote model metadata to file ampl_output/HTR2A_cur/RF_ecfp_scaffold_classification/20cde1df-c6ee-49e6-9dbc-1d29d4b02f1d/model_metadata.json\n",
            "2021-04-28 06:28:52,194 Wrote model metrics to file ampl_output/HTR2A_cur/RF_ecfp_scaffold_classification/20cde1df-c6ee-49e6-9dbc-1d29d4b02f1d/model_metrics.json\n"
          ],
          "name": "stderr"
        },
        {
          "output_type": "stream",
          "text": [
            "Wrote model tarball to ampl_output/HTR2A_cur_model_20cde1df-c6ee-49e6-9dbc-1d29d4b02f1d.tar.gz\n",
            "rf_estimators: 128, rf_max_depth: 128, rf_max_features: 16, valid_auc: 0.8586999214454045\n",
            "number of features: 1024\n"
          ],
          "name": "stdout"
        },
        {
          "output_type": "stream",
          "text": [
            "2021-04-28 06:29:06,715 Previous dataset split restored\n",
            "2021-04-28 06:29:09,720 Wrote model metadata to file ampl_output/HTR2A_cur/RF_ecfp_scaffold_classification/97ad7ce0-04d3-49b3-b6fb-5a818063175b/model_metadata.json\n",
            "2021-04-28 06:29:09,815 Wrote model metrics to file ampl_output/HTR2A_cur/RF_ecfp_scaffold_classification/97ad7ce0-04d3-49b3-b6fb-5a818063175b/model_metrics.json\n"
          ],
          "name": "stderr"
        },
        {
          "output_type": "stream",
          "text": [
            "Wrote model tarball to ampl_output/HTR2A_cur_model_97ad7ce0-04d3-49b3-b6fb-5a818063175b.tar.gz\n",
            "rf_estimators: 128, rf_max_depth: 128, rf_max_features: 32, valid_auc: 0.8629958758837392\n",
            "number of features: 1024\n"
          ],
          "name": "stdout"
        },
        {
          "output_type": "stream",
          "text": [
            "2021-04-28 06:29:24,418 Previous dataset split restored\n",
            "2021-04-28 06:29:27,988 Wrote model metadata to file ampl_output/HTR2A_cur/RF_ecfp_scaffold_classification/32b52853-242e-4cb1-8b48-1ff238892a03/model_metadata.json\n",
            "2021-04-28 06:29:28,067 Wrote model metrics to file ampl_output/HTR2A_cur/RF_ecfp_scaffold_classification/32b52853-242e-4cb1-8b48-1ff238892a03/model_metrics.json\n"
          ],
          "name": "stderr"
        },
        {
          "output_type": "stream",
          "text": [
            "Wrote model tarball to ampl_output/HTR2A_cur_model_32b52853-242e-4cb1-8b48-1ff238892a03.tar.gz\n",
            "rf_estimators: 128, rf_max_depth: 128, rf_max_features: 64, valid_auc: 0.8538393558523172\n",
            "number of features: 1024\n"
          ],
          "name": "stdout"
        },
        {
          "output_type": "stream",
          "text": [
            "2021-04-28 06:29:42,550 Previous dataset split restored\n",
            "2021-04-28 06:29:47,127 Wrote model metadata to file ampl_output/HTR2A_cur/RF_ecfp_scaffold_classification/92c7bf7f-13a5-453d-8e2b-afc33a6f4fe7/model_metadata.json\n",
            "2021-04-28 06:29:47,199 Wrote model metrics to file ampl_output/HTR2A_cur/RF_ecfp_scaffold_classification/92c7bf7f-13a5-453d-8e2b-afc33a6f4fe7/model_metrics.json\n"
          ],
          "name": "stderr"
        },
        {
          "output_type": "stream",
          "text": [
            "Wrote model tarball to ampl_output/HTR2A_cur_model_92c7bf7f-13a5-453d-8e2b-afc33a6f4fe7.tar.gz\n",
            "rf_estimators: 128, rf_max_depth: 128, rf_max_features: 128, valid_auc: 0.8435290652003142\n"
          ],
          "name": "stdout"
        }
      ]
    },
    {
      "cell_type": "code",
      "metadata": {
        "colab": {
          "base_uri": "https://localhost:8080/",
          "height": 419
        },
        "id": "fXJ9Qv8ZGt9I",
        "outputId": "2dfe0729-c854-43ee-d47d-63a1bf6f738e"
      },
      "source": [
        "perf_df = pd.DataFrame({\"rf_estimators\": rfe_list, \"rf_max_depth\": rfd_list, \"rf_max_features\": rff_list, \"valid_auc_score\": valid_auc_list})\n",
        "perf_df.sort_values(by=\"valid_auc_score\", ascending=False)"
      ],
      "execution_count": null,
      "outputs": [
        {
          "output_type": "execute_result",
          "data": {
            "text/html": [
              "<div>\n",
              "<style scoped>\n",
              "    .dataframe tbody tr th:only-of-type {\n",
              "        vertical-align: middle;\n",
              "    }\n",
              "\n",
              "    .dataframe tbody tr th {\n",
              "        vertical-align: top;\n",
              "    }\n",
              "\n",
              "    .dataframe thead th {\n",
              "        text-align: right;\n",
              "    }\n",
              "</style>\n",
              "<table border=\"1\" class=\"dataframe\">\n",
              "  <thead>\n",
              "    <tr style=\"text-align: right;\">\n",
              "      <th></th>\n",
              "      <th>rf_estimators</th>\n",
              "      <th>rf_max_depth</th>\n",
              "      <th>rf_max_features</th>\n",
              "      <th>valid_auc_score</th>\n",
              "    </tr>\n",
              "  </thead>\n",
              "  <tbody>\n",
              "    <tr>\n",
              "      <th>61</th>\n",
              "      <td>128</td>\n",
              "      <td>128</td>\n",
              "      <td>32</td>\n",
              "      <td>0.862996</td>\n",
              "    </tr>\n",
              "    <tr>\n",
              "      <th>53</th>\n",
              "      <td>128</td>\n",
              "      <td>32</td>\n",
              "      <td>32</td>\n",
              "      <td>0.862824</td>\n",
              "    </tr>\n",
              "    <tr>\n",
              "      <th>56</th>\n",
              "      <td>128</td>\n",
              "      <td>64</td>\n",
              "      <td>16</td>\n",
              "      <td>0.860934</td>\n",
              "    </tr>\n",
              "    <tr>\n",
              "      <th>51</th>\n",
              "      <td>128</td>\n",
              "      <td>16</td>\n",
              "      <td>128</td>\n",
              "      <td>0.860369</td>\n",
              "    </tr>\n",
              "    <tr>\n",
              "      <th>23</th>\n",
              "      <td>32</td>\n",
              "      <td>32</td>\n",
              "      <td>128</td>\n",
              "      <td>0.859584</td>\n",
              "    </tr>\n",
              "    <tr>\n",
              "      <th>...</th>\n",
              "      <td>...</td>\n",
              "      <td>...</td>\n",
              "      <td>...</td>\n",
              "      <td>...</td>\n",
              "    </tr>\n",
              "    <tr>\n",
              "      <th>11</th>\n",
              "      <td>16</td>\n",
              "      <td>64</td>\n",
              "      <td>128</td>\n",
              "      <td>0.819030</td>\n",
              "    </tr>\n",
              "    <tr>\n",
              "      <th>9</th>\n",
              "      <td>16</td>\n",
              "      <td>64</td>\n",
              "      <td>32</td>\n",
              "      <td>0.817802</td>\n",
              "    </tr>\n",
              "    <tr>\n",
              "      <th>13</th>\n",
              "      <td>16</td>\n",
              "      <td>128</td>\n",
              "      <td>32</td>\n",
              "      <td>0.817091</td>\n",
              "    </tr>\n",
              "    <tr>\n",
              "      <th>0</th>\n",
              "      <td>16</td>\n",
              "      <td>16</td>\n",
              "      <td>16</td>\n",
              "      <td>0.810021</td>\n",
              "    </tr>\n",
              "    <tr>\n",
              "      <th>1</th>\n",
              "      <td>16</td>\n",
              "      <td>16</td>\n",
              "      <td>32</td>\n",
              "      <td>0.809603</td>\n",
              "    </tr>\n",
              "  </tbody>\n",
              "</table>\n",
              "<p>64 rows × 4 columns</p>\n",
              "</div>"
            ],
            "text/plain": [
              "    rf_estimators  rf_max_depth  rf_max_features  valid_auc_score\n",
              "61            128           128               32         0.862996\n",
              "53            128            32               32         0.862824\n",
              "56            128            64               16         0.860934\n",
              "51            128            16              128         0.860369\n",
              "23             32            32              128         0.859584\n",
              "..            ...           ...              ...              ...\n",
              "11             16            64              128         0.819030\n",
              "9              16            64               32         0.817802\n",
              "13             16           128               32         0.817091\n",
              "0              16            16               16         0.810021\n",
              "1              16            16               32         0.809603\n",
              "\n",
              "[64 rows x 4 columns]"
            ]
          },
          "metadata": {
            "tags": []
          },
          "execution_count": 75
        }
      ]
    },
    {
      "cell_type": "code",
      "metadata": {
        "colab": {
          "base_uri": "https://localhost:8080/",
          "height": 434
        },
        "id": "vqFIwN_aLAnV",
        "outputId": "e1f6f683-aca0-4540-ce88-8ac9faaa4fdb"
      },
      "source": [
        "\n",
        "fig, ax = plt.subplots(1,3,figsize=(21,7))\n",
        "sns.boxplot(data=perf_df, x=\"rf_estimators\", y=\"valid_auc_score\", ax=ax[0])\n",
        "sns.boxplot(data=perf_df, x=\"rf_max_depth\", y=\"valid_auc_score\", ax=ax[1])\n",
        "sns.boxplot(data=perf_df, x=\"rf_max_features\", y=\"valid_auc_score\", ax=ax[2])\n",
        "fig.tight_layout()"
      ],
      "execution_count": null,
      "outputs": [
        {
          "output_type": "display_data",
          "data": {
            "image/png": "[encoded data removed]",
            "text/plain": [
              "<Figure size 1512x504 with 3 Axes>"
            ]
          },
          "metadata": {
            "tags": []
          }
        }
      ]
    },
    {
      "cell_type": "code",
      "metadata": {
        "colab": {
          "base_uri": "https://localhost:8080/"
        },
        "id": "ZY5j1GzGLQzw",
        "outputId": "0eb72635-4274-4903-b71c-82695224b7ce"
      },
      "source": [
        "\n",
        "estimators = [64,100,200,300]\n",
        "depth=[32,64,128,200]\n",
        "features=[32,64,128,200]\n",
        "\n",
        "rfe_list = []\n",
        "rfd_list = []\n",
        "rff_list = []\n",
        "valid_auc_list = []\n",
        "for rf_estimator in estimators:\n",
        "    for rf_depth in depth:\n",
        "        for rf_feature in features:\n",
        "            params[\"rf_estimators\"] = rf_estimator\n",
        "            params[\"rf_max_depth\"] = rf_depth\n",
        "            params[\"rf_max_features\"] = rf_feature\n",
        "            rfe_list.append(rf_estimator)\n",
        "            rfd_list.append(rf_depth)\n",
        "            rff_list.append(rf_feature)\n",
        "            tp = parse.wrapper(params)\n",
        "            pl = mp.ModelPipeline(tp)\n",
        "            pl.train_model()\n",
        "            pred_data = pl.model_wrapper.get_perf_data(subset=\"valid\", epoch_label=\"best\")\n",
        "            pred_results = pred_data.get_prediction_results()\n",
        "            valid_auc = pred_results['roc_auc_score']\n",
        "            valid_auc_list.append(valid_auc)\n",
        "            print(f\"rf_estimators: {rf_estimator}, rf_max_depth: {rf_depth}, rf_max_features: {rf_feature}, valid_auc: {valid_auc}\")"
      ],
      "execution_count": null,
      "outputs": [
        {
          "output_type": "stream",
          "text": [
            "number of features: 1024\n"
          ],
          "name": "stdout"
        },
        {
          "output_type": "stream",
          "text": [
            "2021-04-28 06:34:00,542 Previous dataset split restored\n",
            "2021-04-28 06:34:02,778 Wrote model metadata to file ampl_output/HTR2A_cur/RF_ecfp_scaffold_classification/5f192c98-6ad5-41c9-8168-c9444c3b7ebe/model_metadata.json\n",
            "2021-04-28 06:34:02,823 Wrote model metrics to file ampl_output/HTR2A_cur/RF_ecfp_scaffold_classification/5f192c98-6ad5-41c9-8168-c9444c3b7ebe/model_metrics.json\n"
          ],
          "name": "stderr"
        },
        {
          "output_type": "stream",
          "text": [
            "Wrote model tarball to ampl_output/HTR2A_cur_model_5f192c98-6ad5-41c9-8168-c9444c3b7ebe.tar.gz\n",
            "rf_estimators: 64, rf_max_depth: 32, rf_max_features: 32, valid_auc: 0.8561959937156324\n",
            "number of features: 1024\n"
          ],
          "name": "stdout"
        },
        {
          "output_type": "stream",
          "text": [
            "2021-04-28 06:34:17,313 Previous dataset split restored\n",
            "2021-04-28 06:34:19,872 Wrote model metadata to file ampl_output/HTR2A_cur/RF_ecfp_scaffold_classification/20957f70-277c-49ea-ac9a-fcddcbe4a84d/model_metadata.json\n",
            "2021-04-28 06:34:19,913 Wrote model metrics to file ampl_output/HTR2A_cur/RF_ecfp_scaffold_classification/20957f70-277c-49ea-ac9a-fcddcbe4a84d/model_metrics.json\n"
          ],
          "name": "stderr"
        },
        {
          "output_type": "stream",
          "text": [
            "Wrote model tarball to ampl_output/HTR2A_cur_model_20957f70-277c-49ea-ac9a-fcddcbe4a84d.tar.gz\n",
            "rf_estimators: 64, rf_max_depth: 32, rf_max_features: 64, valid_auc: 0.8498134328358209\n",
            "number of features: 1024\n"
          ],
          "name": "stdout"
        },
        {
          "output_type": "stream",
          "text": [
            "2021-04-28 06:34:34,378 Previous dataset split restored\n",
            "2021-04-28 06:34:37,390 Wrote model metadata to file ampl_output/HTR2A_cur/RF_ecfp_scaffold_classification/eae45eb9-b7bc-43ea-b7d5-73777bfd2a3f/model_metadata.json\n",
            "2021-04-28 06:34:37,425 Wrote model metrics to file ampl_output/HTR2A_cur/RF_ecfp_scaffold_classification/eae45eb9-b7bc-43ea-b7d5-73777bfd2a3f/model_metrics.json\n"
          ],
          "name": "stderr"
        },
        {
          "output_type": "stream",
          "text": [
            "Wrote model tarball to ampl_output/HTR2A_cur_model_eae45eb9-b7bc-43ea-b7d5-73777bfd2a3f.tar.gz\n",
            "rf_estimators: 64, rf_max_depth: 32, rf_max_features: 128, valid_auc: 0.8542566771406128\n",
            "number of features: 1024\n"
          ],
          "name": "stdout"
        },
        {
          "output_type": "stream",
          "text": [
            "2021-04-28 06:34:51,839 Previous dataset split restored\n",
            "2021-04-28 06:34:55,443 Wrote model metadata to file ampl_output/HTR2A_cur/RF_ecfp_scaffold_classification/e1f9e351-dd0a-4447-b238-e81275a42264/model_metadata.json\n",
            "2021-04-28 06:34:55,479 Wrote model metrics to file ampl_output/HTR2A_cur/RF_ecfp_scaffold_classification/e1f9e351-dd0a-4447-b238-e81275a42264/model_metrics.json\n"
          ],
          "name": "stderr"
        },
        {
          "output_type": "stream",
          "text": [
            "Wrote model tarball to ampl_output/HTR2A_cur_model_e1f9e351-dd0a-4447-b238-e81275a42264.tar.gz\n",
            "rf_estimators: 64, rf_max_depth: 32, rf_max_features: 200, valid_auc: 0.8469412804399057\n",
            "number of features: 1024\n"
          ],
          "name": "stdout"
        },
        {
          "output_type": "stream",
          "text": [
            "2021-04-28 06:35:09,804 Previous dataset split restored\n",
            "2021-04-28 06:35:12,040 Wrote model metadata to file ampl_output/HTR2A_cur/RF_ecfp_scaffold_classification/00a45bf4-7617-4803-8bf1-a186bb4dbcab/model_metadata.json\n",
            "2021-04-28 06:35:12,088 Wrote model metrics to file ampl_output/HTR2A_cur/RF_ecfp_scaffold_classification/00a45bf4-7617-4803-8bf1-a186bb4dbcab/model_metrics.json\n"
          ],
          "name": "stderr"
        },
        {
          "output_type": "stream",
          "text": [
            "Wrote model tarball to ampl_output/HTR2A_cur_model_00a45bf4-7617-4803-8bf1-a186bb4dbcab.tar.gz\n",
            "rf_estimators: 64, rf_max_depth: 64, rf_max_features: 32, valid_auc: 0.8540848389630794\n",
            "number of features: 1024\n"
          ],
          "name": "stdout"
        },
        {
          "output_type": "stream",
          "text": [
            "2021-04-28 06:35:26,536 Previous dataset split restored\n",
            "2021-04-28 06:35:29,052 Wrote model metadata to file ampl_output/HTR2A_cur/RF_ecfp_scaffold_classification/cd6bfcd6-381a-440e-8ebe-27f412243ffc/model_metadata.json\n",
            "2021-04-28 06:35:29,095 Wrote model metrics to file ampl_output/HTR2A_cur/RF_ecfp_scaffold_classification/cd6bfcd6-381a-440e-8ebe-27f412243ffc/model_metrics.json\n"
          ],
          "name": "stderr"
        },
        {
          "output_type": "stream",
          "text": [
            "Wrote model tarball to ampl_output/HTR2A_cur_model_cd6bfcd6-381a-440e-8ebe-27f412243ffc.tar.gz\n",
            "rf_estimators: 64, rf_max_depth: 64, rf_max_features: 64, valid_auc: 0.8458366064414768\n",
            "number of features: 1024\n"
          ],
          "name": "stdout"
        },
        {
          "output_type": "stream",
          "text": [
            "2021-04-28 06:35:43,545 Previous dataset split restored\n",
            "2021-04-28 06:35:46,666 Wrote model metadata to file ampl_output/HTR2A_cur/RF_ecfp_scaffold_classification/c2ddb8f0-d8df-43df-9856-04383601a17c/model_metadata.json\n",
            "2021-04-28 06:35:46,705 Wrote model metrics to file ampl_output/HTR2A_cur/RF_ecfp_scaffold_classification/c2ddb8f0-d8df-43df-9856-04383601a17c/model_metrics.json\n"
          ],
          "name": "stderr"
        },
        {
          "output_type": "stream",
          "text": [
            "Wrote model tarball to ampl_output/HTR2A_cur_model_c2ddb8f0-d8df-43df-9856-04383601a17c.tar.gz\n",
            "rf_estimators: 64, rf_max_depth: 64, rf_max_features: 128, valid_auc: 0.8491997250589159\n",
            "number of features: 1024\n"
          ],
          "name": "stdout"
        },
        {
          "output_type": "stream",
          "text": [
            "2021-04-28 06:36:01,030 Previous dataset split restored\n",
            "2021-04-28 06:36:04,731 Wrote model metadata to file ampl_output/HTR2A_cur/RF_ecfp_scaffold_classification/b29ac2b8-fdcc-47cc-8a05-bae85e10f6d6/model_metadata.json\n",
            "2021-04-28 06:36:04,769 Wrote model metrics to file ampl_output/HTR2A_cur/RF_ecfp_scaffold_classification/b29ac2b8-fdcc-47cc-8a05-bae85e10f6d6/model_metrics.json\n"
          ],
          "name": "stderr"
        },
        {
          "output_type": "stream",
          "text": [
            "Wrote model tarball to ampl_output/HTR2A_cur_model_b29ac2b8-fdcc-47cc-8a05-bae85e10f6d6.tar.gz\n",
            "rf_estimators: 64, rf_max_depth: 64, rf_max_features: 200, valid_auc: 0.8438972898664573\n",
            "number of features: 1024\n"
          ],
          "name": "stdout"
        },
        {
          "output_type": "stream",
          "text": [
            "2021-04-28 06:36:19,041 Previous dataset split restored\n",
            "2021-04-28 06:36:21,264 Wrote model metadata to file ampl_output/HTR2A_cur/RF_ecfp_scaffold_classification/b4e87241-90d6-430a-8def-493c8c41440d/model_metadata.json\n",
            "2021-04-28 06:36:21,313 Wrote model metrics to file ampl_output/HTR2A_cur/RF_ecfp_scaffold_classification/b4e87241-90d6-430a-8def-493c8c41440d/model_metrics.json\n"
          ],
          "name": "stderr"
        },
        {
          "output_type": "stream",
          "text": [
            "Wrote model tarball to ampl_output/HTR2A_cur_model_b4e87241-90d6-430a-8def-493c8c41440d.tar.gz\n",
            "rf_estimators: 64, rf_max_depth: 128, rf_max_features: 32, valid_auc: 0.8487087588373919\n",
            "number of features: 1024\n"
          ],
          "name": "stdout"
        },
        {
          "output_type": "stream",
          "text": [
            "2021-04-28 06:36:35,599 Previous dataset split restored\n",
            "2021-04-28 06:36:38,012 Wrote model metadata to file ampl_output/HTR2A_cur/RF_ecfp_scaffold_classification/ce76b0d2-e1f0-45b4-852f-912b14ee0227/model_metadata.json\n",
            "2021-04-28 06:36:38,057 Wrote model metrics to file ampl_output/HTR2A_cur/RF_ecfp_scaffold_classification/ce76b0d2-e1f0-45b4-852f-912b14ee0227/model_metrics.json\n"
          ],
          "name": "stderr"
        },
        {
          "output_type": "stream",
          "text": [
            "Wrote model tarball to ampl_output/HTR2A_cur_model_ce76b0d2-e1f0-45b4-852f-912b14ee0227.tar.gz\n",
            "rf_estimators: 64, rf_max_depth: 128, rf_max_features: 64, valid_auc: 0.8468185388845249\n",
            "number of features: 1024\n"
          ],
          "name": "stdout"
        },
        {
          "output_type": "stream",
          "text": [
            "2021-04-28 06:36:52,422 Previous dataset split restored\n",
            "2021-04-28 06:36:55,447 Wrote model metadata to file ampl_output/HTR2A_cur/RF_ecfp_scaffold_classification/58595203-8791-4689-bb42-f1343a170a9e/model_metadata.json\n",
            "2021-04-28 06:36:55,486 Wrote model metrics to file ampl_output/HTR2A_cur/RF_ecfp_scaffold_classification/58595203-8791-4689-bb42-f1343a170a9e/model_metrics.json\n"
          ],
          "name": "stderr"
        },
        {
          "output_type": "stream",
          "text": [
            "Wrote model tarball to ampl_output/HTR2A_cur_model_58595203-8791-4689-bb42-f1343a170a9e.tar.gz\n",
            "rf_estimators: 64, rf_max_depth: 128, rf_max_features: 128, valid_auc: 0.8567115082482325\n",
            "number of features: 1024\n"
          ],
          "name": "stdout"
        },
        {
          "output_type": "stream",
          "text": [
            "2021-04-28 06:37:09,993 Previous dataset split restored\n",
            "2021-04-28 06:37:13,616 Wrote model metadata to file ampl_output/HTR2A_cur/RF_ecfp_scaffold_classification/0c5c5f8d-1638-493d-8732-47c4f0d7ebb6/model_metadata.json\n",
            "2021-04-28 06:37:13,651 Wrote model metrics to file ampl_output/HTR2A_cur/RF_ecfp_scaffold_classification/0c5c5f8d-1638-493d-8732-47c4f0d7ebb6/model_metrics.json\n"
          ],
          "name": "stderr"
        },
        {
          "output_type": "stream",
          "text": [
            "Wrote model tarball to ampl_output/HTR2A_cur_model_0c5c5f8d-1638-493d-8732-47c4f0d7ebb6.tar.gz\n",
            "rf_estimators: 64, rf_max_depth: 128, rf_max_features: 200, valid_auc: 0.8522928122545169\n",
            "number of features: 1024\n"
          ],
          "name": "stdout"
        },
        {
          "output_type": "stream",
          "text": [
            "2021-04-28 06:37:28,089 Previous dataset split restored\n",
            "2021-04-28 06:37:30,349 Wrote model metadata to file ampl_output/HTR2A_cur/RF_ecfp_scaffold_classification/3946c56c-1756-49c0-aeaa-864a3c3b7267/model_metadata.json\n",
            "2021-04-28 06:37:30,398 Wrote model metrics to file ampl_output/HTR2A_cur/RF_ecfp_scaffold_classification/3946c56c-1756-49c0-aeaa-864a3c3b7267/model_metrics.json\n"
          ],
          "name": "stderr"
        },
        {
          "output_type": "stream",
          "text": [
            "Wrote model tarball to ampl_output/HTR2A_cur_model_3946c56c-1756-49c0-aeaa-864a3c3b7267.tar.gz\n",
            "rf_estimators: 64, rf_max_depth: 200, rf_max_features: 32, valid_auc: 0.8468185388845247\n",
            "number of features: 1024\n"
          ],
          "name": "stdout"
        },
        {
          "output_type": "stream",
          "text": [
            "2021-04-28 06:37:44,808 Previous dataset split restored\n",
            "2021-04-28 06:37:47,244 Wrote model metadata to file ampl_output/HTR2A_cur/RF_ecfp_scaffold_classification/5212395d-7d0a-4636-8670-5fe9499df1e4/model_metadata.json\n",
            "2021-04-28 06:37:47,290 Wrote model metrics to file ampl_output/HTR2A_cur/RF_ecfp_scaffold_classification/5212395d-7d0a-4636-8670-5fe9499df1e4/model_metrics.json\n"
          ],
          "name": "stderr"
        },
        {
          "output_type": "stream",
          "text": [
            "Wrote model tarball to ampl_output/HTR2A_cur_model_5212395d-7d0a-4636-8670-5fe9499df1e4.tar.gz\n",
            "rf_estimators: 64, rf_max_depth: 200, rf_max_features: 64, valid_auc: 0.8647879025923016\n",
            "number of features: 1024\n"
          ],
          "name": "stdout"
        },
        {
          "output_type": "stream",
          "text": [
            "2021-04-28 06:38:01,709 Previous dataset split restored\n",
            "2021-04-28 06:38:04,725 Wrote model metadata to file ampl_output/HTR2A_cur/RF_ecfp_scaffold_classification/fbedf2c0-edb6-4bff-a927-f711a55761c5/model_metadata.json\n",
            "2021-04-28 06:38:04,763 Wrote model metrics to file ampl_output/HTR2A_cur/RF_ecfp_scaffold_classification/fbedf2c0-edb6-4bff-a927-f711a55761c5/model_metrics.json\n"
          ],
          "name": "stderr"
        },
        {
          "output_type": "stream",
          "text": [
            "Wrote model tarball to ampl_output/HTR2A_cur_model_fbedf2c0-edb6-4bff-a927-f711a55761c5.tar.gz\n",
            "rf_estimators: 64, rf_max_depth: 200, rf_max_features: 128, valid_auc: 0.8488805970149252\n",
            "number of features: 1024\n"
          ],
          "name": "stdout"
        },
        {
          "output_type": "stream",
          "text": [
            "2021-04-28 06:38:19,178 Previous dataset split restored\n",
            "2021-04-28 06:38:22,890 Wrote model metadata to file ampl_output/HTR2A_cur/RF_ecfp_scaffold_classification/9a6ed8a3-5dc7-481a-aa7c-3d5b391ea13a/model_metadata.json\n",
            "2021-04-28 06:38:22,929 Wrote model metrics to file ampl_output/HTR2A_cur/RF_ecfp_scaffold_classification/9a6ed8a3-5dc7-481a-aa7c-3d5b391ea13a/model_metrics.json\n"
          ],
          "name": "stderr"
        },
        {
          "output_type": "stream",
          "text": [
            "Wrote model tarball to ampl_output/HTR2A_cur_model_9a6ed8a3-5dc7-481a-aa7c-3d5b391ea13a.tar.gz\n",
            "rf_estimators: 64, rf_max_depth: 200, rf_max_features: 200, valid_auc: 0.8514581696779262\n",
            "number of features: 1024\n"
          ],
          "name": "stdout"
        },
        {
          "output_type": "stream",
          "text": [
            "2021-04-28 06:38:37,323 Previous dataset split restored\n",
            "2021-04-28 06:38:39,918 Wrote model metadata to file ampl_output/HTR2A_cur/RF_ecfp_scaffold_classification/9ba7cae5-0d73-46a6-a11d-13142e248490/model_metadata.json\n",
            "2021-04-28 06:38:39,981 Wrote model metrics to file ampl_output/HTR2A_cur/RF_ecfp_scaffold_classification/9ba7cae5-0d73-46a6-a11d-13142e248490/model_metrics.json\n"
          ],
          "name": "stderr"
        },
        {
          "output_type": "stream",
          "text": [
            "Wrote model tarball to ampl_output/HTR2A_cur_model_9ba7cae5-0d73-46a6-a11d-13142e248490.tar.gz\n",
            "rf_estimators: 100, rf_max_depth: 32, rf_max_features: 32, valid_auc: 0.8594363707776905\n",
            "number of features: 1024\n"
          ],
          "name": "stdout"
        },
        {
          "output_type": "stream",
          "text": [
            "2021-04-28 06:38:54,298 Previous dataset split restored\n",
            "2021-04-28 06:38:57,277 Wrote model metadata to file ampl_output/HTR2A_cur/RF_ecfp_scaffold_classification/5b2e86fb-5a57-4d16-8a25-eb2abcc49024/model_metadata.json\n",
            "2021-04-28 06:38:57,337 Wrote model metrics to file ampl_output/HTR2A_cur/RF_ecfp_scaffold_classification/5b2e86fb-5a57-4d16-8a25-eb2abcc49024/model_metrics.json\n"
          ],
          "name": "stderr"
        },
        {
          "output_type": "stream",
          "text": [
            "Wrote model tarball to ampl_output/HTR2A_cur_model_5b2e86fb-5a57-4d16-8a25-eb2abcc49024.tar.gz\n",
            "rf_estimators: 100, rf_max_depth: 32, rf_max_features: 64, valid_auc: 0.8542812254516889\n",
            "number of features: 1024\n"
          ],
          "name": "stdout"
        },
        {
          "output_type": "stream",
          "text": [
            "2021-04-28 06:39:11,699 Previous dataset split restored\n",
            "2021-04-28 06:39:15,487 Wrote model metadata to file ampl_output/HTR2A_cur/RF_ecfp_scaffold_classification/81bce523-3c44-475f-a524-427b22035f81/model_metadata.json\n",
            "2021-04-28 06:39:15,541 Wrote model metrics to file ampl_output/HTR2A_cur/RF_ecfp_scaffold_classification/81bce523-3c44-475f-a524-427b22035f81/model_metrics.json\n"
          ],
          "name": "stderr"
        },
        {
          "output_type": "stream",
          "text": [
            "Wrote model tarball to ampl_output/HTR2A_cur_model_81bce523-3c44-475f-a524-427b22035f81.tar.gz\n",
            "rf_estimators: 100, rf_max_depth: 32, rf_max_features: 128, valid_auc: 0.8516791044776121\n",
            "number of features: 1024\n"
          ],
          "name": "stdout"
        },
        {
          "output_type": "stream",
          "text": [
            "2021-04-28 06:39:30,012 Previous dataset split restored\n",
            "2021-04-28 06:39:34,779 Wrote model metadata to file ampl_output/HTR2A_cur/RF_ecfp_scaffold_classification/b40bab6b-d4e0-4b10-880d-fdb26467da7b/model_metadata.json\n",
            "2021-04-28 06:39:34,830 Wrote model metrics to file ampl_output/HTR2A_cur/RF_ecfp_scaffold_classification/b40bab6b-d4e0-4b10-880d-fdb26467da7b/model_metrics.json\n"
          ],
          "name": "stderr"
        },
        {
          "output_type": "stream",
          "text": [
            "Wrote model tarball to ampl_output/HTR2A_cur_model_b40bab6b-d4e0-4b10-880d-fdb26467da7b.tar.gz\n",
            "rf_estimators: 100, rf_max_depth: 32, rf_max_features: 200, valid_auc: 0.8493470149253731\n",
            "number of features: 1024\n"
          ],
          "name": "stdout"
        },
        {
          "output_type": "stream",
          "text": [
            "2021-04-28 06:39:49,236 Previous dataset split restored\n",
            "2021-04-28 06:39:51,873 Wrote model metadata to file ampl_output/HTR2A_cur/RF_ecfp_scaffold_classification/04a55c8b-d908-42a4-923f-1f4b301adb68/model_metadata.json\n",
            "2021-04-28 06:39:51,951 Wrote model metrics to file ampl_output/HTR2A_cur/RF_ecfp_scaffold_classification/04a55c8b-d908-42a4-923f-1f4b301adb68/model_metrics.json\n"
          ],
          "name": "stderr"
        },
        {
          "output_type": "stream",
          "text": [
            "Wrote model tarball to ampl_output/HTR2A_cur_model_04a55c8b-d908-42a4-923f-1f4b301adb68.tar.gz\n",
            "rf_estimators: 100, rf_max_depth: 64, rf_max_features: 32, valid_auc: 0.852562843676355\n",
            "number of features: 1024\n"
          ],
          "name": "stdout"
        },
        {
          "output_type": "stream",
          "text": [
            "2021-04-28 06:40:06,300 Previous dataset split restored\n",
            "2021-04-28 06:40:09,398 Wrote model metadata to file ampl_output/HTR2A_cur/RF_ecfp_scaffold_classification/2f6163dc-6185-4962-8df4-64f320e6afab/model_metadata.json\n",
            "2021-04-28 06:40:09,462 Wrote model metrics to file ampl_output/HTR2A_cur/RF_ecfp_scaffold_classification/2f6163dc-6185-4962-8df4-64f320e6afab/model_metrics.json\n"
          ],
          "name": "stderr"
        },
        {
          "output_type": "stream",
          "text": [
            "Wrote model tarball to ampl_output/HTR2A_cur_model_2f6163dc-6185-4962-8df4-64f320e6afab.tar.gz\n",
            "rf_estimators: 100, rf_max_depth: 64, rf_max_features: 64, valid_auc: 0.8513354281225451\n",
            "number of features: 1024\n"
          ],
          "name": "stdout"
        },
        {
          "output_type": "stream",
          "text": [
            "2021-04-28 06:40:23,900 Previous dataset split restored\n",
            "2021-04-28 06:40:27,884 Wrote model metadata to file ampl_output/HTR2A_cur/RF_ecfp_scaffold_classification/a5fe6811-0295-4eb5-9347-fce07e58877f/model_metadata.json\n",
            "2021-04-28 06:40:27,942 Wrote model metrics to file ampl_output/HTR2A_cur/RF_ecfp_scaffold_classification/a5fe6811-0295-4eb5-9347-fce07e58877f/model_metrics.json\n"
          ],
          "name": "stderr"
        },
        {
          "output_type": "stream",
          "text": [
            "Wrote model tarball to ampl_output/HTR2A_cur_model_a5fe6811-0295-4eb5-9347-fce07e58877f.tar.gz\n",
            "rf_estimators: 100, rf_max_depth: 64, rf_max_features: 128, valid_auc: 0.8463275726630008\n",
            "number of features: 1024\n"
          ],
          "name": "stdout"
        },
        {
          "output_type": "stream",
          "text": [
            "2021-04-28 06:40:42,329 Previous dataset split restored\n",
            "2021-04-28 06:40:47,329 Wrote model metadata to file ampl_output/HTR2A_cur/RF_ecfp_scaffold_classification/d340a1ac-3fc0-4439-a3b3-94887915bd49/model_metadata.json\n",
            "2021-04-28 06:40:47,381 Wrote model metrics to file ampl_output/HTR2A_cur/RF_ecfp_scaffold_classification/d340a1ac-3fc0-4439-a3b3-94887915bd49/model_metrics.json\n"
          ],
          "name": "stderr"
        },
        {
          "output_type": "stream",
          "text": [
            "Wrote model tarball to ampl_output/HTR2A_cur_model_d340a1ac-3fc0-4439-a3b3-94887915bd49.tar.gz\n",
            "rf_estimators: 100, rf_max_depth: 64, rf_max_features: 200, valid_auc: 0.8572270227808327\n",
            "number of features: 1024\n"
          ],
          "name": "stdout"
        },
        {
          "output_type": "stream",
          "text": [
            "2021-04-28 06:41:01,801 Previous dataset split restored\n",
            "2021-04-28 06:41:04,434 Wrote model metadata to file ampl_output/HTR2A_cur/RF_ecfp_scaffold_classification/17c1425a-e82f-460a-b3f3-4faada3e2614/model_metadata.json\n",
            "2021-04-28 06:41:04,509 Wrote model metrics to file ampl_output/HTR2A_cur/RF_ecfp_scaffold_classification/17c1425a-e82f-460a-b3f3-4faada3e2614/model_metrics.json\n"
          ],
          "name": "stderr"
        },
        {
          "output_type": "stream",
          "text": [
            "Wrote model tarball to ampl_output/HTR2A_cur_model_17c1425a-e82f-460a-b3f3-4faada3e2614.tar.gz\n",
            "rf_estimators: 100, rf_max_depth: 128, rf_max_features: 32, valid_auc: 0.8502798507462687\n",
            "number of features: 1024\n"
          ],
          "name": "stdout"
        },
        {
          "output_type": "stream",
          "text": [
            "2021-04-28 06:41:18,947 Previous dataset split restored\n",
            "2021-04-28 06:41:21,959 Wrote model metadata to file ampl_output/HTR2A_cur/RF_ecfp_scaffold_classification/bb6d6176-e80d-4ca6-bf58-125f9010546b/model_metadata.json\n",
            "2021-04-28 06:41:22,028 Wrote model metrics to file ampl_output/HTR2A_cur/RF_ecfp_scaffold_classification/bb6d6176-e80d-4ca6-bf58-125f9010546b/model_metrics.json\n"
          ],
          "name": "stderr"
        },
        {
          "output_type": "stream",
          "text": [
            "Wrote model tarball to ampl_output/HTR2A_cur_model_bb6d6176-e80d-4ca6-bf58-125f9010546b.tar.gz\n",
            "rf_estimators: 100, rf_max_depth: 128, rf_max_features: 64, valid_auc: 0.8486351139041634\n",
            "number of features: 1024\n"
          ],
          "name": "stdout"
        },
        {
          "output_type": "stream",
          "text": [
            "2021-04-28 06:41:36,475 Previous dataset split restored\n",
            "2021-04-28 06:41:40,467 Wrote model metadata to file ampl_output/HTR2A_cur/RF_ecfp_scaffold_classification/38123c84-58f1-4902-aa79-04b397d0058b/model_metadata.json\n",
            "2021-04-28 06:41:40,523 Wrote model metrics to file ampl_output/HTR2A_cur/RF_ecfp_scaffold_classification/38123c84-58f1-4902-aa79-04b397d0058b/model_metrics.json\n"
          ],
          "name": "stderr"
        },
        {
          "output_type": "stream",
          "text": [
            "Wrote model tarball to ampl_output/HTR2A_cur_model_38123c84-58f1-4902-aa79-04b397d0058b.tar.gz\n",
            "rf_estimators: 100, rf_max_depth: 128, rf_max_features: 128, valid_auc: 0.8526610369206599\n",
            "number of features: 1024\n"
          ],
          "name": "stdout"
        },
        {
          "output_type": "stream",
          "text": [
            "2021-04-28 06:41:55,041 Previous dataset split restored\n",
            "2021-04-28 06:41:59,925 Wrote model metadata to file ampl_output/HTR2A_cur/RF_ecfp_scaffold_classification/ce9e1967-5d33-4203-99e5-28d0f8e41e59/model_metadata.json\n",
            "2021-04-28 06:41:59,979 Wrote model metrics to file ampl_output/HTR2A_cur/RF_ecfp_scaffold_classification/ce9e1967-5d33-4203-99e5-28d0f8e41e59/model_metrics.json\n"
          ],
          "name": "stderr"
        },
        {
          "output_type": "stream",
          "text": [
            "Wrote model tarball to ampl_output/HTR2A_cur_model_ce9e1967-5d33-4203-99e5-28d0f8e41e59.tar.gz\n",
            "rf_estimators: 100, rf_max_depth: 128, rf_max_features: 200, valid_auc: 0.8496415946582876\n",
            "number of features: 1024\n"
          ],
          "name": "stdout"
        },
        {
          "output_type": "stream",
          "text": [
            "2021-04-28 06:42:14,347 Previous dataset split restored\n",
            "2021-04-28 06:42:16,958 Wrote model metadata to file ampl_output/HTR2A_cur/RF_ecfp_scaffold_classification/d91ca1c5-db32-4f84-b196-e4b247a48830/model_metadata.json\n",
            "2021-04-28 06:42:17,033 Wrote model metrics to file ampl_output/HTR2A_cur/RF_ecfp_scaffold_classification/d91ca1c5-db32-4f84-b196-e4b247a48830/model_metrics.json\n"
          ],
          "name": "stderr"
        },
        {
          "output_type": "stream",
          "text": [
            "Wrote model tarball to ampl_output/HTR2A_cur_model_d91ca1c5-db32-4f84-b196-e4b247a48830.tar.gz\n",
            "rf_estimators: 100, rf_max_depth: 200, rf_max_features: 32, valid_auc: 0.8578652788688138\n",
            "number of features: 1024\n"
          ],
          "name": "stdout"
        },
        {
          "output_type": "stream",
          "text": [
            "2021-04-28 06:42:33,829 Previous dataset split restored\n",
            "2021-04-28 06:42:37,739 Wrote model metadata to file ampl_output/HTR2A_cur/RF_ecfp_scaffold_classification/c32cfb1e-5150-4728-a23c-4478d130f016/model_metadata.json\n",
            "2021-04-28 06:42:37,814 Wrote model metrics to file ampl_output/HTR2A_cur/RF_ecfp_scaffold_classification/c32cfb1e-5150-4728-a23c-4478d130f016/model_metrics.json\n"
          ],
          "name": "stderr"
        },
        {
          "output_type": "stream",
          "text": [
            "Wrote model tarball to ampl_output/HTR2A_cur_model_c32cfb1e-5150-4728-a23c-4478d130f016.tar.gz\n",
            "rf_estimators: 100, rf_max_depth: 200, rf_max_features: 64, valid_auc: 0.8525137470542027\n",
            "number of features: 1024\n"
          ],
          "name": "stdout"
        },
        {
          "output_type": "stream",
          "text": [
            "2021-04-28 06:42:52,949 Previous dataset split restored\n",
            "2021-04-28 06:42:56,942 Wrote model metadata to file ampl_output/HTR2A_cur/RF_ecfp_scaffold_classification/f7c5d7d3-fe72-4e88-8b63-4b847eaf2ea6/model_metadata.json\n",
            "2021-04-28 06:42:56,999 Wrote model metrics to file ampl_output/HTR2A_cur/RF_ecfp_scaffold_classification/f7c5d7d3-fe72-4e88-8b63-4b847eaf2ea6/model_metrics.json\n"
          ],
          "name": "stderr"
        },
        {
          "output_type": "stream",
          "text": [
            "Wrote model tarball to ampl_output/HTR2A_cur_model_f7c5d7d3-fe72-4e88-8b63-4b847eaf2ea6.tar.gz\n",
            "rf_estimators: 100, rf_max_depth: 200, rf_max_features: 128, valid_auc: 0.8479968578161823\n",
            "number of features: 1024\n"
          ],
          "name": "stdout"
        },
        {
          "output_type": "stream",
          "text": [
            "2021-04-28 06:43:11,417 Previous dataset split restored\n",
            "2021-04-28 06:43:16,500 Wrote model metadata to file ampl_output/HTR2A_cur/RF_ecfp_scaffold_classification/faee0fa0-bb33-49af-9afd-0f563de425b9/model_metadata.json\n",
            "2021-04-28 06:43:16,555 Wrote model metrics to file ampl_output/HTR2A_cur/RF_ecfp_scaffold_classification/faee0fa0-bb33-49af-9afd-0f563de425b9/model_metrics.json\n"
          ],
          "name": "stderr"
        },
        {
          "output_type": "stream",
          "text": [
            "Wrote model tarball to ampl_output/HTR2A_cur_model_faee0fa0-bb33-49af-9afd-0f563de425b9.tar.gz\n",
            "rf_estimators: 100, rf_max_depth: 200, rf_max_features: 200, valid_auc: 0.8500589159465828\n",
            "number of features: 1024\n"
          ],
          "name": "stdout"
        },
        {
          "output_type": "stream",
          "text": [
            "2021-04-28 06:43:31,011 Previous dataset split restored\n",
            "2021-04-28 06:43:34,698 Wrote model metadata to file ampl_output/HTR2A_cur/RF_ecfp_scaffold_classification/79048a63-2df2-47fe-a8d9-54590344e8b9/model_metadata.json\n",
            "2021-04-28 06:43:34,830 Wrote model metrics to file ampl_output/HTR2A_cur/RF_ecfp_scaffold_classification/79048a63-2df2-47fe-a8d9-54590344e8b9/model_metrics.json\n"
          ],
          "name": "stderr"
        },
        {
          "output_type": "stream",
          "text": [
            "Wrote model tarball to ampl_output/HTR2A_cur_model_79048a63-2df2-47fe-a8d9-54590344e8b9.tar.gz\n",
            "rf_estimators: 200, rf_max_depth: 32, rf_max_features: 32, valid_auc: 0.861498428908091\n",
            "number of features: 1024\n"
          ],
          "name": "stdout"
        },
        {
          "output_type": "stream",
          "text": [
            "2021-04-28 06:43:49,201 Previous dataset split restored\n",
            "2021-04-28 06:43:53,777 Wrote model metadata to file ampl_output/HTR2A_cur/RF_ecfp_scaffold_classification/cf87904f-20d7-4b50-9541-6ac9aeecb587/model_metadata.json\n",
            "2021-04-28 06:43:53,890 Wrote model metrics to file ampl_output/HTR2A_cur/RF_ecfp_scaffold_classification/cf87904f-20d7-4b50-9541-6ac9aeecb587/model_metrics.json\n"
          ],
          "name": "stderr"
        },
        {
          "output_type": "stream",
          "text": [
            "Wrote model tarball to ampl_output/HTR2A_cur_model_cf87904f-20d7-4b50-9541-6ac9aeecb587.tar.gz\n",
            "rf_estimators: 200, rf_max_depth: 32, rf_max_features: 64, valid_auc: 0.8586508248232521\n",
            "number of features: 1024\n"
          ],
          "name": "stdout"
        },
        {
          "output_type": "stream",
          "text": [
            "2021-04-28 06:44:08,177 Previous dataset split restored\n",
            "2021-04-28 06:44:14,536 Wrote model metadata to file ampl_output/HTR2A_cur/RF_ecfp_scaffold_classification/4e98d173-ff28-4db5-a4ea-2d70f8195880/model_metadata.json\n",
            "2021-04-28 06:44:14,636 Wrote model metrics to file ampl_output/HTR2A_cur/RF_ecfp_scaffold_classification/4e98d173-ff28-4db5-a4ea-2d70f8195880/model_metrics.json\n"
          ],
          "name": "stderr"
        },
        {
          "output_type": "stream",
          "text": [
            "Wrote model tarball to ampl_output/HTR2A_cur_model_4e98d173-ff28-4db5-a4ea-2d70f8195880.tar.gz\n",
            "rf_estimators: 200, rf_max_depth: 32, rf_max_features: 128, valid_auc: 0.858749018067557\n",
            "number of features: 1024\n"
          ],
          "name": "stdout"
        },
        {
          "output_type": "stream",
          "text": [
            "2021-04-28 06:44:28,982 Previous dataset split restored\n",
            "2021-04-28 06:44:36,943 Wrote model metadata to file ampl_output/HTR2A_cur/RF_ecfp_scaffold_classification/978703f6-e16e-4652-806f-5d130f0a6026/model_metadata.json\n",
            "2021-04-28 06:44:37,045 Wrote model metrics to file ampl_output/HTR2A_cur/RF_ecfp_scaffold_classification/978703f6-e16e-4652-806f-5d130f0a6026/model_metrics.json\n"
          ],
          "name": "stderr"
        },
        {
          "output_type": "stream",
          "text": [
            "Wrote model tarball to ampl_output/HTR2A_cur_model_978703f6-e16e-4652-806f-5d130f0a6026.tar.gz\n",
            "rf_estimators: 200, rf_max_depth: 32, rf_max_features: 200, valid_auc: 0.8579634721131186\n",
            "number of features: 1024\n"
          ],
          "name": "stdout"
        },
        {
          "output_type": "stream",
          "text": [
            "2021-04-28 06:44:51,451 Previous dataset split restored\n",
            "2021-04-28 06:44:55,306 Wrote model metadata to file ampl_output/HTR2A_cur/RF_ecfp_scaffold_classification/f21d238f-4c4a-42d9-a7e8-2d918f889b6e/model_metadata.json\n",
            "2021-04-28 06:44:55,449 Wrote model metrics to file ampl_output/HTR2A_cur/RF_ecfp_scaffold_classification/f21d238f-4c4a-42d9-a7e8-2d918f889b6e/model_metrics.json\n"
          ],
          "name": "stderr"
        },
        {
          "output_type": "stream",
          "text": [
            "Wrote model tarball to ampl_output/HTR2A_cur_model_f21d238f-4c4a-42d9-a7e8-2d918f889b6e.tar.gz\n",
            "rf_estimators: 200, rf_max_depth: 64, rf_max_features: 32, valid_auc: 0.8539866457187746\n",
            "number of features: 1024\n"
          ],
          "name": "stdout"
        },
        {
          "output_type": "stream",
          "text": [
            "2021-04-28 06:45:09,859 Previous dataset split restored\n",
            "2021-04-28 06:45:14,566 Wrote model metadata to file ampl_output/HTR2A_cur/RF_ecfp_scaffold_classification/7fafa195-f10d-4632-a1ae-e124249acb64/model_metadata.json\n",
            "2021-04-28 06:45:14,694 Wrote model metrics to file ampl_output/HTR2A_cur/RF_ecfp_scaffold_classification/7fafa195-f10d-4632-a1ae-e124249acb64/model_metrics.json\n"
          ],
          "name": "stderr"
        },
        {
          "output_type": "stream",
          "text": [
            "Wrote model tarball to ampl_output/HTR2A_cur_model_7fafa195-f10d-4632-a1ae-e124249acb64.tar.gz\n",
            "rf_estimators: 200, rf_max_depth: 64, rf_max_features: 64, valid_auc: 0.8569324430479184\n",
            "number of features: 1024\n"
          ],
          "name": "stdout"
        },
        {
          "output_type": "stream",
          "text": [
            "2021-04-28 06:45:29,197 Previous dataset split restored\n",
            "2021-04-28 06:45:35,774 Wrote model metadata to file ampl_output/HTR2A_cur/RF_ecfp_scaffold_classification/1cf50e06-7b36-4210-87df-bc626fbffd09/model_metadata.json\n",
            "2021-04-28 06:45:35,880 Wrote model metrics to file ampl_output/HTR2A_cur/RF_ecfp_scaffold_classification/1cf50e06-7b36-4210-87df-bc626fbffd09/model_metrics.json\n"
          ],
          "name": "stderr"
        },
        {
          "output_type": "stream",
          "text": [
            "Wrote model tarball to ampl_output/HTR2A_cur_model_1cf50e06-7b36-4210-87df-bc626fbffd09.tar.gz\n",
            "rf_estimators: 200, rf_max_depth: 64, rf_max_features: 128, valid_auc: 0.8547230950510605\n",
            "number of features: 1024\n"
          ],
          "name": "stdout"
        },
        {
          "output_type": "stream",
          "text": [
            "2021-04-28 06:45:50,348 Previous dataset split restored\n",
            "2021-04-28 06:45:59,004 Wrote model metadata to file ampl_output/HTR2A_cur/RF_ecfp_scaffold_classification/e187805e-ade5-4b21-b97d-7e0020154c8e/model_metadata.json\n",
            "2021-04-28 06:45:59,109 Wrote model metrics to file ampl_output/HTR2A_cur/RF_ecfp_scaffold_classification/e187805e-ade5-4b21-b97d-7e0020154c8e/model_metrics.json\n"
          ],
          "name": "stderr"
        },
        {
          "output_type": "stream",
          "text": [
            "Wrote model tarball to ampl_output/HTR2A_cur_model_e187805e-ade5-4b21-b97d-7e0020154c8e.tar.gz\n",
            "rf_estimators: 200, rf_max_depth: 64, rf_max_features: 200, valid_auc: 0.8519736842105263\n",
            "number of features: 1024\n"
          ],
          "name": "stdout"
        },
        {
          "output_type": "stream",
          "text": [
            "2021-04-28 06:46:13,492 Previous dataset split restored\n",
            "2021-04-28 06:46:17,321 Wrote model metadata to file ampl_output/HTR2A_cur/RF_ecfp_scaffold_classification/5611167a-ed16-4aad-bdbd-75c3d4304a95/model_metadata.json\n",
            "2021-04-28 06:46:17,465 Wrote model metrics to file ampl_output/HTR2A_cur/RF_ecfp_scaffold_classification/5611167a-ed16-4aad-bdbd-75c3d4304a95/model_metrics.json\n"
          ],
          "name": "stderr"
        },
        {
          "output_type": "stream",
          "text": [
            "Wrote model tarball to ampl_output/HTR2A_cur_model_5611167a-ed16-4aad-bdbd-75c3d4304a95.tar.gz\n",
            "rf_estimators: 200, rf_max_depth: 128, rf_max_features: 32, valid_auc: 0.8567115082482326\n",
            "number of features: 1024\n"
          ],
          "name": "stdout"
        },
        {
          "output_type": "stream",
          "text": [
            "2021-04-28 06:46:31,872 Previous dataset split restored\n",
            "2021-04-28 06:46:36,572 Wrote model metadata to file ampl_output/HTR2A_cur/RF_ecfp_scaffold_classification/8cd36ca2-5183-498f-8b5c-9be74bf18a4d/model_metadata.json\n",
            "2021-04-28 06:46:36,702 Wrote model metrics to file ampl_output/HTR2A_cur/RF_ecfp_scaffold_classification/8cd36ca2-5183-498f-8b5c-9be74bf18a4d/model_metrics.json\n"
          ],
          "name": "stderr"
        },
        {
          "output_type": "stream",
          "text": [
            "Wrote model tarball to ampl_output/HTR2A_cur_model_8cd36ca2-5183-498f-8b5c-9be74bf18a4d.tar.gz\n",
            "rf_estimators: 200, rf_max_depth: 128, rf_max_features: 64, valid_auc: 0.8574725058915947\n",
            "number of features: 1024\n"
          ],
          "name": "stdout"
        },
        {
          "output_type": "stream",
          "text": [
            "2021-04-28 06:46:51,100 Previous dataset split restored\n",
            "2021-04-28 06:46:57,555 Wrote model metadata to file ampl_output/HTR2A_cur/RF_ecfp_scaffold_classification/7c97388c-e498-44ff-8b00-bdb00c453936/model_metadata.json\n",
            "2021-04-28 06:46:57,662 Wrote model metrics to file ampl_output/HTR2A_cur/RF_ecfp_scaffold_classification/7c97388c-e498-44ff-8b00-bdb00c453936/model_metrics.json\n"
          ],
          "name": "stderr"
        },
        {
          "output_type": "stream",
          "text": [
            "Wrote model tarball to ampl_output/HTR2A_cur_model_7c97388c-e498-44ff-8b00-bdb00c453936.tar.gz\n",
            "rf_estimators: 200, rf_max_depth: 128, rf_max_features: 128, valid_auc: 0.852317360565593\n",
            "number of features: 1024\n"
          ],
          "name": "stdout"
        },
        {
          "output_type": "stream",
          "text": [
            "2021-04-28 06:47:12,017 Previous dataset split restored\n",
            "2021-04-28 06:47:20,577 Wrote model metadata to file ampl_output/HTR2A_cur/RF_ecfp_scaffold_classification/c82b6d28-41b0-4d4e-a161-cab4a504f322/model_metadata.json\n",
            "2021-04-28 06:47:20,679 Wrote model metrics to file ampl_output/HTR2A_cur/RF_ecfp_scaffold_classification/c82b6d28-41b0-4d4e-a161-cab4a504f322/model_metrics.json\n"
          ],
          "name": "stderr"
        },
        {
          "output_type": "stream",
          "text": [
            "Wrote model tarball to ampl_output/HTR2A_cur_model_c82b6d28-41b0-4d4e-a161-cab4a504f322.tar.gz\n",
            "rf_estimators: 200, rf_max_depth: 128, rf_max_features: 200, valid_auc: 0.8409023959151611\n",
            "number of features: 1024\n"
          ],
          "name": "stdout"
        },
        {
          "output_type": "stream",
          "text": [
            "2021-04-28 06:47:35,130 Previous dataset split restored\n",
            "2021-04-28 06:47:38,957 Wrote model metadata to file ampl_output/HTR2A_cur/RF_ecfp_scaffold_classification/7083ad79-e79b-4fc9-9ba9-50998421bdd3/model_metadata.json\n",
            "2021-04-28 06:47:39,102 Wrote model metrics to file ampl_output/HTR2A_cur/RF_ecfp_scaffold_classification/7083ad79-e79b-4fc9-9ba9-50998421bdd3/model_metrics.json\n"
          ],
          "name": "stderr"
        },
        {
          "output_type": "stream",
          "text": [
            "Wrote model tarball to ampl_output/HTR2A_cur_model_7083ad79-e79b-4fc9-9ba9-50998421bdd3.tar.gz\n",
            "rf_estimators: 200, rf_max_depth: 200, rf_max_features: 32, valid_auc: 0.8571288295365279\n",
            "number of features: 1024\n"
          ],
          "name": "stdout"
        },
        {
          "output_type": "stream",
          "text": [
            "2021-04-28 06:47:53,483 Previous dataset split restored\n",
            "2021-04-28 06:47:58,314 Wrote model metadata to file ampl_output/HTR2A_cur/RF_ecfp_scaffold_classification/ce414a2f-19f3-477d-88b5-cc78ab7d0e57/model_metadata.json\n",
            "2021-04-28 06:47:58,439 Wrote model metrics to file ampl_output/HTR2A_cur/RF_ecfp_scaffold_classification/ce414a2f-19f3-477d-88b5-cc78ab7d0e57/model_metrics.json\n"
          ],
          "name": "stderr"
        },
        {
          "output_type": "stream",
          "text": [
            "Wrote model tarball to ampl_output/HTR2A_cur_model_ce414a2f-19f3-477d-88b5-cc78ab7d0e57.tar.gz\n",
            "rf_estimators: 200, rf_max_depth: 200, rf_max_features: 64, valid_auc: 0.8571779261586803\n",
            "number of features: 1024\n"
          ],
          "name": "stdout"
        },
        {
          "output_type": "stream",
          "text": [
            "2021-04-28 06:48:12,817 Previous dataset split restored\n",
            "2021-04-28 06:48:19,206 Wrote model metadata to file ampl_output/HTR2A_cur/RF_ecfp_scaffold_classification/94d52f40-3c18-456c-bd7b-d5967ca31ac3/model_metadata.json\n",
            "2021-04-28 06:48:19,323 Wrote model metrics to file ampl_output/HTR2A_cur/RF_ecfp_scaffold_classification/94d52f40-3c18-456c-bd7b-d5967ca31ac3/model_metrics.json\n"
          ],
          "name": "stderr"
        },
        {
          "output_type": "stream",
          "text": [
            "Wrote model tarball to ampl_output/HTR2A_cur_model_94d52f40-3c18-456c-bd7b-d5967ca31ac3.tar.gz\n",
            "rf_estimators: 200, rf_max_depth: 200, rf_max_features: 128, valid_auc: 0.8527101335428122\n",
            "number of features: 1024\n"
          ],
          "name": "stdout"
        },
        {
          "output_type": "stream",
          "text": [
            "2021-04-28 06:48:33,735 Previous dataset split restored\n",
            "2021-04-28 06:48:42,008 Wrote model metadata to file ampl_output/HTR2A_cur/RF_ecfp_scaffold_classification/021fd73c-4e0d-4f37-bdb8-57b0a5ff0a8d/model_metadata.json\n",
            "2021-04-28 06:48:42,109 Wrote model metrics to file ampl_output/HTR2A_cur/RF_ecfp_scaffold_classification/021fd73c-4e0d-4f37-bdb8-57b0a5ff0a8d/model_metrics.json\n"
          ],
          "name": "stderr"
        },
        {
          "output_type": "stream",
          "text": [
            "Wrote model tarball to ampl_output/HTR2A_cur_model_021fd73c-4e0d-4f37-bdb8-57b0a5ff0a8d.tar.gz\n",
            "rf_estimators: 200, rf_max_depth: 200, rf_max_features: 200, valid_auc: 0.8520718774548312\n",
            "number of features: 1024\n"
          ],
          "name": "stdout"
        },
        {
          "output_type": "stream",
          "text": [
            "2021-04-28 06:48:56,616 Previous dataset split restored\n",
            "2021-04-28 06:49:01,805 Wrote model metadata to file ampl_output/HTR2A_cur/RF_ecfp_scaffold_classification/e3371b2d-06ca-4b14-bfda-6adf58ac020e/model_metadata.json\n",
            "2021-04-28 06:49:01,988 Wrote model metrics to file ampl_output/HTR2A_cur/RF_ecfp_scaffold_classification/e3371b2d-06ca-4b14-bfda-6adf58ac020e/model_metrics.json\n"
          ],
          "name": "stderr"
        },
        {
          "output_type": "stream",
          "text": [
            "Wrote model tarball to ampl_output/HTR2A_cur_model_e3371b2d-06ca-4b14-bfda-6adf58ac020e.tar.gz\n",
            "rf_estimators: 300, rf_max_depth: 32, rf_max_features: 32, valid_auc: 0.8595836606441476\n",
            "number of features: 1024\n"
          ],
          "name": "stdout"
        },
        {
          "output_type": "stream",
          "text": [
            "2021-04-28 06:49:16,585 Previous dataset split restored\n",
            "2021-04-28 06:49:22,939 Wrote model metadata to file ampl_output/HTR2A_cur/RF_ecfp_scaffold_classification/6d11c75e-4fd4-4733-bc5c-cc5d408988d1/model_metadata.json\n",
            "2021-04-28 06:49:23,111 Wrote model metrics to file ampl_output/HTR2A_cur/RF_ecfp_scaffold_classification/6d11c75e-4fd4-4733-bc5c-cc5d408988d1/model_metrics.json\n"
          ],
          "name": "stderr"
        },
        {
          "output_type": "stream",
          "text": [
            "Wrote model tarball to ampl_output/HTR2A_cur_model_6d11c75e-4fd4-4733-bc5c-cc5d408988d1.tar.gz\n",
            "rf_estimators: 300, rf_max_depth: 32, rf_max_features: 64, valid_auc: 0.8572270227808326\n",
            "number of features: 1024\n"
          ],
          "name": "stdout"
        },
        {
          "output_type": "stream",
          "text": [
            "2021-04-28 06:49:37,610 Previous dataset split restored\n",
            "2021-04-28 06:49:46,787 Wrote model metadata to file ampl_output/HTR2A_cur/RF_ecfp_scaffold_classification/d9895191-5ef8-4126-b549-6ccf78ad5a52/model_metadata.json\n",
            "2021-04-28 06:49:46,935 Wrote model metrics to file ampl_output/HTR2A_cur/RF_ecfp_scaffold_classification/d9895191-5ef8-4126-b549-6ccf78ad5a52/model_metrics.json\n"
          ],
          "name": "stderr"
        },
        {
          "output_type": "stream",
          "text": [
            "Wrote model tarball to ampl_output/HTR2A_cur_model_d9895191-5ef8-4126-b549-6ccf78ad5a52.tar.gz\n",
            "rf_estimators: 300, rf_max_depth: 32, rf_max_features: 128, valid_auc: 0.8555086410054988\n",
            "number of features: 1024\n"
          ],
          "name": "stdout"
        },
        {
          "output_type": "stream",
          "text": [
            "2021-04-28 06:50:01,560 Previous dataset split restored\n",
            "2021-04-28 06:50:13,417 Wrote model metadata to file ampl_output/HTR2A_cur/RF_ecfp_scaffold_classification/b5f3074f-c9c7-40ae-9b28-f8c0fa8ffbcf/model_metadata.json\n",
            "2021-04-28 06:50:13,554 Wrote model metrics to file ampl_output/HTR2A_cur/RF_ecfp_scaffold_classification/b5f3074f-c9c7-40ae-9b28-f8c0fa8ffbcf/model_metrics.json\n"
          ],
          "name": "stderr"
        },
        {
          "output_type": "stream",
          "text": [
            "Wrote model tarball to ampl_output/HTR2A_cur_model_b5f3074f-c9c7-40ae-9b28-f8c0fa8ffbcf.tar.gz\n",
            "rf_estimators: 300, rf_max_depth: 32, rf_max_features: 200, valid_auc: 0.8579634721131185\n",
            "number of features: 1024\n"
          ],
          "name": "stdout"
        },
        {
          "output_type": "stream",
          "text": [
            "2021-04-28 06:50:28,001 Previous dataset split restored\n",
            "2021-04-28 06:50:33,038 Wrote model metadata to file ampl_output/HTR2A_cur/RF_ecfp_scaffold_classification/1e28b430-2a14-4376-bbfb-a5846ffefd96/model_metadata.json\n",
            "2021-04-28 06:50:33,246 Wrote model metrics to file ampl_output/HTR2A_cur/RF_ecfp_scaffold_classification/1e28b430-2a14-4376-bbfb-a5846ffefd96/model_metrics.json\n"
          ],
          "name": "stderr"
        },
        {
          "output_type": "stream",
          "text": [
            "Wrote model tarball to ampl_output/HTR2A_cur_model_1e28b430-2a14-4376-bbfb-a5846ffefd96.tar.gz\n",
            "rf_estimators: 300, rf_max_depth: 64, rf_max_features: 32, valid_auc: 0.8562450903377847\n",
            "number of features: 1024\n"
          ],
          "name": "stdout"
        },
        {
          "output_type": "stream",
          "text": [
            "2021-04-28 06:50:47,549 Previous dataset split restored\n",
            "2021-04-28 06:50:53,955 Wrote model metadata to file ampl_output/HTR2A_cur/RF_ecfp_scaffold_classification/cbce3d24-b3f4-4786-a834-a6bfd30e407c/model_metadata.json\n",
            "2021-04-28 06:50:54,138 Wrote model metrics to file ampl_output/HTR2A_cur/RF_ecfp_scaffold_classification/cbce3d24-b3f4-4786-a834-a6bfd30e407c/model_metrics.json\n"
          ],
          "name": "stderr"
        },
        {
          "output_type": "stream",
          "text": [
            "Wrote model tarball to ampl_output/HTR2A_cur_model_cbce3d24-b3f4-4786-a834-a6bfd30e407c.tar.gz\n",
            "rf_estimators: 300, rf_max_depth: 64, rf_max_features: 64, valid_auc: 0.8576934406912805\n",
            "number of features: 1024\n"
          ],
          "name": "stdout"
        },
        {
          "output_type": "stream",
          "text": [
            "2021-04-28 06:51:08,429 Previous dataset split restored\n",
            "2021-04-28 06:51:17,277 Wrote model metadata to file ampl_output/HTR2A_cur/RF_ecfp_scaffold_classification/f1eb0e51-19ae-4921-8973-ab055988340f/model_metadata.json\n",
            "2021-04-28 06:51:17,441 Wrote model metrics to file ampl_output/HTR2A_cur/RF_ecfp_scaffold_classification/f1eb0e51-19ae-4921-8973-ab055988340f/model_metrics.json\n"
          ],
          "name": "stderr"
        },
        {
          "output_type": "stream",
          "text": [
            "Wrote model tarball to ampl_output/HTR2A_cur_model_f1eb0e51-19ae-4921-8973-ab055988340f.tar.gz\n",
            "rf_estimators: 300, rf_max_depth: 64, rf_max_features: 128, valid_auc: 0.852170070699136\n",
            "number of features: 1024\n"
          ],
          "name": "stdout"
        },
        {
          "output_type": "stream",
          "text": [
            "2021-04-28 06:51:31,794 Previous dataset split restored\n",
            "2021-04-28 06:51:43,728 Wrote model metadata to file ampl_output/HTR2A_cur/RF_ecfp_scaffold_classification/d8f610fa-1c87-48a5-8cbb-675b2cc05bd8/model_metadata.json\n",
            "2021-04-28 06:51:43,875 Wrote model metrics to file ampl_output/HTR2A_cur/RF_ecfp_scaffold_classification/d8f610fa-1c87-48a5-8cbb-675b2cc05bd8/model_metrics.json\n"
          ],
          "name": "stderr"
        },
        {
          "output_type": "stream",
          "text": [
            "Wrote model tarball to ampl_output/HTR2A_cur_model_d8f610fa-1c87-48a5-8cbb-675b2cc05bd8.tar.gz\n",
            "rf_estimators: 300, rf_max_depth: 64, rf_max_features: 200, valid_auc: 0.85614689709348\n",
            "number of features: 1024\n"
          ],
          "name": "stdout"
        },
        {
          "output_type": "stream",
          "text": [
            "2021-04-28 06:51:58,249 Previous dataset split restored\n",
            "2021-04-28 06:52:03,385 Wrote model metadata to file ampl_output/HTR2A_cur/RF_ecfp_scaffold_classification/bf675458-6ad2-4007-8502-ce89f8f969fc/model_metadata.json\n",
            "2021-04-28 06:52:03,592 Wrote model metrics to file ampl_output/HTR2A_cur/RF_ecfp_scaffold_classification/bf675458-6ad2-4007-8502-ce89f8f969fc/model_metrics.json\n"
          ],
          "name": "stderr"
        },
        {
          "output_type": "stream",
          "text": [
            "Wrote model tarball to ampl_output/HTR2A_cur_model_bf675458-6ad2-4007-8502-ce89f8f969fc.tar.gz\n",
            "rf_estimators: 300, rf_max_depth: 128, rf_max_features: 32, valid_auc: 0.8623821681068342\n",
            "number of features: 1024\n"
          ],
          "name": "stdout"
        },
        {
          "output_type": "stream",
          "text": [
            "2021-04-28 06:52:17,844 Previous dataset split restored\n",
            "2021-04-28 06:52:24,365 Wrote model metadata to file ampl_output/HTR2A_cur/RF_ecfp_scaffold_classification/99c0d631-91cf-42c4-816e-0fbdcd31b589/model_metadata.json\n",
            "2021-04-28 06:52:24,548 Wrote model metrics to file ampl_output/HTR2A_cur/RF_ecfp_scaffold_classification/99c0d631-91cf-42c4-816e-0fbdcd31b589/model_metrics.json\n"
          ],
          "name": "stderr"
        },
        {
          "output_type": "stream",
          "text": [
            "Wrote model tarball to ampl_output/HTR2A_cur_model_99c0d631-91cf-42c4-816e-0fbdcd31b589.tar.gz\n",
            "rf_estimators: 300, rf_max_depth: 128, rf_max_features: 64, valid_auc: 0.8619648468185389\n",
            "number of features: 1024\n"
          ],
          "name": "stdout"
        },
        {
          "output_type": "stream",
          "text": [
            "2021-04-28 06:52:38,946 Previous dataset split restored\n",
            "2021-04-28 06:52:48,207 Wrote model metadata to file ampl_output/HTR2A_cur/RF_ecfp_scaffold_classification/7c613eb0-3348-4bc5-923a-85f83d4cc960/model_metadata.json\n",
            "2021-04-28 06:52:48,363 Wrote model metrics to file ampl_output/HTR2A_cur/RF_ecfp_scaffold_classification/7c613eb0-3348-4bc5-923a-85f83d4cc960/model_metrics.json\n"
          ],
          "name": "stderr"
        },
        {
          "output_type": "stream",
          "text": [
            "Wrote model tarball to ampl_output/HTR2A_cur_model_7c613eb0-3348-4bc5-923a-85f83d4cc960.tar.gz\n",
            "rf_estimators: 300, rf_max_depth: 128, rf_max_features: 128, valid_auc: 0.8578161822466615\n",
            "number of features: 1024\n"
          ],
          "name": "stdout"
        },
        {
          "output_type": "stream",
          "text": [
            "2021-04-28 06:53:02,845 Previous dataset split restored\n",
            "2021-04-28 06:53:14,790 Wrote model metadata to file ampl_output/HTR2A_cur/RF_ecfp_scaffold_classification/f6dd9ffc-b263-4604-bce1-9a4657f77714/model_metadata.json\n",
            "2021-04-28 06:53:14,946 Wrote model metrics to file ampl_output/HTR2A_cur/RF_ecfp_scaffold_classification/f6dd9ffc-b263-4604-bce1-9a4657f77714/model_metrics.json\n"
          ],
          "name": "stderr"
        },
        {
          "output_type": "stream",
          "text": [
            "Wrote model tarball to ampl_output/HTR2A_cur_model_f6dd9ffc-b263-4604-bce1-9a4657f77714.tar.gz\n",
            "rf_estimators: 300, rf_max_depth: 128, rf_max_features: 200, valid_auc: 0.8448792223095051\n",
            "number of features: 1024\n"
          ],
          "name": "stdout"
        },
        {
          "output_type": "stream",
          "text": [
            "2021-04-28 06:53:29,596 Previous dataset split restored\n",
            "2021-04-28 06:53:34,867 Wrote model metadata to file ampl_output/HTR2A_cur/RF_ecfp_scaffold_classification/69716aeb-b0f4-46c9-81f9-1d71c651f9de/model_metadata.json\n",
            "2021-04-28 06:53:35,089 Wrote model metrics to file ampl_output/HTR2A_cur/RF_ecfp_scaffold_classification/69716aeb-b0f4-46c9-81f9-1d71c651f9de/model_metrics.json\n"
          ],
          "name": "stderr"
        },
        {
          "output_type": "stream",
          "text": [
            "Wrote model tarball to ampl_output/HTR2A_cur_model_69716aeb-b0f4-46c9-81f9-1d71c651f9de.tar.gz\n",
            "rf_estimators: 300, rf_max_depth: 200, rf_max_features: 32, valid_auc: 0.8622839748625294\n",
            "number of features: 1024\n"
          ],
          "name": "stdout"
        },
        {
          "output_type": "stream",
          "text": [
            "2021-04-28 06:53:49,667 Previous dataset split restored\n",
            "2021-04-28 06:53:56,075 Wrote model metadata to file ampl_output/HTR2A_cur/RF_ecfp_scaffold_classification/6dfda77e-704b-414e-b9e5-640411c65840/model_metadata.json\n",
            "2021-04-28 06:53:56,257 Wrote model metrics to file ampl_output/HTR2A_cur/RF_ecfp_scaffold_classification/6dfda77e-704b-414e-b9e5-640411c65840/model_metrics.json\n"
          ],
          "name": "stderr"
        },
        {
          "output_type": "stream",
          "text": [
            "Wrote model tarball to ampl_output/HTR2A_cur_model_6dfda77e-704b-414e-b9e5-640411c65840.tar.gz\n",
            "rf_estimators: 300, rf_max_depth: 200, rf_max_features: 64, valid_auc: 0.8567115082482327\n",
            "number of features: 1024\n"
          ],
          "name": "stdout"
        },
        {
          "output_type": "stream",
          "text": [
            "2021-04-28 06:54:10,568 Previous dataset split restored\n",
            "2021-04-28 06:54:19,508 Wrote model metadata to file ampl_output/HTR2A_cur/RF_ecfp_scaffold_classification/5f1ad1cf-0886-4c26-a436-b9cfa200d779/model_metadata.json\n",
            "2021-04-28 06:54:19,667 Wrote model metrics to file ampl_output/HTR2A_cur/RF_ecfp_scaffold_classification/5f1ad1cf-0886-4c26-a436-b9cfa200d779/model_metrics.json\n"
          ],
          "name": "stderr"
        },
        {
          "output_type": "stream",
          "text": [
            "Wrote model tarball to ampl_output/HTR2A_cur_model_5f1ad1cf-0886-4c26-a436-b9cfa200d779.tar.gz\n",
            "rf_estimators: 300, rf_max_depth: 200, rf_max_features: 128, valid_auc: 0.8508935585231735\n",
            "number of features: 1024\n"
          ],
          "name": "stdout"
        },
        {
          "output_type": "stream",
          "text": [
            "2021-04-28 06:54:33,987 Previous dataset split restored\n",
            "2021-04-28 06:54:45,895 Wrote model metadata to file ampl_output/HTR2A_cur/RF_ecfp_scaffold_classification/a13faced-b9cf-4d26-afd9-db574f203f61/model_metadata.json\n",
            "2021-04-28 06:54:46,042 Wrote model metrics to file ampl_output/HTR2A_cur/RF_ecfp_scaffold_classification/a13faced-b9cf-4d26-afd9-db574f203f61/model_metrics.json\n"
          ],
          "name": "stderr"
        },
        {
          "output_type": "stream",
          "text": [
            "Wrote model tarball to ampl_output/HTR2A_cur_model_a13faced-b9cf-4d26-afd9-db574f203f61.tar.gz\n",
            "rf_estimators: 300, rf_max_depth: 200, rf_max_features: 200, valid_auc: 0.8552631578947367\n"
          ],
          "name": "stdout"
        }
      ]
    },
    {
      "cell_type": "code",
      "metadata": {
        "colab": {
          "base_uri": "https://localhost:8080/",
          "height": 419
        },
        "id": "3JX3Bmc4LvyF",
        "outputId": "320d84e6-5977-4489-8c3e-1cba6f5a093b"
      },
      "source": [
        "perf_df = pd.DataFrame({\"rf_estimators\": rfe_list, \"rf_max_depth\": rfd_list, \"rf_max_features\": rff_list, \"valid_auc_score\": valid_auc_list})\n",
        "perf_df.sort_values(by=\"valid_auc_score\", ascending=False)"
      ],
      "execution_count": null,
      "outputs": [
        {
          "output_type": "execute_result",
          "data": {
            "text/html": [
              "<div>\n",
              "<style scoped>\n",
              "    .dataframe tbody tr th:only-of-type {\n",
              "        vertical-align: middle;\n",
              "    }\n",
              "\n",
              "    .dataframe tbody tr th {\n",
              "        vertical-align: top;\n",
              "    }\n",
              "\n",
              "    .dataframe thead th {\n",
              "        text-align: right;\n",
              "    }\n",
              "</style>\n",
              "<table border=\"1\" class=\"dataframe\">\n",
              "  <thead>\n",
              "    <tr style=\"text-align: right;\">\n",
              "      <th></th>\n",
              "      <th>rf_estimators</th>\n",
              "      <th>rf_max_depth</th>\n",
              "      <th>rf_max_features</th>\n",
              "      <th>valid_auc_score</th>\n",
              "    </tr>\n",
              "  </thead>\n",
              "  <tbody>\n",
              "    <tr>\n",
              "      <th>13</th>\n",
              "      <td>64</td>\n",
              "      <td>200</td>\n",
              "      <td>64</td>\n",
              "      <td>0.864788</td>\n",
              "    </tr>\n",
              "    <tr>\n",
              "      <th>56</th>\n",
              "      <td>300</td>\n",
              "      <td>128</td>\n",
              "      <td>32</td>\n",
              "      <td>0.862382</td>\n",
              "    </tr>\n",
              "    <tr>\n",
              "      <th>60</th>\n",
              "      <td>300</td>\n",
              "      <td>200</td>\n",
              "      <td>32</td>\n",
              "      <td>0.862284</td>\n",
              "    </tr>\n",
              "    <tr>\n",
              "      <th>57</th>\n",
              "      <td>300</td>\n",
              "      <td>128</td>\n",
              "      <td>64</td>\n",
              "      <td>0.861965</td>\n",
              "    </tr>\n",
              "    <tr>\n",
              "      <th>32</th>\n",
              "      <td>200</td>\n",
              "      <td>32</td>\n",
              "      <td>32</td>\n",
              "      <td>0.861498</td>\n",
              "    </tr>\n",
              "    <tr>\n",
              "      <th>...</th>\n",
              "      <td>...</td>\n",
              "      <td>...</td>\n",
              "      <td>...</td>\n",
              "      <td>...</td>\n",
              "    </tr>\n",
              "    <tr>\n",
              "      <th>22</th>\n",
              "      <td>100</td>\n",
              "      <td>64</td>\n",
              "      <td>128</td>\n",
              "      <td>0.846328</td>\n",
              "    </tr>\n",
              "    <tr>\n",
              "      <th>5</th>\n",
              "      <td>64</td>\n",
              "      <td>64</td>\n",
              "      <td>64</td>\n",
              "      <td>0.845837</td>\n",
              "    </tr>\n",
              "    <tr>\n",
              "      <th>59</th>\n",
              "      <td>300</td>\n",
              "      <td>128</td>\n",
              "      <td>200</td>\n",
              "      <td>0.844879</td>\n",
              "    </tr>\n",
              "    <tr>\n",
              "      <th>7</th>\n",
              "      <td>64</td>\n",
              "      <td>64</td>\n",
              "      <td>200</td>\n",
              "      <td>0.843897</td>\n",
              "    </tr>\n",
              "    <tr>\n",
              "      <th>43</th>\n",
              "      <td>200</td>\n",
              "      <td>128</td>\n",
              "      <td>200</td>\n",
              "      <td>0.840902</td>\n",
              "    </tr>\n",
              "  </tbody>\n",
              "</table>\n",
              "<p>64 rows × 4 columns</p>\n",
              "</div>"
            ],
            "text/plain": [
              "    rf_estimators  rf_max_depth  rf_max_features  valid_auc_score\n",
              "13             64           200               64         0.864788\n",
              "56            300           128               32         0.862382\n",
              "60            300           200               32         0.862284\n",
              "57            300           128               64         0.861965\n",
              "32            200            32               32         0.861498\n",
              "..            ...           ...              ...              ...\n",
              "22            100            64              128         0.846328\n",
              "5              64            64               64         0.845837\n",
              "59            300           128              200         0.844879\n",
              "7              64            64              200         0.843897\n",
              "43            200           128              200         0.840902\n",
              "\n",
              "[64 rows x 4 columns]"
            ]
          },
          "metadata": {
            "tags": []
          },
          "execution_count": 78
        }
      ]
    },
    {
      "cell_type": "code",
      "metadata": {
        "colab": {
          "base_uri": "https://localhost:8080/"
        },
        "id": "bJ4Yn07iQ7co",
        "outputId": "41f31861-508f-4d19-aea0-298a36a4c93c"
      },
      "source": [
        "working_dir = '/content'\n",
        "import atomsci.ddm.pipeline.compare_models as cmp\n",
        "model_class =cmp.copy_best_filesystem_models(pred_type=\"classification\", dest_dir=working_dir, \n",
        "                                result_dir='ampl_output', force_update=False)\n",
        "model_class.to_csv('best_class_model.csv')"
      ],
      "execution_count": null,
      "outputs": [
        {
          "output_type": "stream",
          "text": [
            "Found data for 130 models under ampl_output\n",
            "Copied HTR2A_cur_model_5212395d-7d0a-4636-8670-5fe9499df1e4.tar.gz\n"
          ],
          "name": "stdout"
        }
      ]
    },
    {
      "cell_type": "code",
      "metadata": {
        "colab": {
          "base_uri": "https://localhost:8080/"
        },
        "id": "EZhZDMXQRdIw",
        "outputId": "0232e606-5d26-479b-d86b-e50a15838121"
      },
      "source": [
        "estimators = [64]\n",
        "depth=[200]\n",
        "features=[64]\n",
        "\n",
        "rfe_list = []\n",
        "rfd_list = []\n",
        "rff_list = []\n",
        "valid_auc_list = []\n",
        "for rf_estimator in estimators:\n",
        "    for rf_depth in depth:\n",
        "        for rf_feature in features:\n",
        "            params[\"rf_estimators\"] = rf_estimator\n",
        "            params[\"rf_max_depth\"] = rf_depth\n",
        "            params[\"rf_max_features\"] = rf_feature\n",
        "            rfe_list.append(rf_estimator)\n",
        "            rfd_list.append(rf_depth)\n",
        "            rff_list.append(rf_feature)\n",
        "            tp = parse.wrapper(params)\n",
        "            pl = mp.ModelPipeline(tp)\n",
        "            pl.train_model()\n",
        "            pred_data = pl.model_wrapper.get_perf_data(subset=\"valid\", epoch_label=\"best\")\n",
        "            pred_results = pred_data.get_prediction_results()\n",
        "            valid_auc = pred_results['roc_auc_score']\n",
        "            valid_auc_list.append(valid_auc)\n",
        "            print(f\"rf_estimators: {rf_estimator}, rf_max_depth: {rf_depth}, rf_max_features: {rf_feature}, valid_auc: {valid_auc}\")"
      ],
      "execution_count": null,
      "outputs": [
        {
          "output_type": "stream",
          "text": [
            "number of features: 1024\n"
          ],
          "name": "stdout"
        },
        {
          "output_type": "stream",
          "text": [
            "2021-04-28 06:59:59,373 Previous dataset split restored\n",
            "2021-04-28 07:00:01,882 Wrote model metadata to file ampl_output/HTR2A_cur/RF_ecfp_scaffold_classification/0e3f1e0d-6d21-44bf-b409-588e716b0e55/model_metadata.json\n",
            "2021-04-28 07:00:01,925 Wrote model metrics to file ampl_output/HTR2A_cur/RF_ecfp_scaffold_classification/0e3f1e0d-6d21-44bf-b409-588e716b0e55/model_metrics.json\n"
          ],
          "name": "stderr"
        },
        {
          "output_type": "stream",
          "text": [
            "Wrote model tarball to ampl_output/HTR2A_cur_model_0e3f1e0d-6d21-44bf-b409-588e716b0e55.tar.gz\n",
            "rf_estimators: 64, rf_max_depth: 200, rf_max_features: 64, valid_auc: 0.8526364886095837\n"
          ],
          "name": "stdout"
        }
      ]
    },
    {
      "cell_type": "code",
      "metadata": {
        "colab": {
          "base_uri": "https://localhost:8080/"
        },
        "id": "O6cL-lDORsZ0",
        "outputId": "e0364afa-6f7e-480f-f87e-2f9070a2dc0d"
      },
      "source": [
        "estimators = [300]\n",
        "depth=[200]\n",
        "features=[64]\n",
        "\n",
        "rfe_list = []\n",
        "rfd_list = []\n",
        "rff_list = []\n",
        "valid_auc_list = []\n",
        "for rf_estimator in estimators:\n",
        "    for rf_depth in depth:\n",
        "        for rf_feature in features:\n",
        "            params[\"rf_estimators\"] = rf_estimator\n",
        "            params[\"rf_max_depth\"] = rf_depth\n",
        "            params[\"rf_max_features\"] = rf_feature\n",
        "            rfe_list.append(rf_estimator)\n",
        "            rfd_list.append(rf_depth)\n",
        "            rff_list.append(rf_feature)\n",
        "            tp = parse.wrapper(params)\n",
        "            pl = mp.ModelPipeline(tp)\n",
        "            pl.train_model()\n",
        "            pred_data = pl.model_wrapper.get_perf_data(subset=\"valid\", epoch_label=\"best\")\n",
        "            pred_results = pred_data.get_prediction_results()\n",
        "            valid_auc = pred_results['roc_auc_score']\n",
        "            valid_auc_list.append(valid_auc)\n",
        "            print(f\"rf_estimators: {rf_estimator}, rf_max_depth: {rf_depth}, rf_max_features: {rf_feature}, valid_auc: {valid_auc}\")"
      ],
      "execution_count": null,
      "outputs": [
        {
          "output_type": "stream",
          "text": [
            "number of features: 1024\n"
          ],
          "name": "stdout"
        },
        {
          "output_type": "stream",
          "text": [
            "2021-04-28 07:01:47,664 Previous dataset split restored\n",
            "2021-04-28 07:01:54,596 Wrote model metadata to file ampl_output/HTR2A_cur/RF_ecfp_scaffold_classification/0159cd28-3045-47ed-9624-ddd5f6608133/model_metadata.json\n",
            "2021-04-28 07:01:54,773 Wrote model metrics to file ampl_output/HTR2A_cur/RF_ecfp_scaffold_classification/0159cd28-3045-47ed-9624-ddd5f6608133/model_metrics.json\n"
          ],
          "name": "stderr"
        },
        {
          "output_type": "stream",
          "text": [
            "Wrote model tarball to ampl_output/HTR2A_cur_model_0159cd28-3045-47ed-9624-ddd5f6608133.tar.gz\n",
            "rf_estimators: 300, rf_max_depth: 200, rf_max_features: 64, valid_auc: 0.8574234092694424\n"
          ],
          "name": "stdout"
        }
      ]
    },
    {
      "cell_type": "markdown",
      "metadata": {
        "id": "IV1rcybRTMEI"
      },
      "source": [
        "Using data from Zhang Zhen"
      ]
    },
    {
      "cell_type": "code",
      "metadata": {
        "id": "6WhVypY0TLm7"
      },
      "source": [
        "\n",
        "from atomsci.ddm.pipeline import predict_from_model"
      ],
      "execution_count": null,
      "outputs": []
    },
    {
      "cell_type": "code",
      "metadata": {
        "colab": {
          "base_uri": "https://localhost:8080/"
        },
        "id": "A6FmYBDrSO7a",
        "outputId": "0d17c2e9-cfe5-4bb4-93d8-3713ada701c6"
      },
      "source": [
        "!wget https://raw.githubusercontent.com/ZhenZhangz/E4511/main/curated_combined_df1.csv"
      ],
      "execution_count": null,
      "outputs": [
        {
          "output_type": "stream",
          "text": [
            "--2021-04-28 07:06:53--  https://raw.githubusercontent.com/ZhenZhangz/E4511/main/curated_combined_df1.csv\n",
            "Resolving raw.githubusercontent.com (raw.githubusercontent.com)... 185.199.109.133, 185.199.111.133, 185.199.108.133, ...\n",
            "Connecting to raw.githubusercontent.com (raw.githubusercontent.com)|185.199.109.133|:443... connected.\n",
            "HTTP request sent, awaiting response... 200 OK\n",
            "Length: 451850 (441K) [text/plain]\n",
            "Saving to: ‘curated_combined_df1.csv’\n",
            "\n",
            "\rcurated_combined_df   0%[                    ]       0  --.-KB/s               \rcurated_combined_df 100%[===================>] 441.26K  --.-KB/s    in 0.04s   \n",
            "\n",
            "2021-04-28 07:06:53 (11.6 MB/s) - ‘curated_combined_df1.csv’ saved [451850/451850]\n",
            "\n"
          ],
          "name": "stdout"
        }
      ]
    },
    {
      "cell_type": "code",
      "metadata": {
        "id": "Cu1ModOSTT0D"
      },
      "source": [
        "Zhen = pd.read_csv('curated_combined_df1.csv',index_col=0)"
      ],
      "execution_count": null,
      "outputs": []
    },
    {
      "cell_type": "code",
      "metadata": {
        "id": "Nw112sCfTa6n"
      },
      "source": [
        "Zhen_no_overlap=Zhen[~Zhen.base_rdkit_smiles.isin(h1.base_rdkit_smiles)]"
      ],
      "execution_count": null,
      "outputs": []
    },
    {
      "cell_type": "code",
      "metadata": {
        "colab": {
          "base_uri": "https://localhost:8080/"
        },
        "id": "AMUonqFZTfb4",
        "outputId": "e38da27f-3672-49c6-fdc0-4ba99a958fd6"
      },
      "source": [
        "\n",
        "# Test loading model from tarball and running predictions\n",
        "test = predict_from_model.predict_from_model_file(model_path='ampl_output/HTR2A_cur_model_0159cd28-3045-47ed-9624-ddd5f6608133.tar.gz',\n",
        "                            input_df = Zhen_no_overlap,\n",
        "                            id_col='compound_id',\n",
        "                            smiles_col='base_rdkit_smiles',\n",
        "                            response_col='active',\n",
        "                            is_featurized=False,\n",
        "                            dont_standardize=True)"
      ],
      "execution_count": null,
      "outputs": [
        {
          "output_type": "stream",
          "text": [
            "Featurization = DynamicFeaturization with ecfp features\n",
            "number of features: 1024\n"
          ],
          "name": "stdout"
        }
      ]
    },
    {
      "cell_type": "code",
      "metadata": {
        "colab": {
          "base_uri": "https://localhost:8080/",
          "height": 419
        },
        "id": "CriQx4tdUAHL",
        "outputId": "0fc9b052-6ae9-4fc8-d375-06e18556a6aa"
      },
      "source": [
        "test"
      ],
      "execution_count": null,
      "outputs": [
        {
          "output_type": "execute_result",
          "data": {
            "text/html": [
              "<div>\n",
              "<style scoped>\n",
              "    .dataframe tbody tr th:only-of-type {\n",
              "        vertical-align: middle;\n",
              "    }\n",
              "\n",
              "    .dataframe tbody tr th {\n",
              "        vertical-align: top;\n",
              "    }\n",
              "\n",
              "    .dataframe thead th {\n",
              "        text-align: right;\n",
              "    }\n",
              "</style>\n",
              "<table border=\"1\" class=\"dataframe\">\n",
              "  <thead>\n",
              "    <tr style=\"text-align: right;\">\n",
              "      <th></th>\n",
              "      <th>compound_id</th>\n",
              "      <th>base_rdkit_smiles</th>\n",
              "      <th>active_actual</th>\n",
              "      <th>active_prob</th>\n",
              "      <th>active_pred</th>\n",
              "    </tr>\n",
              "  </thead>\n",
              "  <tbody>\n",
              "    <tr>\n",
              "      <th>3630</th>\n",
              "      <td>10048342</td>\n",
              "      <td>CCN1C(=O)COc2ccc(CCN3CCN(c4cccc5nc(C)ccc45)CC3...</td>\n",
              "      <td>1.0</td>\n",
              "      <td>0.206667</td>\n",
              "      <td>0</td>\n",
              "    </tr>\n",
              "    <tr>\n",
              "      <th>3994</th>\n",
              "      <td>10062443</td>\n",
              "      <td>C=Cc1ccc(Sc2ccccc2CN(C)C)c(N)c1</td>\n",
              "      <td>1.0</td>\n",
              "      <td>0.223333</td>\n",
              "      <td>0</td>\n",
              "    </tr>\n",
              "    <tr>\n",
              "      <th>3437</th>\n",
              "      <td>10071738</td>\n",
              "      <td>Cc1ccc2c(N3CCN(CCc4ccc5c(c4)NC(=O)CO5)CC3)cc(C...</td>\n",
              "      <td>1.0</td>\n",
              "      <td>0.435556</td>\n",
              "      <td>0</td>\n",
              "    </tr>\n",
              "    <tr>\n",
              "      <th>4078</th>\n",
              "      <td>10073139</td>\n",
              "      <td>O=C1COc2ccc(CCN3CCN(c4cccc5nc(-c6ccccc6)ccc45)...</td>\n",
              "      <td>1.0</td>\n",
              "      <td>0.533333</td>\n",
              "      <td>1</td>\n",
              "    </tr>\n",
              "    <tr>\n",
              "      <th>3964</th>\n",
              "      <td>10086952</td>\n",
              "      <td>CNCC[C@H](Oc1cccc2cc(O)ccc12)c1cccs1</td>\n",
              "      <td>1.0</td>\n",
              "      <td>0.306667</td>\n",
              "      <td>0</td>\n",
              "    </tr>\n",
              "    <tr>\n",
              "      <th>...</th>\n",
              "      <td>...</td>\n",
              "      <td>...</td>\n",
              "      <td>...</td>\n",
              "      <td>...</td>\n",
              "      <td>...</td>\n",
              "    </tr>\n",
              "    <tr>\n",
              "      <th>3345</th>\n",
              "      <td>CHEMBL9925</td>\n",
              "      <td>COc1cccc2c1CCC[C@H]2CN(C)CCc1ccc2ocnc2c1</td>\n",
              "      <td>1.0</td>\n",
              "      <td>0.396611</td>\n",
              "      <td>0</td>\n",
              "    </tr>\n",
              "    <tr>\n",
              "      <th>855</th>\n",
              "      <td>CHEMBL99653</td>\n",
              "      <td>CN(C)CC(c1cccc(C(F)(F)F)c1)C1(O)CCCCC1</td>\n",
              "      <td>1.0</td>\n",
              "      <td>0.106667</td>\n",
              "      <td>0</td>\n",
              "    </tr>\n",
              "    <tr>\n",
              "      <th>3956</th>\n",
              "      <td>CHEMBL99670</td>\n",
              "      <td>Cc1ccc(C(CN(C)C)C2(O)CCCCC2)cc1</td>\n",
              "      <td>1.0</td>\n",
              "      <td>0.331667</td>\n",
              "      <td>0</td>\n",
              "    </tr>\n",
              "    <tr>\n",
              "      <th>3902</th>\n",
              "      <td>CHEMBL9974</td>\n",
              "      <td>COc1cccc2c1CCC[C@H]2CN(C)CCc1ccc2c(c1)N(S(=O)(...</td>\n",
              "      <td>1.0</td>\n",
              "      <td>0.314444</td>\n",
              "      <td>0</td>\n",
              "    </tr>\n",
              "    <tr>\n",
              "      <th>2342</th>\n",
              "      <td>CHEMBL99916</td>\n",
              "      <td>COc1cc2c(cc1OC)C1=NO[C@@H](CN3CCN(C/C(C)=C/c4c...</td>\n",
              "      <td>1.0</td>\n",
              "      <td>0.316667</td>\n",
              "      <td>0</td>\n",
              "    </tr>\n",
              "  </tbody>\n",
              "</table>\n",
              "<p>4697 rows × 5 columns</p>\n",
              "</div>"
            ],
            "text/plain": [
              "      compound_id  ... active_pred\n",
              "3630     10048342  ...           0\n",
              "3994     10062443  ...           0\n",
              "3437     10071738  ...           0\n",
              "4078     10073139  ...           1\n",
              "3964     10086952  ...           0\n",
              "...           ...  ...         ...\n",
              "3345   CHEMBL9925  ...           0\n",
              "855   CHEMBL99653  ...           0\n",
              "3956  CHEMBL99670  ...           0\n",
              "3902   CHEMBL9974  ...           0\n",
              "2342  CHEMBL99916  ...           0\n",
              "\n",
              "[4697 rows x 5 columns]"
            ]
          },
          "metadata": {
            "tags": []
          },
          "execution_count": 98
        }
      ]
    },
    {
      "cell_type": "code",
      "metadata": {
        "colab": {
          "base_uri": "https://localhost:8080/",
          "height": 190
        },
        "id": "aXtalKW5UsYw",
        "outputId": "e2760334-3f07-4ee6-b008-1104617ca3c4"
      },
      "source": [
        "confusion = pd.crosstab(test.active_actual,test.active_pred, rownames=['actual'],colnames=['predicted'],margins=True)\n",
        "display(confusion)\n",
        "print('accuracy is', (confusion.at[0,0]+confusion.at[1,1])/confusion.at['All','All'])"
      ],
      "execution_count": null,
      "outputs": [
        {
          "output_type": "display_data",
          "data": {
            "text/html": [
              "<div>\n",
              "<style scoped>\n",
              "    .dataframe tbody tr th:only-of-type {\n",
              "        vertical-align: middle;\n",
              "    }\n",
              "\n",
              "    .dataframe tbody tr th {\n",
              "        vertical-align: top;\n",
              "    }\n",
              "\n",
              "    .dataframe thead th {\n",
              "        text-align: right;\n",
              "    }\n",
              "</style>\n",
              "<table border=\"1\" class=\"dataframe\">\n",
              "  <thead>\n",
              "    <tr style=\"text-align: right;\">\n",
              "      <th>predicted</th>\n",
              "      <th>0</th>\n",
              "      <th>1</th>\n",
              "      <th>All</th>\n",
              "    </tr>\n",
              "    <tr>\n",
              "      <th>actual</th>\n",
              "      <th></th>\n",
              "      <th></th>\n",
              "      <th></th>\n",
              "    </tr>\n",
              "  </thead>\n",
              "  <tbody>\n",
              "    <tr>\n",
              "      <th>0.0</th>\n",
              "      <td>673</td>\n",
              "      <td>74</td>\n",
              "      <td>747</td>\n",
              "    </tr>\n",
              "    <tr>\n",
              "      <th>1.0</th>\n",
              "      <td>3515</td>\n",
              "      <td>435</td>\n",
              "      <td>3950</td>\n",
              "    </tr>\n",
              "    <tr>\n",
              "      <th>All</th>\n",
              "      <td>4188</td>\n",
              "      <td>509</td>\n",
              "      <td>4697</td>\n",
              "    </tr>\n",
              "  </tbody>\n",
              "</table>\n",
              "</div>"
            ],
            "text/plain": [
              "predicted     0    1   All\n",
              "actual                    \n",
              "0.0         673   74   747\n",
              "1.0        3515  435  3950\n",
              "All        4188  509  4697"
            ]
          },
          "metadata": {
            "tags": []
          }
        },
        {
          "output_type": "stream",
          "text": [
            "accuracy is 0.2358952522886949\n"
          ],
          "name": "stdout"
        }
      ]
    },
    {
      "cell_type": "code",
      "metadata": {
        "colab": {
          "base_uri": "https://localhost:8080/"
        },
        "id": "A8Mbgrd3VOsh",
        "outputId": "912de22d-b2c8-4160-ab32-db36cb4dc886"
      },
      "source": [
        "from sklearn.metrics import r2_score, mean_squared_error,roc_auc_score\n",
        "print(roc_auc_score(test.active_actual,test.active_pred))"
      ],
      "execution_count": null,
      "outputs": [
        {
          "output_type": "stream",
          "text": [
            "0.5055318319692271\n"
          ],
          "name": "stdout"
        }
      ]
    },
    {
      "cell_type": "code",
      "metadata": {
        "id": "E223vq0BVkZp"
      },
      "source": [
        ""
      ],
      "execution_count": null,
      "outputs": []
    }
  ]
}